{
 "cells": [
  {
   "cell_type": "markdown",
   "metadata": {},
   "source": [
    "## Case Study \"Cars4U Project\" : Factors Influencing Price of Used Cars using Linear Regression"
   ]
  },
  {
   "cell_type": "markdown",
   "metadata": {},
   "source": [
    "## Context: \n",
    "    \n",
    "- There is a huge demand for used cars in the Indian Market today. As sales of new cars have slowed down in the recent past, the pre-owned car market has continued to grow over the past years and is larger than the new car market now. Cars4U is a budding tech start-up that aims to find footholes in this market.\n",
    "- There is a slowdown in new car sales and that could mean that the demand is shifting towards the pre-owned market. \n",
    "- Unlike new cars, where price and supply are fairly deterministic and managed by OEMs (Original Equipment Manufacturer / except for dealership level discounts which come into play only in the last stage of the customer journey), used cars are very different beasts with huge uncertainty in both pricing and supply.\n",
    "- In this case study, we have come up with a pricing model that can effectively predict the price of used cars and can help the business in devising profitable strategies using differential pricing."
   ]
  },
  {
   "cell_type": "markdown",
   "metadata": {},
   "source": [
    "## Problem:\n",
    "\n",
    "**key questions:**\n",
    "\n",
    "- What are the factors present in dataset, contribute in the price of used cars.\n",
    "- Does car brand matter in the used cars market?\n",
    "- In which places (Locations) used cars are sold more?\n",
    "- How Fuel type, Transmission, Power, number of seats matter in determining the price of used cars?\n",
    "- How ownership affects the sale of used cars? Do certain level of ownerships are preferred in used\n",
    "  cars market?\n",
    "- How does Year of Manufacture affect the used car price?\n",
    "- What is the correlation between each column?"
   ]
  },
  {
   "cell_type": "markdown",
   "metadata": {},
   "source": [
    "## Attribute Information:\n",
    " \n",
    "\n",
    "- S.No. : Serial Number\n",
    "- Name : Name of the car which includes Brand name and Model name\n",
    "- Location : The location in which the car is being sold or is available for purchase Cities\n",
    "- Year : Manufacturing year of the car\n",
    "- Kilometers_driven : The total kilometers driven in the car by the previous owner(s) in KM.\n",
    "- Fuel_Type : The type of fuel used by the car. (Petrol, Diesel, Electric, CNG, LPG)\n",
    "- Transmission : The type of transmission used by the car. (Automatic / Manual)\n",
    "- Owner : Type of ownership\n",
    "- Mileage : The standard mileage offered by the car company in kmpl or km/kg\n",
    "- Engine : The displacement volume of the engine in CC.\n",
    "- Power : The maximum power of the engine in bhp.\n",
    "- Seats : The number of seats in the car.\n",
    "- New_Price : The price of a new car of the same model in INR Lakhs.(1 Lakh = 100, 000)\n",
    "- Price : The price of the used car in INR Lakhs (1 Lakh = 100, 000)"
   ]
  },
  {
   "cell_type": "code",
   "execution_count": 1,
   "metadata": {},
   "outputs": [],
   "source": [
    "#Import libraries\n",
    "import pandas as pd\n",
    "import numpy as np\n",
    "import matplotlib.pyplot as plt\n",
    "import seaborn as sns\n",
    "# Removes the limit from the number of displayed columns and rows, so we can see the entire dataframe when printed.\n",
    "pd.set_option('display.max_columns', None)\n",
    "from matplotlib.pyplot import figure"
   ]
  },
  {
   "cell_type": "code",
   "execution_count": 2,
   "metadata": {},
   "outputs": [],
   "source": [
    "#Imports for Data Preprocessing\n",
    "from sklearn.preprocessing import StandardScaler, MinMaxScaler\n",
    "from sklearn.preprocessing import OneHotEncoder\n",
    "\n",
    "#Import for Model Building\n",
    "from sklearn.linear_model import LinearRegression\n",
    "from sklearn.model_selection import train_test_split # Sklearn package's randomized data splitting function\n",
    "\n",
    "# To check model performance\n",
    "from sklearn.metrics import mean_absolute_error, mean_squared_error, r2_score"
   ]
  },
  {
   "cell_type": "markdown",
   "metadata": {},
   "source": [
    "### Load and explore data"
   ]
  },
  {
   "cell_type": "code",
   "execution_count": 3,
   "metadata": {},
   "outputs": [
    {
     "name": "stdout",
     "output_type": "stream",
     "text": [
      "There are 7253 rows and 14 columns.\n"
     ]
    }
   ],
   "source": [
    "#Import \"used_cars_data\" dataset\n",
    "df = pd.read_csv(\"used_cars_data.csv\")\n",
    "print(f'There are {df.shape[0]} rows and {df.shape[1]} columns.')"
   ]
  },
  {
   "cell_type": "code",
   "execution_count": 4,
   "metadata": {},
   "outputs": [
    {
     "data": {
      "text/html": [
       "<div>\n",
       "<style scoped>\n",
       "    .dataframe tbody tr th:only-of-type {\n",
       "        vertical-align: middle;\n",
       "    }\n",
       "\n",
       "    .dataframe tbody tr th {\n",
       "        vertical-align: top;\n",
       "    }\n",
       "\n",
       "    .dataframe thead th {\n",
       "        text-align: right;\n",
       "    }\n",
       "</style>\n",
       "<table border=\"1\" class=\"dataframe\">\n",
       "  <thead>\n",
       "    <tr style=\"text-align: right;\">\n",
       "      <th></th>\n",
       "      <th>S.No.</th>\n",
       "      <th>Name</th>\n",
       "      <th>Location</th>\n",
       "      <th>Year</th>\n",
       "      <th>Kilometers_Driven</th>\n",
       "      <th>Fuel_Type</th>\n",
       "      <th>Transmission</th>\n",
       "      <th>Owner_Type</th>\n",
       "      <th>Mileage</th>\n",
       "      <th>Engine</th>\n",
       "      <th>Power</th>\n",
       "      <th>Seats</th>\n",
       "      <th>New_Price</th>\n",
       "      <th>Price</th>\n",
       "    </tr>\n",
       "  </thead>\n",
       "  <tbody>\n",
       "    <tr>\n",
       "      <th>0</th>\n",
       "      <td>0</td>\n",
       "      <td>Maruti Wagon R LXI CNG</td>\n",
       "      <td>Mumbai</td>\n",
       "      <td>2010</td>\n",
       "      <td>72000</td>\n",
       "      <td>CNG</td>\n",
       "      <td>Manual</td>\n",
       "      <td>First</td>\n",
       "      <td>26.6 km/kg</td>\n",
       "      <td>998 CC</td>\n",
       "      <td>58.16 bhp</td>\n",
       "      <td>5.0</td>\n",
       "      <td>NaN</td>\n",
       "      <td>1.75</td>\n",
       "    </tr>\n",
       "    <tr>\n",
       "      <th>1</th>\n",
       "      <td>1</td>\n",
       "      <td>Hyundai Creta 1.6 CRDi SX Option</td>\n",
       "      <td>Pune</td>\n",
       "      <td>2015</td>\n",
       "      <td>41000</td>\n",
       "      <td>Diesel</td>\n",
       "      <td>Manual</td>\n",
       "      <td>First</td>\n",
       "      <td>19.67 kmpl</td>\n",
       "      <td>1582 CC</td>\n",
       "      <td>126.2 bhp</td>\n",
       "      <td>5.0</td>\n",
       "      <td>NaN</td>\n",
       "      <td>12.50</td>\n",
       "    </tr>\n",
       "    <tr>\n",
       "      <th>2</th>\n",
       "      <td>2</td>\n",
       "      <td>Honda Jazz V</td>\n",
       "      <td>Chennai</td>\n",
       "      <td>2011</td>\n",
       "      <td>46000</td>\n",
       "      <td>Petrol</td>\n",
       "      <td>Manual</td>\n",
       "      <td>First</td>\n",
       "      <td>18.2 kmpl</td>\n",
       "      <td>1199 CC</td>\n",
       "      <td>88.7 bhp</td>\n",
       "      <td>5.0</td>\n",
       "      <td>8.61 Lakh</td>\n",
       "      <td>4.50</td>\n",
       "    </tr>\n",
       "    <tr>\n",
       "      <th>3</th>\n",
       "      <td>3</td>\n",
       "      <td>Maruti Ertiga VDI</td>\n",
       "      <td>Chennai</td>\n",
       "      <td>2012</td>\n",
       "      <td>87000</td>\n",
       "      <td>Diesel</td>\n",
       "      <td>Manual</td>\n",
       "      <td>First</td>\n",
       "      <td>20.77 kmpl</td>\n",
       "      <td>1248 CC</td>\n",
       "      <td>88.76 bhp</td>\n",
       "      <td>7.0</td>\n",
       "      <td>NaN</td>\n",
       "      <td>6.00</td>\n",
       "    </tr>\n",
       "    <tr>\n",
       "      <th>4</th>\n",
       "      <td>4</td>\n",
       "      <td>Audi A4 New 2.0 TDI Multitronic</td>\n",
       "      <td>Coimbatore</td>\n",
       "      <td>2013</td>\n",
       "      <td>40670</td>\n",
       "      <td>Diesel</td>\n",
       "      <td>Automatic</td>\n",
       "      <td>Second</td>\n",
       "      <td>15.2 kmpl</td>\n",
       "      <td>1968 CC</td>\n",
       "      <td>140.8 bhp</td>\n",
       "      <td>5.0</td>\n",
       "      <td>NaN</td>\n",
       "      <td>17.74</td>\n",
       "    </tr>\n",
       "  </tbody>\n",
       "</table>\n",
       "</div>"
      ],
      "text/plain": [
       "   S.No.                              Name    Location  Year  \\\n",
       "0      0            Maruti Wagon R LXI CNG      Mumbai  2010   \n",
       "1      1  Hyundai Creta 1.6 CRDi SX Option        Pune  2015   \n",
       "2      2                      Honda Jazz V     Chennai  2011   \n",
       "3      3                 Maruti Ertiga VDI     Chennai  2012   \n",
       "4      4   Audi A4 New 2.0 TDI Multitronic  Coimbatore  2013   \n",
       "\n",
       "   Kilometers_Driven Fuel_Type Transmission Owner_Type     Mileage   Engine  \\\n",
       "0              72000       CNG       Manual      First  26.6 km/kg   998 CC   \n",
       "1              41000    Diesel       Manual      First  19.67 kmpl  1582 CC   \n",
       "2              46000    Petrol       Manual      First   18.2 kmpl  1199 CC   \n",
       "3              87000    Diesel       Manual      First  20.77 kmpl  1248 CC   \n",
       "4              40670    Diesel    Automatic     Second   15.2 kmpl  1968 CC   \n",
       "\n",
       "       Power  Seats  New_Price  Price  \n",
       "0  58.16 bhp    5.0        NaN   1.75  \n",
       "1  126.2 bhp    5.0        NaN  12.50  \n",
       "2   88.7 bhp    5.0  8.61 Lakh   4.50  \n",
       "3  88.76 bhp    7.0        NaN   6.00  \n",
       "4  140.8 bhp    5.0        NaN  17.74  "
      ]
     },
     "execution_count": 4,
     "metadata": {},
     "output_type": "execute_result"
    }
   ],
   "source": [
    "#Print the first 10 rows of the dataset\n",
    "df.head()"
   ]
  },
  {
   "cell_type": "markdown",
   "metadata": {},
   "source": [
    "### Observations:\n",
    "\n",
    "- There are 14 columns and 7253 rows.\n",
    "- S.No. column is like index, we can drop this column later.\n",
    "- MIleage column has units -kmpl and km/kg\n",
    "- Engine column has unit CC\n",
    "- Power column has unit bhp\n",
    "- New_Price column has units Lakh and Cr.\n",
    "- Name column has car brand name as well as model, we will need to extract these from the column\n",
    "  later."
   ]
  },
  {
   "cell_type": "code",
   "execution_count": 5,
   "metadata": {},
   "outputs": [
    {
     "name": "stdout",
     "output_type": "stream",
     "text": [
      "<class 'pandas.core.frame.DataFrame'>\n",
      "RangeIndex: 7253 entries, 0 to 7252\n",
      "Data columns (total 14 columns):\n",
      " #   Column             Non-Null Count  Dtype  \n",
      "---  ------             --------------  -----  \n",
      " 0   S.No.              7253 non-null   int64  \n",
      " 1   Name               7253 non-null   object \n",
      " 2   Location           7253 non-null   object \n",
      " 3   Year               7253 non-null   int64  \n",
      " 4   Kilometers_Driven  7253 non-null   int64  \n",
      " 5   Fuel_Type          7253 non-null   object \n",
      " 6   Transmission       7253 non-null   object \n",
      " 7   Owner_Type         7253 non-null   object \n",
      " 8   Mileage            7251 non-null   object \n",
      " 9   Engine             7207 non-null   object \n",
      " 10  Power              7207 non-null   object \n",
      " 11  Seats              7200 non-null   float64\n",
      " 12  New_Price          1006 non-null   object \n",
      " 13  Price              6019 non-null   float64\n",
      "dtypes: float64(2), int64(3), object(9)\n",
      "memory usage: 793.4+ KB\n"
     ]
    }
   ],
   "source": [
    "#Check Datatypes of the columns and null counts\n",
    "df.info()"
   ]
  },
  {
   "cell_type": "markdown",
   "metadata": {},
   "source": [
    "### Observations:\n",
    "\n",
    "- Once we remove units from Mileage, Engine, Power, New_Price, these columns can be converted into float datatype.\n",
    "\n",
    "- Columns Mileage, Engine, Power, Seats, New_Price and Price contain null values.\n"
   ]
  },
  {
   "cell_type": "markdown",
   "metadata": {},
   "source": [
    "### Let's remove the units from the columns."
   ]
  },
  {
   "cell_type": "markdown",
   "metadata": {},
   "source": [
    "### Remove units from Mileage"
   ]
  },
  {
   "cell_type": "code",
   "execution_count": 6,
   "metadata": {},
   "outputs": [
    {
     "name": "stdout",
     "output_type": "stream",
     "text": [
      "['Mileage']\n"
     ]
    }
   ],
   "source": [
    "#Now lets take care of the units of Milege column\n",
    "\n",
    "#This function lists the columns that have mileage units (km/kg or kmpl)\n",
    "milege_cols = []\n",
    "for colname in df.columns[df.dtypes == 'object']:  # only need to consider string columns with unit\n",
    "    if (df[colname].str.endswith('km/kg').any() or df[colname].str.endswith('kmpl').any()):  # using `.str` so we can use an element-wise string method\n",
    "        milege_cols.append(colname)\n",
    "print(milege_cols)  "
   ]
  },
  {
   "cell_type": "code",
   "execution_count": 7,
   "metadata": {},
   "outputs": [],
   "source": [
    "#Since km/kg=kmpl (1 litre=1 kilogram) we can just remove the unit as everything in same unit, no need of conversion.\n",
    "def mileage_to_num(mileage_val):\n",
    "    if isinstance(mileage_val, str):\n",
    "        return (mileage_val.replace('kmpl', '').replace('km/kg', '').replace(' km/kg', '').replace(' kmpl', ''))\n",
    "    else:\n",
    "        return np.nan\n",
    "\n",
    "for colname in milege_cols:\n",
    "    df[colname] = df[colname].apply(mileage_to_num)"
   ]
  },
  {
   "cell_type": "markdown",
   "metadata": {},
   "source": [
    "### Remove units from Power"
   ]
  },
  {
   "cell_type": "code",
   "execution_count": 8,
   "metadata": {},
   "outputs": [
    {
     "name": "stdout",
     "output_type": "stream",
     "text": [
      "['Power']\n"
     ]
    }
   ],
   "source": [
    "#Now lets take care of the units of Power column\n",
    "#This function lists the columns that have power units (bhp)\n",
    "\n",
    "power_cols = []\n",
    "for colname in df.columns[df.dtypes == 'object']:  # only need to consider string columns with unit\n",
    "    if df[colname].str.endswith('bhp').any():  # using `.str` so we can use an element-wise string method\n",
    "        power_cols.append(colname)\n",
    "print(power_cols)  "
   ]
  },
  {
   "cell_type": "code",
   "execution_count": 9,
   "metadata": {},
   "outputs": [],
   "source": [
    "#We can just remove the unit (bhp), since there is no other unit, no need of conversion.\n",
    "def power_to_num(power_val):\n",
    "    if isinstance(power_val, str):\n",
    "        return (power_val.replace('bhp', ''))\n",
    "    else:\n",
    "        return np.nan\n",
    "\n",
    "for colname in power_cols:\n",
    "    df[colname] = df[colname].apply(power_to_num)"
   ]
  },
  {
   "cell_type": "markdown",
   "metadata": {},
   "source": [
    "### Remove units from New_price"
   ]
  },
  {
   "cell_type": "code",
   "execution_count": 10,
   "metadata": {},
   "outputs": [
    {
     "name": "stdout",
     "output_type": "stream",
     "text": [
      "['New_Price']\n"
     ]
    }
   ],
   "source": [
    "#Now lets take care of the units of Price column\n",
    "#This function lists the columns that have price units (Lakh or Cr)\n",
    "\n",
    "price_cols = []\n",
    "for colname in df.columns[df.dtypes == 'object']:  # only need to consider string columns\n",
    "    if (df[colname].str.endswith('Lakh').any() or df[colname].str.endswith('Cr').any() or df[colname].str.endswith('Lakhs').any()):  # using `.str` so we can use an element-wise string method\n",
    "        price_cols.append(colname)\n",
    "print(price_cols)\n",
    "    "
   ]
  },
  {
   "cell_type": "code",
   "execution_count": 11,
   "metadata": {},
   "outputs": [],
   "source": [
    "#Convert Cr to Lakh, so that all the prices are in Lakh, later we remove the unit after conversion.\n",
    "def price_to_num(price_val):\n",
    "    if isinstance(price_val, str):\n",
    "        multiplier=1\n",
    "        if price_val.endswith('Cr'):\n",
    "            multilpier=100\n",
    "        return float(price_val.replace('lakh', '').replace('Lakh', '').replace('Cr', '')) * multiplier #return price in Lakh with float datatype\n",
    "    else:\n",
    "        return np.nan\n",
    "\n",
    "for colname in price_cols:\n",
    "    df[colname] = df[colname].apply(price_to_num)"
   ]
  },
  {
   "cell_type": "markdown",
   "metadata": {},
   "source": [
    "### Remove units from Engine"
   ]
  },
  {
   "cell_type": "code",
   "execution_count": 12,
   "metadata": {},
   "outputs": [
    {
     "name": "stdout",
     "output_type": "stream",
     "text": [
      "['Engine']\n"
     ]
    }
   ],
   "source": [
    "#Now lets take care of the units of Engine column\n",
    "#This function lists the columns that have Engine displacement volume units (CC)\n",
    "engine_cols = []\n",
    "for colname in df.columns[df.dtypes == 'object']:  # only need to consider string columns\n",
    "    if (df[colname].str.endswith('CC').any()):  # using `.str` so I can use an element-wise string method\n",
    "        engine_cols.append(colname)\n",
    "print(engine_cols)\n",
    "    "
   ]
  },
  {
   "cell_type": "code",
   "execution_count": 13,
   "metadata": {},
   "outputs": [],
   "source": [
    "#Remove the unit 'CC', since all values are in same unit, no need of conversion.\n",
    "def engine_to_num(engine_val):\n",
    "    if isinstance(engine_val, str):\n",
    "        return (engine_val.replace('CC', '').replace(' CC',''))\n",
    "    else:\n",
    "        return np.nan\n",
    "\n",
    "for colname in engine_cols:\n",
    "    df[colname] = df[colname].apply(engine_to_num)\n"
   ]
  },
  {
   "cell_type": "markdown",
   "metadata": {},
   "source": [
    "### Convert datatypes of Engine, Mileage, Power"
   ]
  },
  {
   "cell_type": "code",
   "execution_count": 14,
   "metadata": {},
   "outputs": [],
   "source": [
    "#Convert Engine displacement volume column to float\n",
    "df['Engine']=df['Engine'].astype(float)\n",
    "#Convert Mileage to float data type\n",
    "df['Mileage']=df['Mileage'].astype(float)\n",
    "\n",
    "#Replace na with np.nan in Power column and convert to float\n",
    "df['Power'].fillna((np.nan), inplace=True)\n",
    "df['Power']=df['Power'].replace('null ',np.nan)\n",
    "df['Power']=df['Power'].astype(float)"
   ]
  },
  {
   "cell_type": "markdown",
   "metadata": {},
   "source": [
    "### Extracting Company and Model of the car from the Name column"
   ]
  },
  {
   "cell_type": "code",
   "execution_count": 15,
   "metadata": {},
   "outputs": [],
   "source": [
    "company=[]\n",
    "def getcompany(name):\n",
    "    company.append(name.split(' ')[0])\n",
    "\n",
    "    \n",
    "for name in df['Name']:\n",
    "    getcompany(name)\n",
    "    \n",
    "    \n",
    "df['Company']=company"
   ]
  },
  {
   "cell_type": "markdown",
   "metadata": {},
   "source": [
    "### Observations:\n",
    "\n",
    "- Company name extracted and added as a new column 'Company' in the dataframe 'df'"
   ]
  },
  {
   "cell_type": "code",
   "execution_count": 16,
   "metadata": {},
   "outputs": [],
   "source": [
    "model=[]\n",
    "def getmodel(name):\n",
    "    \n",
    "    model.append(name.split(' ')[1])\n",
    "\n",
    "    \n",
    "for name in df['Name']:\n",
    "    getmodel(name)\n",
    "    \n",
    "\n",
    "df['Model']=model"
   ]
  },
  {
   "cell_type": "markdown",
   "metadata": {},
   "source": [
    "### Observations:\n",
    "\n",
    "- Model name extracted and added as a new column 'Model' in the dataframe 'df'"
   ]
  },
  {
   "cell_type": "markdown",
   "metadata": {},
   "source": [
    "## Treating missing values"
   ]
  },
  {
   "cell_type": "code",
   "execution_count": 17,
   "metadata": {},
   "outputs": [
    {
     "name": "stdout",
     "output_type": "stream",
     "text": [
      "Shape of df (7253, 16)\n",
      " \n",
      "Null value info of dataframe \n",
      "\n",
      "New_Price            6247\n",
      "Price                1234\n",
      "Power                 175\n",
      "Seats                  53\n",
      "Engine                 46\n",
      "Mileage                 2\n",
      "Model                   0\n",
      "Company                 0\n",
      "Owner_Type              0\n",
      "Transmission            0\n",
      "Fuel_Type               0\n",
      "Kilometers_Driven       0\n",
      "Year                    0\n",
      "Location                0\n",
      "Name                    0\n",
      "S.No.                   0\n",
      "dtype: int64\n"
     ]
    }
   ],
   "source": [
    "print(f'Shape of df {df.shape}')\n",
    "print(' ')\n",
    "print(f'Null value info of dataframe \\n\\n{df.isnull().sum().sort_values(ascending=False)}')"
   ]
  },
  {
   "cell_type": "markdown",
   "metadata": {},
   "source": [
    "### Observations:\n",
    "\n",
    "- There are missing values in columns New_Price, Price, Power, Seats, Engine and Mileage, we will need to treat these missing values."
   ]
  },
  {
   "cell_type": "code",
   "execution_count": 18,
   "metadata": {},
   "outputs": [
    {
     "name": "stdout",
     "output_type": "stream",
     "text": [
      "2\n"
     ]
    },
    {
     "data": {
      "text/plain": [
       "0"
      ]
     },
     "execution_count": 18,
     "metadata": {},
     "output_type": "execute_result"
    }
   ],
   "source": [
    "#Lets replace the missing value for Mileage, since this column is approximately normal \n",
    "print(df['Mileage'].isnull().sum())\n",
    "df['Mileage'].fillna(df['Mileage'].mean(), inplace=True)  # median imputation\n",
    "df['Mileage'].isnull().sum()"
   ]
  },
  {
   "cell_type": "code",
   "execution_count": 19,
   "metadata": {},
   "outputs": [
    {
     "name": "stdout",
     "output_type": "stream",
     "text": [
      "46\n"
     ]
    },
    {
     "data": {
      "text/plain": [
       "0"
      ]
     },
     "execution_count": 19,
     "metadata": {},
     "output_type": "execute_result"
    }
   ],
   "source": [
    "#Lets replace the missing value for Engine, since this column is highly right skewed, we can either have nan or replace the missing values with median as imputing with mean will change the data.\n",
    "print(df['Engine'].isnull().sum())\n",
    "df['Engine'].fillna(df['Engine'].median(), inplace=True)  # median imputation\n",
    "df['Engine'].isnull().sum()"
   ]
  },
  {
   "cell_type": "code",
   "execution_count": 20,
   "metadata": {},
   "outputs": [
    {
     "name": "stdout",
     "output_type": "stream",
     "text": [
      "53\n"
     ]
    },
    {
     "data": {
      "text/plain": [
       "0"
      ]
     },
     "execution_count": 20,
     "metadata": {},
     "output_type": "execute_result"
    }
   ],
   "source": [
    "#Lets replace the missing value for Seats, since this column is highly right skewed, we can either have nan or replace the missing values with median as imputing with mean will change the data.\n",
    "print(df['Seats'].isnull().sum())\n",
    "df['Seats'].fillna(df['Seats'].median(), inplace=True)  # median imputation\n",
    "df['Seats'].isnull().sum()"
   ]
  },
  {
   "cell_type": "code",
   "execution_count": 21,
   "metadata": {},
   "outputs": [
    {
     "name": "stdout",
     "output_type": "stream",
     "text": [
      "175\n"
     ]
    },
    {
     "data": {
      "text/plain": [
       "0"
      ]
     },
     "execution_count": 21,
     "metadata": {},
     "output_type": "execute_result"
    }
   ],
   "source": [
    "#Lets replace the missing value for Power, since this column is highly right skewed, we can either have nan or replace the missing values with median as imputing with mean will change the data.\n",
    "print(df['Power'].isnull().sum())\n",
    "df['Power'].fillna(df['Power'].median(), inplace=True)  # median imputation\n",
    "df['Power'].isnull().sum()"
   ]
  },
  {
   "cell_type": "code",
   "execution_count": 22,
   "metadata": {},
   "outputs": [
    {
     "name": "stdout",
     "output_type": "stream",
     "text": [
      "Median Price of New Cars by Company\n",
      "  \n",
      "Company\n",
      "Mercedes-Benz    64.140\n",
      "BMW              55.070\n",
      "Jaguar           53.720\n",
      "Audi             53.140\n",
      "Volvo            45.670\n",
      "Mini             42.120\n",
      "Isuzu            33.680\n",
      "Mitsubishi       33.210\n",
      "Skoda            31.365\n",
      "Toyota           23.250\n",
      "Jeep             22.950\n",
      "Ford             11.200\n",
      "Honda            11.150\n",
      "Mahindra         11.145\n",
      "Volkswagen       11.105\n",
      "Hyundai           9.740\n",
      "Nissan            9.510\n",
      "Fiat              8.955\n",
      "Maruti            7.870\n",
      "Tata              7.630\n",
      "Renault           4.930\n",
      "Datsun            4.370\n",
      "Bentley           3.750\n",
      "Land              1.950\n",
      "Porsche           1.360\n",
      "Ambassador          NaN\n",
      "Chevrolet           NaN\n",
      "Force               NaN\n",
      "Hindustan           NaN\n",
      "ISUZU               NaN\n",
      "Lamborghini         NaN\n",
      "OpelCorsa           NaN\n",
      "Smart               NaN\n",
      "Name: New_Price, dtype: float64\n"
     ]
    }
   ],
   "source": [
    "print('Median Price of New Cars by Company')\n",
    "print('  ')\n",
    "print(df.groupby('Company')['New_Price'].median().sort_values(ascending=False))\n"
   ]
  },
  {
   "cell_type": "markdown",
   "metadata": {},
   "source": [
    "### Observations:\n",
    "\n",
    "- Since median price for certain car companies is not present, we don't want to impute the values for New_Price for these, lets remove these rows."
   ]
  },
  {
   "cell_type": "code",
   "execution_count": 23,
   "metadata": {},
   "outputs": [],
   "source": [
    "index_names = df[ (df['Company'] == 'Ambassador') | (df['Company'] == 'Chevrolet')|(df['Company'] == 'Force') |(df['Company'] == 'Hindustan')|(df['Company'] == 'ISUZU')|(df['Company'] == 'Lamborghini')|(df['Company'] == 'OpelCorsa')|(df['Company'] == 'Smart')].index"
   ]
  },
  {
   "cell_type": "code",
   "execution_count": 24,
   "metadata": {},
   "outputs": [
    {
     "data": {
      "text/plain": [
       "162"
      ]
     },
     "execution_count": 24,
     "metadata": {},
     "output_type": "execute_result"
    }
   ],
   "source": [
    "len(index_names)"
   ]
  },
  {
   "cell_type": "markdown",
   "metadata": {},
   "source": [
    "#### Observations:\n",
    "\n",
    "- We will remove these 162 rows."
   ]
  },
  {
   "cell_type": "code",
   "execution_count": 25,
   "metadata": {},
   "outputs": [],
   "source": [
    "df.drop(index_names, inplace = True)"
   ]
  },
  {
   "cell_type": "code",
   "execution_count": 26,
   "metadata": {},
   "outputs": [
    {
     "data": {
      "text/plain": [
       "(7091, 16)"
      ]
     },
     "execution_count": 26,
     "metadata": {},
     "output_type": "execute_result"
    }
   ],
   "source": [
    "df.shape"
   ]
  },
  {
   "cell_type": "markdown",
   "metadata": {},
   "source": [
    "### Fill missing values for Price and New_Price"
   ]
  },
  {
   "cell_type": "code",
   "execution_count": 27,
   "metadata": {},
   "outputs": [],
   "source": [
    "df['New_Price'] = df.groupby(['Company'])['New_Price'].transform(lambda x: x.fillna(x.median()))"
   ]
  },
  {
   "cell_type": "code",
   "execution_count": 28,
   "metadata": {},
   "outputs": [],
   "source": [
    "df['Price'] = df.groupby(['Company'])['Price'].transform(lambda x: x.fillna(x.median()))"
   ]
  },
  {
   "cell_type": "code",
   "execution_count": 29,
   "metadata": {},
   "outputs": [
    {
     "data": {
      "text/plain": [
       "Model                0\n",
       "Company              0\n",
       "Price                0\n",
       "New_Price            0\n",
       "Seats                0\n",
       "Power                0\n",
       "Engine               0\n",
       "Mileage              0\n",
       "Owner_Type           0\n",
       "Transmission         0\n",
       "Fuel_Type            0\n",
       "Kilometers_Driven    0\n",
       "Year                 0\n",
       "Location             0\n",
       "Name                 0\n",
       "S.No.                0\n",
       "dtype: int64"
      ]
     },
     "execution_count": 29,
     "metadata": {},
     "output_type": "execute_result"
    }
   ],
   "source": [
    "df.isnull().sum().sort_values(ascending=False)"
   ]
  },
  {
   "cell_type": "markdown",
   "metadata": {},
   "source": [
    "### Observations:\n",
    "\n",
    "- There are no missing values anymore, lets take care of the datatypes now."
   ]
  },
  {
   "cell_type": "code",
   "execution_count": 30,
   "metadata": {},
   "outputs": [
    {
     "name": "stdout",
     "output_type": "stream",
     "text": [
      "<class 'pandas.core.frame.DataFrame'>\n",
      "Int64Index: 7091 entries, 0 to 7252\n",
      "Data columns (total 16 columns):\n",
      " #   Column             Non-Null Count  Dtype  \n",
      "---  ------             --------------  -----  \n",
      " 0   S.No.              7091 non-null   int64  \n",
      " 1   Name               7091 non-null   object \n",
      " 2   Location           7091 non-null   object \n",
      " 3   Year               7091 non-null   int64  \n",
      " 4   Kilometers_Driven  7091 non-null   int64  \n",
      " 5   Fuel_Type          7091 non-null   object \n",
      " 6   Transmission       7091 non-null   object \n",
      " 7   Owner_Type         7091 non-null   object \n",
      " 8   Mileage            7091 non-null   float64\n",
      " 9   Engine             7091 non-null   float64\n",
      " 10  Power              7091 non-null   float64\n",
      " 11  Seats              7091 non-null   float64\n",
      " 12  New_Price          7091 non-null   float64\n",
      " 13  Price              7091 non-null   float64\n",
      " 14  Company            7091 non-null   object \n",
      " 15  Model              7091 non-null   object \n",
      "dtypes: float64(6), int64(3), object(7)\n",
      "memory usage: 941.8+ KB\n"
     ]
    }
   ],
   "source": [
    "df.info()"
   ]
  },
  {
   "cell_type": "markdown",
   "metadata": {},
   "source": [
    "### Data type Conversion"
   ]
  },
  {
   "cell_type": "code",
   "execution_count": 31,
   "metadata": {
    "scrolled": true
   },
   "outputs": [
    {
     "name": "stdout",
     "output_type": "stream",
     "text": [
      "<class 'pandas.core.frame.DataFrame'>\n",
      "Int64Index: 7091 entries, 0 to 7252\n",
      "Data columns (total 16 columns):\n",
      " #   Column             Non-Null Count  Dtype   \n",
      "---  ------             --------------  -----   \n",
      " 0   S.No.              7091 non-null   int64   \n",
      " 1   Name               7091 non-null   object  \n",
      " 2   Location           7091 non-null   category\n",
      " 3   Year               7091 non-null   int64   \n",
      " 4   Kilometers_Driven  7091 non-null   int64   \n",
      " 5   Fuel_Type          7091 non-null   category\n",
      " 6   Transmission       7091 non-null   category\n",
      " 7   Owner_Type         7091 non-null   category\n",
      " 8   Mileage            7091 non-null   float64 \n",
      " 9   Engine             7091 non-null   float64 \n",
      " 10  Power              7091 non-null   float64 \n",
      " 11  Seats              7091 non-null   category\n",
      " 12  New_Price          7091 non-null   float64 \n",
      " 13  Price              7091 non-null   float64 \n",
      " 14  Company            7091 non-null   category\n",
      " 15  Model              7091 non-null   category\n",
      "dtypes: category(7), float64(5), int64(3), object(1)\n",
      "memory usage: 623.1+ KB\n"
     ]
    }
   ],
   "source": [
    "cat_vars = ['Location','Fuel_Type','Transmission','Owner_Type',\n",
    "            'Company','Model','Seats']\n",
    "for colname in cat_vars:\n",
    "    df[colname] = df[colname].astype('category')\n",
    "    \n",
    "df.info()"
   ]
  },
  {
   "cell_type": "markdown",
   "metadata": {},
   "source": [
    "### Binning- Let's put the Years in bins."
   ]
  },
  {
   "cell_type": "code",
   "execution_count": 32,
   "metadata": {},
   "outputs": [],
   "source": [
    "category = pd.cut(df.Year,bins=[1995,2000,2005,2010,2015,2020],labels=['1995-2000','2001-2005','2006-2010','2011-2015','2016-2020'])\n",
    "df.insert(5,'Year_By',category)"
   ]
  },
  {
   "cell_type": "code",
   "execution_count": 33,
   "metadata": {},
   "outputs": [
    {
     "name": "stdout",
     "output_type": "stream",
     "text": [
      "<class 'pandas.core.frame.DataFrame'>\n",
      "Int64Index: 7091 entries, 0 to 7252\n",
      "Data columns (total 17 columns):\n",
      " #   Column             Non-Null Count  Dtype   \n",
      "---  ------             --------------  -----   \n",
      " 0   S.No.              7091 non-null   int64   \n",
      " 1   Name               7091 non-null   object  \n",
      " 2   Location           7091 non-null   category\n",
      " 3   Year               7091 non-null   int64   \n",
      " 4   Kilometers_Driven  7091 non-null   int64   \n",
      " 5   Year_By            7091 non-null   category\n",
      " 6   Fuel_Type          7091 non-null   category\n",
      " 7   Transmission       7091 non-null   category\n",
      " 8   Owner_Type         7091 non-null   category\n",
      " 9   Mileage            7091 non-null   float64 \n",
      " 10  Engine             7091 non-null   float64 \n",
      " 11  Power              7091 non-null   float64 \n",
      " 12  Seats              7091 non-null   category\n",
      " 13  New_Price          7091 non-null   float64 \n",
      " 14  Price              7091 non-null   float64 \n",
      " 15  Company            7091 non-null   category\n",
      " 16  Model              7091 non-null   category\n",
      "dtypes: category(8), float64(5), int64(3), object(1)\n",
      "memory usage: 630.2+ KB\n"
     ]
    }
   ],
   "source": [
    "df.info()"
   ]
  },
  {
   "cell_type": "markdown",
   "metadata": {},
   "source": [
    "### Observations:\n",
    "\n",
    "- Since we have converted datatypes, lets remove the columns we won't be using."
   ]
  },
  {
   "cell_type": "code",
   "execution_count": 34,
   "metadata": {},
   "outputs": [],
   "source": [
    "df.drop(['S.No.','Name','Year'],inplace=True, axis=1)"
   ]
  },
  {
   "cell_type": "code",
   "execution_count": 35,
   "metadata": {},
   "outputs": [
    {
     "name": "stdout",
     "output_type": "stream",
     "text": [
      "<class 'pandas.core.frame.DataFrame'>\n",
      "Int64Index: 7091 entries, 0 to 7252\n",
      "Data columns (total 14 columns):\n",
      " #   Column             Non-Null Count  Dtype   \n",
      "---  ------             --------------  -----   \n",
      " 0   Location           7091 non-null   category\n",
      " 1   Kilometers_Driven  7091 non-null   int64   \n",
      " 2   Year_By            7091 non-null   category\n",
      " 3   Fuel_Type          7091 non-null   category\n",
      " 4   Transmission       7091 non-null   category\n",
      " 5   Owner_Type         7091 non-null   category\n",
      " 6   Mileage            7091 non-null   float64 \n",
      " 7   Engine             7091 non-null   float64 \n",
      " 8   Power              7091 non-null   float64 \n",
      " 9   Seats              7091 non-null   category\n",
      " 10  New_Price          7091 non-null   float64 \n",
      " 11  Price              7091 non-null   float64 \n",
      " 12  Company            7091 non-null   category\n",
      " 13  Model              7091 non-null   category\n",
      "dtypes: category(8), float64(5), int64(1)\n",
      "memory usage: 464.0 KB\n"
     ]
    }
   ],
   "source": [
    "df.info()"
   ]
  },
  {
   "cell_type": "markdown",
   "metadata": {},
   "source": [
    "### EDA- Univariate Categorical variables.\n",
    "#### Analyze following variables:\n",
    "    - Location           \n",
    "    - Year_By\n",
    "    - Fuel_Type\n",
    "    - Transmission\n",
    "    - Owner_Type\n",
    "    - Company"
   ]
  },
  {
   "cell_type": "code",
   "execution_count": 36,
   "metadata": {},
   "outputs": [
    {
     "name": "stdout",
     "output_type": "stream",
     "text": [
      "There are 11 unique Locations.\n",
      " \n",
      "Mumbai        933\n",
      "Hyderabad     863\n",
      "Coimbatore    755\n",
      "Kochi         754\n",
      "Pune          737\n",
      "Delhi         656\n",
      "Kolkata       633\n",
      "Chennai       572\n",
      "Jaipur        485\n",
      "Bangalore     431\n",
      "Ahmedabad     272\n",
      "Name: Location, dtype: int64\n"
     ]
    },
    {
     "data": {
      "image/png": "[encoded data removed]",
      "text/plain": [
       "<Figure size 1600x800 with 1 Axes>"
      ]
     },
     "metadata": {
      "needs_background": "light"
     },
     "output_type": "display_data"
    }
   ],
   "source": [
    "#Univariate analysis- Location\n",
    "figure(figsize=(20,10), dpi=80)\n",
    "print(f'There are {df.Location.nunique()} unique Locations.')\n",
    "print(' ')\n",
    "print(f'{df.Location.value_counts(ascending=False)}')\n",
    "\n",
    "sns.countplot(x=df['Location']); "
   ]
  },
  {
   "cell_type": "markdown",
   "metadata": {},
   "source": [
    "### Observations:\n",
    "\n",
    "- Used car sales are highest in Mumbai, followed by Hyderabad.\n",
    "- Used car sales are least in Ahmedabad."
   ]
  },
  {
   "cell_type": "code",
   "execution_count": 37,
   "metadata": {},
   "outputs": [
    {
     "data": {
      "image/png": "[encoded data removed]",
      "text/plain": [
       "<Figure size 1600x800 with 1 Axes>"
      ]
     },
     "metadata": {
      "needs_background": "light"
     },
     "output_type": "display_data"
    }
   ],
   "source": [
    "#Univariate analysis- Year_By\n",
    "figure(figsize=(20,10), dpi=80)\n",
    "sns.countplot(x=df['Year_By']); "
   ]
  },
  {
   "cell_type": "code",
   "execution_count": 38,
   "metadata": {},
   "outputs": [
    {
     "name": "stdout",
     "output_type": "stream",
     "text": [
      "There are 5 unique Fuel Types.\n",
      " \n",
      "Diesel      3772\n",
      "Petrol      3243\n",
      "CNG           62\n",
      "LPG           12\n",
      "Electric       2\n",
      "Name: Fuel_Type, dtype: int64\n"
     ]
    },
    {
     "data": {
      "image/png": "[encoded data removed]",
      "text/plain": [
       "<Figure size 432x288 with 1 Axes>"
      ]
     },
     "metadata": {
      "needs_background": "light"
     },
     "output_type": "display_data"
    }
   ],
   "source": [
    "#Univariate analysis- Fuel_Types\n",
    "print(f'There are {df.Fuel_Type.nunique()} unique Fuel Types.')\n",
    "print(' ')\n",
    "print(f'{df.Fuel_Type.value_counts(ascending=False)}')\n",
    "sns.countplot(x=df['Fuel_Type']); "
   ]
  },
  {
   "cell_type": "markdown",
   "metadata": {},
   "source": [
    "### Observations:\n",
    "\n",
    "- Diesel cars are the most preferred cars in the used car market, followed by Petrol cars."
   ]
  },
  {
   "cell_type": "code",
   "execution_count": 39,
   "metadata": {},
   "outputs": [
    {
     "name": "stdout",
     "output_type": "stream",
     "text": [
      "There are 2 unique Transmission Types.\n",
      " \n",
      "Manual       5055\n",
      "Automatic    2036\n",
      "Name: Transmission, dtype: int64\n"
     ]
    },
    {
     "data": {
      "image/png": "[encoded data removed]",
      "text/plain": [
       "<Figure size 432x288 with 1 Axes>"
      ]
     },
     "metadata": {
      "needs_background": "light"
     },
     "output_type": "display_data"
    }
   ],
   "source": [
    "#Univariate analysis Transmission\n",
    "print(f'There are {df.Transmission.nunique()} unique Transmission Types.')\n",
    "print(' ')\n",
    "print(f'{df.Transmission.value_counts(ascending=False)}')\n",
    "sns.countplot(x=df['Transmission']); "
   ]
  },
  {
   "cell_type": "markdown",
   "metadata": {},
   "source": [
    "### Observations:\n",
    "\n",
    "- Manual Transmission cars are the most preferred cars in the used car market, followed by Automatic Transmission cars."
   ]
  },
  {
   "cell_type": "code",
   "execution_count": 40,
   "metadata": {},
   "outputs": [
    {
     "name": "stdout",
     "output_type": "stream",
     "text": [
      "There are 4 unique Owner Type.\n",
      " \n",
      "First             5837\n",
      "Second            1116\n",
      "Third              126\n",
      "Fourth & Above      12\n",
      "Name: Owner_Type, dtype: int64\n"
     ]
    },
    {
     "data": {
      "image/png": "[encoded data removed]",
      "text/plain": [
       "<Figure size 432x288 with 1 Axes>"
      ]
     },
     "metadata": {
      "needs_background": "light"
     },
     "output_type": "display_data"
    }
   ],
   "source": [
    "#Univariate analysis- Owner_Type\n",
    "print(f'There are {df.Owner_Type.nunique()} unique Owner Type.')\n",
    "print(' ')\n",
    "print(f'{df.Owner_Type.value_counts(ascending=False)}')\n",
    "\n",
    "sns.countplot(x=df['Owner_Type']); "
   ]
  },
  {
   "cell_type": "markdown",
   "metadata": {},
   "source": [
    "### Observations:\n",
    "\n",
    "- Car resale from First owners are most preferred in the used cars market."
   ]
  },
  {
   "cell_type": "code",
   "execution_count": 41,
   "metadata": {},
   "outputs": [
    {
     "name": "stdout",
     "output_type": "stream",
     "text": [
      "There are 25 unique Car Companies.\n",
      " \n",
      "Maruti           1444\n",
      "Hyundai          1340\n",
      "Honda             743\n",
      "Toyota            507\n",
      "Mercedes-Benz     380\n",
      "Volkswagen        374\n",
      "Ford              351\n",
      "Mahindra          331\n",
      "BMW               312\n",
      "Audi              285\n",
      "Tata              228\n",
      "Skoda             202\n",
      "Renault           170\n",
      "Nissan            117\n",
      "Land               67\n",
      "Jaguar             48\n",
      "Fiat               38\n",
      "Mitsubishi         36\n",
      "Mini               31\n",
      "Volvo              28\n",
      "Jeep               19\n",
      "Porsche            19\n",
      "Datsun             17\n",
      "Isuzu               2\n",
      "Bentley             2\n",
      "Name: Company, dtype: int64\n"
     ]
    },
    {
     "data": {
      "image/png": "[encoded data removed]",
      "text/plain": [
       "<Figure size 800x1600 with 1 Axes>"
      ]
     },
     "metadata": {
      "needs_background": "light"
     },
     "output_type": "display_data"
    }
   ],
   "source": [
    "#Univariate analysis- Car Company\n",
    "figure(figsize=(10, 20), dpi=80)\n",
    "print(f'There are {df.Company.nunique()} unique Car Companies.')\n",
    "print(' ')\n",
    "print(f'{df.Company.value_counts(ascending=False)}')\n",
    "sns.countplot(y=df['Company']); "
   ]
  },
  {
   "cell_type": "markdown",
   "metadata": {},
   "source": [
    "### Observations:\n",
    "\n",
    "- Maruti is the most sold car in the used car market followed by Hyundai and Honda.\n"
   ]
  },
  {
   "cell_type": "code",
   "execution_count": 42,
   "metadata": {},
   "outputs": [
    {
     "name": "stdout",
     "output_type": "stream",
     "text": [
      "There are 9 unique Seat Number categories\n",
      " \n",
      "5.0     5966\n",
      "7.0      784\n",
      "8.0      163\n",
      "4.0      115\n",
      "6.0       38\n",
      "2.0       16\n",
      "10.0       6\n",
      "9.0        2\n",
      "0.0        1\n",
      "Name: Seats, dtype: int64\n"
     ]
    },
    {
     "data": {
      "image/png": "[encoded data removed]",
      "text/plain": [
       "<Figure size 800x800 with 1 Axes>"
      ]
     },
     "metadata": {
      "needs_background": "light"
     },
     "output_type": "display_data"
    }
   ],
   "source": [
    "#Univariate analysis- Seats\n",
    "figure(figsize=(10, 10), dpi=80)\n",
    "print(f'There are {df.Seats.nunique()} unique Seat Number categories')\n",
    "print(' ')\n",
    "print(f'{df.Seats.value_counts(ascending=False)}')\n",
    "sns.countplot(x=df['Seats']); "
   ]
  },
  {
   "cell_type": "markdown",
   "metadata": {},
   "source": [
    "### Observations:\n",
    "\n",
    "- Most used cars sold are 5 seater, followed by 7 seater car."
   ]
  },
  {
   "cell_type": "markdown",
   "metadata": {},
   "source": [
    "## EDA- Univariate Continous Variables.\n",
    "\n",
    "#### Analyze following variables:\n",
    "    - Mileage           \n",
    "    - Engine\n",
    "    - Power\n",
    "    - Seats\n",
    "    - New_Price\n",
    "    - Price\n",
    "    - Kilometers_Driven\n"
   ]
  },
  {
   "cell_type": "code",
   "execution_count": 43,
   "metadata": {},
   "outputs": [
    {
     "data": {
      "text/html": [
       "<div>\n",
       "<style scoped>\n",
       "    .dataframe tbody tr th:only-of-type {\n",
       "        vertical-align: middle;\n",
       "    }\n",
       "\n",
       "    .dataframe tbody tr th {\n",
       "        vertical-align: top;\n",
       "    }\n",
       "\n",
       "    .dataframe thead th {\n",
       "        text-align: right;\n",
       "    }\n",
       "</style>\n",
       "<table border=\"1\" class=\"dataframe\">\n",
       "  <thead>\n",
       "    <tr style=\"text-align: right;\">\n",
       "      <th></th>\n",
       "      <th>Kilometers_Driven</th>\n",
       "      <th>Mileage</th>\n",
       "      <th>Engine</th>\n",
       "      <th>Power</th>\n",
       "      <th>New_Price</th>\n",
       "      <th>Price</th>\n",
       "    </tr>\n",
       "  </thead>\n",
       "  <tbody>\n",
       "    <tr>\n",
       "      <th>count</th>\n",
       "      <td>7.091000e+03</td>\n",
       "      <td>7091.000000</td>\n",
       "      <td>7091.000000</td>\n",
       "      <td>7091.000000</td>\n",
       "      <td>7091.000000</td>\n",
       "      <td>7091.000000</td>\n",
       "    </tr>\n",
       "    <tr>\n",
       "      <th>mean</th>\n",
       "      <td>5.857065e+04</td>\n",
       "      <td>18.147073</td>\n",
       "      <td>1620.012974</td>\n",
       "      <td>112.703595</td>\n",
       "      <td>18.470192</td>\n",
       "      <td>9.373224</td>\n",
       "    </tr>\n",
       "    <tr>\n",
       "      <th>std</th>\n",
       "      <td>8.520718e+04</td>\n",
       "      <td>4.571676</td>\n",
       "      <td>594.137881</td>\n",
       "      <td>52.925682</td>\n",
       "      <td>17.781365</td>\n",
       "      <td>10.621793</td>\n",
       "    </tr>\n",
       "    <tr>\n",
       "      <th>min</th>\n",
       "      <td>1.710000e+02</td>\n",
       "      <td>0.000000</td>\n",
       "      <td>72.000000</td>\n",
       "      <td>34.200000</td>\n",
       "      <td>1.000000</td>\n",
       "      <td>0.440000</td>\n",
       "    </tr>\n",
       "    <tr>\n",
       "      <th>25%</th>\n",
       "      <td>3.379650e+04</td>\n",
       "      <td>15.200000</td>\n",
       "      <td>1198.000000</td>\n",
       "      <td>78.900000</td>\n",
       "      <td>7.870000</td>\n",
       "      <td>3.850000</td>\n",
       "    </tr>\n",
       "    <tr>\n",
       "      <th>50%</th>\n",
       "      <td>5.300000e+04</td>\n",
       "      <td>18.160000</td>\n",
       "      <td>1493.000000</td>\n",
       "      <td>94.000000</td>\n",
       "      <td>11.105000</td>\n",
       "      <td>5.450000</td>\n",
       "    </tr>\n",
       "    <tr>\n",
       "      <th>75%</th>\n",
       "      <td>7.300000e+04</td>\n",
       "      <td>21.100000</td>\n",
       "      <td>1968.000000</td>\n",
       "      <td>138.030000</td>\n",
       "      <td>23.250000</td>\n",
       "      <td>10.000000</td>\n",
       "    </tr>\n",
       "    <tr>\n",
       "      <th>max</th>\n",
       "      <td>6.500000e+06</td>\n",
       "      <td>33.540000</td>\n",
       "      <td>5998.000000</td>\n",
       "      <td>616.000000</td>\n",
       "      <td>99.920000</td>\n",
       "      <td>160.000000</td>\n",
       "    </tr>\n",
       "  </tbody>\n",
       "</table>\n",
       "</div>"
      ],
      "text/plain": [
       "       Kilometers_Driven      Mileage       Engine        Power    New_Price  \\\n",
       "count       7.091000e+03  7091.000000  7091.000000  7091.000000  7091.000000   \n",
       "mean        5.857065e+04    18.147073  1620.012974   112.703595    18.470192   \n",
       "std         8.520718e+04     4.571676   594.137881    52.925682    17.781365   \n",
       "min         1.710000e+02     0.000000    72.000000    34.200000     1.000000   \n",
       "25%         3.379650e+04    15.200000  1198.000000    78.900000     7.870000   \n",
       "50%         5.300000e+04    18.160000  1493.000000    94.000000    11.105000   \n",
       "75%         7.300000e+04    21.100000  1968.000000   138.030000    23.250000   \n",
       "max         6.500000e+06    33.540000  5998.000000   616.000000    99.920000   \n",
       "\n",
       "             Price  \n",
       "count  7091.000000  \n",
       "mean      9.373224  \n",
       "std      10.621793  \n",
       "min       0.440000  \n",
       "25%       3.850000  \n",
       "50%       5.450000  \n",
       "75%      10.000000  \n",
       "max     160.000000  "
      ]
     },
     "execution_count": 43,
     "metadata": {},
     "output_type": "execute_result"
    }
   ],
   "source": [
    "df.describe()"
   ]
  },
  {
   "cell_type": "code",
   "execution_count": 44,
   "metadata": {},
   "outputs": [
    {
     "data": {
      "text/plain": [
       "Kilometers_Driven    61.276928\n",
       "Mileage              -0.446711\n",
       "Engine                1.401902\n",
       "Power                 1.945145\n",
       "Seats                 1.905787\n",
       "New_Price             1.744816\n",
       "Price                 3.265235\n",
       "dtype: float64"
      ]
     },
     "execution_count": 44,
     "metadata": {},
     "output_type": "execute_result"
    }
   ],
   "source": [
    "#Skewness of the dataframe\n",
    "df.skew()"
   ]
  },
  {
   "cell_type": "markdown",
   "metadata": {},
   "source": [
    "### Observations:\n",
    "\n",
    "- Mileage is approximately normal.\n",
    "- Engine, Power, Seats, Price and New_Price is highly positively skewed.\n",
    "- We will need to treat highly skewed \"Kilometers_Driven\" column."
   ]
  },
  {
   "cell_type": "code",
   "execution_count": 45,
   "metadata": {},
   "outputs": [
    {
     "data": {
      "image/png": "[encoded data removed]",
      "text/plain": [
       "<Figure size 432x288 with 1 Axes>"
      ]
     },
     "metadata": {
      "needs_background": "light"
     },
     "output_type": "display_data"
    }
   ],
   "source": [
    "#Distribution plot of \"Mileage\" with KDE plot.\n",
    "sns.distplot(df['Mileage'],kde=True); "
   ]
  },
  {
   "cell_type": "markdown",
   "metadata": {},
   "source": [
    "### Observations:\n",
    "\n",
    "- Mileage is approximately normal."
   ]
  },
  {
   "cell_type": "code",
   "execution_count": 46,
   "metadata": {},
   "outputs": [
    {
     "data": {
      "image/png": "[encoded data removed]",
      "text/plain": [
       "<Figure size 432x288 with 1 Axes>"
      ]
     },
     "metadata": {
      "needs_background": "light"
     },
     "output_type": "display_data"
    }
   ],
   "source": [
    "#Distribution plot of \"Engine\" with KDE plot.\n",
    "sns.distplot(df['Engine'],kde=True);"
   ]
  },
  {
   "cell_type": "markdown",
   "metadata": {},
   "source": [
    "### Observations:\n",
    "\n",
    "- Engine is right (positively) skewed with couple of medians."
   ]
  },
  {
   "cell_type": "code",
   "execution_count": 47,
   "metadata": {},
   "outputs": [
    {
     "data": {
      "image/png": "[encoded data removed]",
      "text/plain": [
       "<Figure size 432x288 with 1 Axes>"
      ]
     },
     "metadata": {
      "needs_background": "light"
     },
     "output_type": "display_data"
    }
   ],
   "source": [
    "#Distribution plot of \"Price\" with KDE plot.\n",
    "sns.distplot(df['Power'],kde=True);"
   ]
  },
  {
   "cell_type": "markdown",
   "metadata": {},
   "source": [
    "### Observations:\n",
    "\n",
    "- Power is right (positively) skewed"
   ]
  },
  {
   "cell_type": "code",
   "execution_count": 48,
   "metadata": {},
   "outputs": [
    {
     "data": {
      "image/png": "[encoded data removed]",
      "text/plain": [
       "<Figure size 432x288 with 1 Axes>"
      ]
     },
     "metadata": {
      "needs_background": "light"
     },
     "output_type": "display_data"
    }
   ],
   "source": [
    "#Distribution plot of \"New_Price\" with KDE plot.\n",
    "sns.distplot(df['New_Price'],kde=True);"
   ]
  },
  {
   "cell_type": "markdown",
   "metadata": {},
   "source": [
    "### Observations:\n",
    "\n",
    "- New_Price is right (positively) skewed."
   ]
  },
  {
   "cell_type": "code",
   "execution_count": 49,
   "metadata": {},
   "outputs": [
    {
     "data": {
      "image/png": "[encoded data removed]",
      "text/plain": [
       "<Figure size 432x288 with 1 Axes>"
      ]
     },
     "metadata": {
      "needs_background": "light"
     },
     "output_type": "display_data"
    }
   ],
   "source": [
    "#Distribution plot of \"Price\" with KDE plot.\n",
    "sns.distplot(df['Price'],kde=True);"
   ]
  },
  {
   "cell_type": "markdown",
   "metadata": {},
   "source": [
    "### Observations:\n",
    "\n",
    "- Price is right (positively) skewed."
   ]
  },
  {
   "cell_type": "code",
   "execution_count": 50,
   "metadata": {},
   "outputs": [
    {
     "data": {
      "image/png": "[encoded data removed]",
      "text/plain": [
       "<Figure size 432x288 with 1 Axes>"
      ]
     },
     "metadata": {
      "needs_background": "light"
     },
     "output_type": "display_data"
    }
   ],
   "source": [
    "sns.distplot(df['Kilometers_Driven'],kde=True); "
   ]
  },
  {
   "cell_type": "code",
   "execution_count": 51,
   "metadata": {},
   "outputs": [
    {
     "data": {
      "image/png": "[encoded data removed]",
      "text/plain": [
       "<Figure size 432x288 with 1 Axes>"
      ]
     },
     "metadata": {
      "needs_background": "light"
     },
     "output_type": "display_data"
    },
    {
     "name": "stdout",
     "output_type": "stream",
     "text": [
      "Count of entries with 0 or negative value=0\n"
     ]
    }
   ],
   "source": [
    "#Plot Kilometers_Driven in Histogram plot.\n",
    "plt.hist(df['Kilometers_Driven'], bins=50)\n",
    "plt.title('Kilometers_Driven')\n",
    "plt.show()\n",
    "print(f'Count of entries with 0 or negative value={np.sum(df.Kilometers_Driven <= 0)}')"
   ]
  },
  {
   "cell_type": "markdown",
   "metadata": {},
   "source": [
    "### Observations:\n",
    "\n",
    "- Since \"Kilometers_Driven\" column is highly skewed and does not have any non positive (or zero values) we will do log transformation on that column."
   ]
  },
  {
   "cell_type": "markdown",
   "metadata": {},
   "source": [
    "### Log Normal Scaling of Kilometers_Driven column"
   ]
  },
  {
   "cell_type": "code",
   "execution_count": 52,
   "metadata": {},
   "outputs": [],
   "source": [
    "\n",
    "#Lets add new column \"Kilometers_Driven_log\" with log transformed values.\n",
    "cols_to_log = ['Kilometers_Driven']\n",
    "\n",
    "for colname in cols_to_log:\n",
    "    df[colname + '_log'] = np.log(df[colname] + 1)"
   ]
  },
  {
   "cell_type": "code",
   "execution_count": 53,
   "metadata": {},
   "outputs": [
    {
     "data": {
      "image/png": "[encoded data removed]",
      "text/plain": [
       "<Figure size 432x288 with 1 Axes>"
      ]
     },
     "metadata": {
      "needs_background": "light"
     },
     "output_type": "display_data"
    },
    {
     "name": "stdout",
     "output_type": "stream",
     "text": [
      "0\n"
     ]
    }
   ],
   "source": [
    "#Plot Kilometers_Driven_log in Histogram plot.\n",
    "cols_to_log2 = ['Kilometers_Driven_log']\n",
    "for colname in cols_to_log2:\n",
    "    plt.hist(df[colname], bins=50)\n",
    "    plt.title(colname)\n",
    "    plt.show()\n",
    "    print(np.sum(df[colname] <= 0))"
   ]
  },
  {
   "cell_type": "code",
   "execution_count": 54,
   "metadata": {},
   "outputs": [
    {
     "data": {
      "image/png": "[encoded data removed]",
      "text/plain": [
       "<Figure size 432x288 with 1 Axes>"
      ]
     },
     "metadata": {
      "needs_background": "light"
     },
     "output_type": "display_data"
    }
   ],
   "source": [
    "#Distribution plot of \"Kilometers_Driven_log\" with KDE plot.\n",
    "sns.distplot(df['Kilometers_Driven_log'],kde=True); \n"
   ]
  },
  {
   "cell_type": "markdown",
   "metadata": {},
   "source": [
    "### Observations:\n",
    "- After log transformation, the Kilometers Driven distribution is closer to normal than the original distribution."
   ]
  },
  {
   "cell_type": "markdown",
   "metadata": {},
   "source": [
    "#### Let's drop Kilometers_Driven column as we have the log scaled column Kilometers_Driven_log"
   ]
  },
  {
   "cell_type": "code",
   "execution_count": 55,
   "metadata": {},
   "outputs": [],
   "source": [
    "df.drop('Kilometers_Driven',inplace=True, axis=1)"
   ]
  },
  {
   "cell_type": "code",
   "execution_count": 56,
   "metadata": {},
   "outputs": [
    {
     "name": "stdout",
     "output_type": "stream",
     "text": [
      "<class 'pandas.core.frame.DataFrame'>\n",
      "Int64Index: 7091 entries, 0 to 7252\n",
      "Data columns (total 14 columns):\n",
      " #   Column                 Non-Null Count  Dtype   \n",
      "---  ------                 --------------  -----   \n",
      " 0   Location               7091 non-null   category\n",
      " 1   Year_By                7091 non-null   category\n",
      " 2   Fuel_Type              7091 non-null   category\n",
      " 3   Transmission           7091 non-null   category\n",
      " 4   Owner_Type             7091 non-null   category\n",
      " 5   Mileage                7091 non-null   float64 \n",
      " 6   Engine                 7091 non-null   float64 \n",
      " 7   Power                  7091 non-null   float64 \n",
      " 8   Seats                  7091 non-null   category\n",
      " 9   New_Price              7091 non-null   float64 \n",
      " 10  Price                  7091 non-null   float64 \n",
      " 11  Company                7091 non-null   category\n",
      " 12  Model                  7091 non-null   category\n",
      " 13  Kilometers_Driven_log  7091 non-null   float64 \n",
      "dtypes: category(8), float64(6)\n",
      "memory usage: 784.0 KB\n"
     ]
    }
   ],
   "source": [
    "df.info()"
   ]
  },
  {
   "cell_type": "markdown",
   "metadata": {},
   "source": [
    "## Outlier Analysis and Treatment of Numerical Columns\n",
    "\n",
    "    - Mileage\n",
    "    - Engine\n",
    "    - Power\n",
    "    - New_Price\n",
    "    - Price\n",
    "    - Kilometers_Driven_log"
   ]
  },
  {
   "cell_type": "code",
   "execution_count": 57,
   "metadata": {},
   "outputs": [
    {
     "name": "stdout",
     "output_type": "stream",
     "text": [
      "Here are the numeric columns for which we will do outlier analysis\n",
      "\n",
      "['Mileage', 'Engine', 'Power', 'New_Price', 'Price', 'Kilometers_Driven_log']\n"
     ]
    }
   ],
   "source": [
    "numeric_columns = df.select_dtypes(include=np.number).columns.tolist()\n",
    "print(f'Here are the numeric columns for which we will do outlier analysis\\n\\n{numeric_columns}')"
   ]
  },
  {
   "cell_type": "code",
   "execution_count": 58,
   "metadata": {},
   "outputs": [
    {
     "data": {
      "image/png": "[encoded data removed]",
      "text/plain": [
       "<Figure size 1440x2160 with 6 Axes>"
      ]
     },
     "metadata": {
      "needs_background": "light"
     },
     "output_type": "display_data"
    }
   ],
   "source": [
    "# outlier detection using boxplot\n",
    "plt.figure(figsize=(20,30))\n",
    "\n",
    "for i, variable in enumerate(numeric_columns):\n",
    "                     plt.subplot(5,4,i+1)\n",
    "                     plt.boxplot(df[variable],whis=1.5)\n",
    "                     plt.tight_layout()\n",
    "                     plt.title(variable)\n",
    "\n",
    "plt.show()"
   ]
  },
  {
   "cell_type": "code",
   "execution_count": 59,
   "metadata": {},
   "outputs": [],
   "source": [
    "#Treat Outliers\n",
    "# Lets treat outliers by flooring and capping\n",
    "def treat_outliers(df,col):\n",
    "    '''\n",
    "    treats outliers in a varaible\n",
    "    col: str, name of the numerical varaible\n",
    "    df: data frame\n",
    "    col: name of the column\n",
    "    '''\n",
    "    Q1=df[col].quantile(0.25) # 25th quantile\n",
    "    Q3=df[col].quantile(0.75)  # 75th quantile\n",
    "    IQR=Q3-Q1\n",
    "    Lower_Whisker = Q1 - 1.5*IQR \n",
    "    Upper_Whisker = Q3 + 1.5*IQR\n",
    "    df[col] = np.clip(df[col], Lower_Whisker, Upper_Whisker) # all the values samller than Lower_Whisker will be assigned value of Lower_whisker \n",
    "                                                            # and all the values above upper_whishker will be assigned value of upper_Whisker \n",
    "    return df\n",
    "\n",
    "def treat_outliers_all(df, col_list):\n",
    "    '''\n",
    "    treat outlier in all numerical varaibles\n",
    "    col_list: list of numerical varaibles\n",
    "    df: data frame\n",
    "    '''\n",
    "    for c in col_list:\n",
    "        df = treat_outliers(df,c)\n",
    "        \n",
    "    return df\n",
    "    \n"
   ]
  },
  {
   "cell_type": "code",
   "execution_count": 60,
   "metadata": {},
   "outputs": [],
   "source": [
    "#List the numerical columns in the dataframe and call function 'treat_outliers'\n",
    "numerical_col = df.select_dtypes(include=np.number).columns.tolist()\n",
    "df = treat_outliers_all(df,numerical_col)"
   ]
  },
  {
   "cell_type": "code",
   "execution_count": 61,
   "metadata": {},
   "outputs": [],
   "source": [
    "# list the treated numerical columns in numeric_columns.\n",
    "numeric_columns = df.select_dtypes(include=np.number).columns.tolist()"
   ]
  },
  {
   "cell_type": "code",
   "execution_count": 62,
   "metadata": {},
   "outputs": [
    {
     "data": {
      "image/png": "[encoded data removed]",
      "text/plain": [
       "<Figure size 1440x2160 with 6 Axes>"
      ]
     },
     "metadata": {
      "needs_background": "light"
     },
     "output_type": "display_data"
    }
   ],
   "source": [
    "# lets look at box plot to see if outliers has been treated or not\n",
    "plt.figure(figsize=(20,30))\n",
    "\n",
    "for i, variable in enumerate(numeric_columns):\n",
    "                     plt.subplot(5,4,i+1)\n",
    "                     plt.boxplot(df[variable],whis=1.5)\n",
    "                     plt.tight_layout()\n",
    "                     plt.title(variable)\n",
    "\n",
    "plt.show()"
   ]
  },
  {
   "cell_type": "markdown",
   "metadata": {},
   "source": [
    "### Observations:\n",
    "\n",
    "- All the outliers are treated."
   ]
  },
  {
   "cell_type": "markdown",
   "metadata": {},
   "source": [
    "## Bivariate Analysis"
   ]
  },
  {
   "cell_type": "code",
   "execution_count": 63,
   "metadata": {},
   "outputs": [
    {
     "name": "stdout",
     "output_type": "stream",
     "text": [
      "Median Price of New Cars by Location\n",
      "  \n",
      "Location\n",
      "Coimbatore    7.720\n",
      "Bangalore     6.850\n",
      "Kochi         6.535\n",
      "Hyderabad     5.680\n",
      "Mumbai        5.600\n",
      "Ahmedabad     5.500\n",
      "Delhi         5.495\n",
      "Chennai       4.750\n",
      "Pune          4.600\n",
      "Jaipur        4.500\n",
      "Kolkata       4.150\n",
      "Name: Price, dtype: float64\n"
     ]
    },
    {
     "data": {
      "image/png": "[encoded data removed]",
      "text/plain": [
       "<Figure size 432x288 with 1 Axes>"
      ]
     },
     "metadata": {
      "needs_background": "light"
     },
     "output_type": "display_data"
    }
   ],
   "source": [
    "#Bivariate analysis, median Price (in Lakh) of car per Location\n",
    "print('Median Price of New Cars by Location')\n",
    "print('  ')\n",
    "print(df.groupby('Location')['Price'].median().sort_values(ascending=False))\n",
    "df.groupby(['Location'])[[\"Price\"]].median().plot(kind='bar');"
   ]
  },
  {
   "cell_type": "markdown",
   "metadata": {},
   "source": [
    "### Observations:\n",
    "\n",
    "- Used car median price in Coimbatore is highest followed by Bangalore."
   ]
  },
  {
   "cell_type": "code",
   "execution_count": 64,
   "metadata": {},
   "outputs": [
    {
     "name": "stdout",
     "output_type": "stream",
     "text": [
      "Median Price of New Cars by Year_By\n",
      "  \n",
      "Year_By\n",
      "2016-2020    7.500\n",
      "2011-2015    5.345\n",
      "2006-2010    3.130\n",
      "2001-2005    1.450\n",
      "1995-2000    0.850\n",
      "Name: Price, dtype: float64\n"
     ]
    },
    {
     "data": {
      "image/png": "[encoded data removed]",
      "text/plain": [
       "<Figure size 432x288 with 1 Axes>"
      ]
     },
     "metadata": {
      "needs_background": "light"
     },
     "output_type": "display_data"
    }
   ],
   "source": [
    "#Bivariate analysis, median Price (in Lakh) of car per Year_By\n",
    "print('Median Price of New Cars by Year_By')\n",
    "print('  ')\n",
    "print(df.groupby('Year_By')['Price'].median().sort_values(ascending=False))\n",
    "df.groupby(['Year_By'])[[\"Price\"]].median().plot(kind='bar');"
   ]
  },
  {
   "cell_type": "markdown",
   "metadata": {},
   "source": [
    "### Observations:\n",
    "\n",
    "- In last 5 years, the median resale price of used cars has increased.\n",
    "- The median price of used cars is continously increasing."
   ]
  },
  {
   "cell_type": "code",
   "execution_count": 65,
   "metadata": {},
   "outputs": [
    {
     "name": "stdout",
     "output_type": "stream",
     "text": [
      "Median Price of New Cars by Fuel_Type\n",
      "  \n",
      "Fuel_Type\n",
      "Electric    12.875\n",
      "Diesel       7.570\n",
      "Petrol       4.450\n",
      "CNG          3.280\n",
      "LPG          2.850\n",
      "Name: Price, dtype: float64\n"
     ]
    },
    {
     "data": {
      "image/png": "[encoded data removed]",
      "text/plain": [
       "<Figure size 432x288 with 1 Axes>"
      ]
     },
     "metadata": {
      "needs_background": "light"
     },
     "output_type": "display_data"
    }
   ],
   "source": [
    "#Bivariate analysis, median Price (in Lakh) of car per Fuel_Type\n",
    "print('Median Price of New Cars by Fuel_Type')\n",
    "print('  ')\n",
    "print(df.groupby('Fuel_Type')['Price'].median().sort_values(ascending=False))\n",
    "df.groupby(['Fuel_Type'])[[\"Price\"]].median().plot(kind='bar');"
   ]
  },
  {
   "cell_type": "markdown",
   "metadata": {},
   "source": [
    "### Observations:\n",
    "\n",
    "- Median price of Electric used cars is highest, followed by diesel and petrol."
   ]
  },
  {
   "cell_type": "code",
   "execution_count": 66,
   "metadata": {},
   "outputs": [
    {
     "name": "stdout",
     "output_type": "stream",
     "text": [
      "Median Price of New Cars by Transmission\n",
      "  \n",
      "Transmission\n",
      "Automatic    16.5\n",
      "Manual        4.6\n",
      "Name: Price, dtype: float64\n"
     ]
    },
    {
     "data": {
      "image/png": "[encoded data removed]",
      "text/plain": [
       "<Figure size 432x288 with 1 Axes>"
      ]
     },
     "metadata": {
      "needs_background": "light"
     },
     "output_type": "display_data"
    }
   ],
   "source": [
    "#Bivariate analysis, median Price (in Lakh) of car per Transmission\n",
    "print('Median Price of New Cars by Transmission')\n",
    "print('  ')\n",
    "print(df.groupby('Transmission')['Price'].median().sort_values(ascending=False))\n",
    "df.groupby(['Transmission'])[[\"Price\"]].median().plot(kind='bar');"
   ]
  },
  {
   "cell_type": "markdown",
   "metadata": {},
   "source": [
    "### Observations:\n",
    "\n",
    "- Median used car price of Automatic vehicle is higher than Manual vehicle."
   ]
  },
  {
   "cell_type": "code",
   "execution_count": 67,
   "metadata": {},
   "outputs": [
    {
     "name": "stdout",
     "output_type": "stream",
     "text": [
      "Median Price of New Cars by Owner_Type\n",
      "  \n",
      "Owner_Type\n",
      "First             5.650\n",
      "Second            4.600\n",
      "Third             3.250\n",
      "Fourth & Above    3.125\n",
      "Name: Price, dtype: float64\n"
     ]
    },
    {
     "data": {
      "image/png": "[encoded data removed]",
      "text/plain": [
       "<Figure size 432x288 with 1 Axes>"
      ]
     },
     "metadata": {
      "needs_background": "light"
     },
     "output_type": "display_data"
    }
   ],
   "source": [
    "#Bivariate analysis, median Price (in Lakh) of car per Owner_Type\n",
    "print('Median Price of New Cars by Owner_Type')\n",
    "print('  ')\n",
    "print(df.groupby('Owner_Type')['Price'].median().sort_values(ascending=False))\n",
    "df.groupby(['Owner_Type'])[[\"Price\"]].median().plot(kind='bar');"
   ]
  },
  {
   "cell_type": "markdown",
   "metadata": {},
   "source": [
    "### Observations:\n",
    "\n",
    "- Median used car price of First resale is higher than second resale.\n",
    "- Third and above ownership (resale) reduces the median price."
   ]
  },
  {
   "cell_type": "code",
   "execution_count": 68,
   "metadata": {},
   "outputs": [
    {
     "name": "stdout",
     "output_type": "stream",
     "text": [
      "Median Price of New Cars by Company\n",
      "  \n",
      "Company\n",
      "Audi             19.225\n",
      "Mercedes-Benz    19.225\n",
      "BMW              19.225\n",
      "Bentley          19.225\n",
      "Isuzu            19.225\n",
      "Jaguar           19.225\n",
      "Porsche          19.225\n",
      "Land             19.225\n",
      "Mini             19.225\n",
      "Jeep             18.500\n",
      "Volvo            18.250\n",
      "Toyota           10.750\n",
      "Mitsubishi        9.950\n",
      "Mahindra          7.570\n",
      "Skoda             6.000\n",
      "Renault           5.490\n",
      "Ford              5.345\n",
      "Honda             4.950\n",
      "Volkswagen        4.890\n",
      "Hyundai           4.600\n",
      "Nissan            4.300\n",
      "Maruti            4.150\n",
      "Datsun            3.100\n",
      "Tata              2.900\n",
      "Fiat              2.600\n",
      "Name: Price, dtype: float64\n"
     ]
    },
    {
     "data": {
      "image/png": "[encoded data removed]",
      "text/plain": [
       "<Figure size 432x288 with 1 Axes>"
      ]
     },
     "metadata": {
      "needs_background": "light"
     },
     "output_type": "display_data"
    }
   ],
   "source": [
    "#Bivariate analysis, median Price (in Lakh) of car per Company\n",
    "print('Median Price of New Cars by Company')\n",
    "print('  ')\n",
    "print(df.groupby('Company')['Price'].median().sort_values(ascending=False))\n",
    "df.groupby(['Company'])[[\"Price\"]].median().plot(kind='bar');"
   ]
  },
  {
   "cell_type": "markdown",
   "metadata": {},
   "source": [
    "### Observations:\n",
    "\n",
    "- Median used car price of Luxury brands like Audi, BMW, Mercedes-Benz is higher than the other brands in used car market."
   ]
  },
  {
   "cell_type": "code",
   "execution_count": 69,
   "metadata": {},
   "outputs": [
    {
     "name": "stdout",
     "output_type": "stream",
     "text": [
      "Unique levels in Location= 11\n",
      "Unique levels in Fuel_Type= 5\n",
      "Unique levels in Transmission= 2\n",
      "Unique levels in Owner_Type= 4\n",
      "Unique levels in Year_By= 5\n",
      "Unique levels in Company= 25\n",
      "Unique levels in Model= 204\n",
      "Unique levels in Seats= 9\n"
     ]
    }
   ],
   "source": [
    "#Lets find the unique levels in each categorical columns\n",
    "print(f'Unique levels in Location= {len(pd.unique(df.Location))}')\n",
    "print(f'Unique levels in Fuel_Type= {len(pd.unique(df.Fuel_Type))}')\n",
    "print(f'Unique levels in Transmission= {len(pd.unique(df.Transmission))}')\n",
    "print(f'Unique levels in Owner_Type= {len(pd.unique(df.Owner_Type))}')\n",
    "print(f'Unique levels in Year_By= {len(pd.unique(df.Year_By))}')\n",
    "print(f'Unique levels in Company= {len(pd.unique(df.Company))}')\n",
    "print(f'Unique levels in Model= {len(pd.unique(df.Model))}')\n",
    "print(f'Unique levels in Seats= {len(pd.unique(df.Seats))}')"
   ]
  },
  {
   "cell_type": "markdown",
   "metadata": {},
   "source": [
    "### Observations:\n",
    "\n",
    "- Since Model has over 200 unique levels, we will not create the dummy vars for this column, for rest, lets create the dummy vars."
   ]
  },
  {
   "cell_type": "markdown",
   "metadata": {},
   "source": [
    "## Check Correlation"
   ]
  },
  {
   "cell_type": "code",
   "execution_count": 70,
   "metadata": {},
   "outputs": [
    {
     "data": {
      "image/png": "[encoded data removed]",
      "text/plain": [
       "<Figure size 432x288 with 2 Axes>"
      ]
     },
     "metadata": {
      "needs_background": "light"
     },
     "output_type": "display_data"
    }
   ],
   "source": [
    "corr = df.corr()\n",
    "sns.heatmap(corr, annot=True); #correlation matrix between different columns"
   ]
  },
  {
   "cell_type": "markdown",
   "metadata": {},
   "source": [
    "### Observations:\n",
    "\n",
    "- Engine and Power are positively correlated to Price of used car.\n",
    "- Price is negatively correlated to Kilometers Driven (log scaled column).\n"
   ]
  },
  {
   "cell_type": "markdown",
   "metadata": {},
   "source": [
    "## One Hot Encoding- create dummy variables for categorical values\n",
    "\n",
    "    - Location\n",
    "    - Year_By\n",
    "    - Fuel_Type\n",
    "    - Transmission\n",
    "    - Owner_Type\n",
    "    - Company\n",
    "   \n",
    "   ###### We will skip 'Model' variable from One Hot Encoding as it has over 200 unique values, as we saw before\n",
    "   "
   ]
  },
  {
   "cell_type": "code",
   "execution_count": 71,
   "metadata": {},
   "outputs": [],
   "source": [
    "df = pd.get_dummies(df, columns=['Location'])\n",
    "df = pd.get_dummies(df, columns=['Year_By'])\n",
    "df = pd.get_dummies(df, columns=['Fuel_Type'])\n",
    "df = pd.get_dummies(df, columns=['Transmission'])\n",
    "df = pd.get_dummies(df, columns=['Owner_Type'])\n",
    "df = pd.get_dummies(df, columns=['Company'])\n",
    "df = pd.get_dummies(df, columns=['Seats'])\n"
   ]
  },
  {
   "cell_type": "code",
   "execution_count": 72,
   "metadata": {},
   "outputs": [
    {
     "name": "stdout",
     "output_type": "stream",
     "text": [
      "<class 'pandas.core.frame.DataFrame'>\n",
      "Int64Index: 7091 entries, 0 to 7252\n",
      "Data columns (total 68 columns):\n",
      " #   Column                     Non-Null Count  Dtype   \n",
      "---  ------                     --------------  -----   \n",
      " 0   Mileage                    7091 non-null   float64 \n",
      " 1   Engine                     7091 non-null   float64 \n",
      " 2   Power                      7091 non-null   float64 \n",
      " 3   New_Price                  7091 non-null   float64 \n",
      " 4   Price                      7091 non-null   float64 \n",
      " 5   Model                      7091 non-null   category\n",
      " 6   Kilometers_Driven_log      7091 non-null   float64 \n",
      " 7   Location_Ahmedabad         7091 non-null   uint8   \n",
      " 8   Location_Bangalore         7091 non-null   uint8   \n",
      " 9   Location_Chennai           7091 non-null   uint8   \n",
      " 10  Location_Coimbatore        7091 non-null   uint8   \n",
      " 11  Location_Delhi             7091 non-null   uint8   \n",
      " 12  Location_Hyderabad         7091 non-null   uint8   \n",
      " 13  Location_Jaipur            7091 non-null   uint8   \n",
      " 14  Location_Kochi             7091 non-null   uint8   \n",
      " 15  Location_Kolkata           7091 non-null   uint8   \n",
      " 16  Location_Mumbai            7091 non-null   uint8   \n",
      " 17  Location_Pune              7091 non-null   uint8   \n",
      " 18  Year_By_1995-2000          7091 non-null   uint8   \n",
      " 19  Year_By_2001-2005          7091 non-null   uint8   \n",
      " 20  Year_By_2006-2010          7091 non-null   uint8   \n",
      " 21  Year_By_2011-2015          7091 non-null   uint8   \n",
      " 22  Year_By_2016-2020          7091 non-null   uint8   \n",
      " 23  Fuel_Type_CNG              7091 non-null   uint8   \n",
      " 24  Fuel_Type_Diesel           7091 non-null   uint8   \n",
      " 25  Fuel_Type_Electric         7091 non-null   uint8   \n",
      " 26  Fuel_Type_LPG              7091 non-null   uint8   \n",
      " 27  Fuel_Type_Petrol           7091 non-null   uint8   \n",
      " 28  Transmission_Automatic     7091 non-null   uint8   \n",
      " 29  Transmission_Manual        7091 non-null   uint8   \n",
      " 30  Owner_Type_First           7091 non-null   uint8   \n",
      " 31  Owner_Type_Fourth & Above  7091 non-null   uint8   \n",
      " 32  Owner_Type_Second          7091 non-null   uint8   \n",
      " 33  Owner_Type_Third           7091 non-null   uint8   \n",
      " 34  Company_Audi               7091 non-null   uint8   \n",
      " 35  Company_BMW                7091 non-null   uint8   \n",
      " 36  Company_Bentley            7091 non-null   uint8   \n",
      " 37  Company_Datsun             7091 non-null   uint8   \n",
      " 38  Company_Fiat               7091 non-null   uint8   \n",
      " 39  Company_Ford               7091 non-null   uint8   \n",
      " 40  Company_Honda              7091 non-null   uint8   \n",
      " 41  Company_Hyundai            7091 non-null   uint8   \n",
      " 42  Company_Isuzu              7091 non-null   uint8   \n",
      " 43  Company_Jaguar             7091 non-null   uint8   \n",
      " 44  Company_Jeep               7091 non-null   uint8   \n",
      " 45  Company_Land               7091 non-null   uint8   \n",
      " 46  Company_Mahindra           7091 non-null   uint8   \n",
      " 47  Company_Maruti             7091 non-null   uint8   \n",
      " 48  Company_Mercedes-Benz      7091 non-null   uint8   \n",
      " 49  Company_Mini               7091 non-null   uint8   \n",
      " 50  Company_Mitsubishi         7091 non-null   uint8   \n",
      " 51  Company_Nissan             7091 non-null   uint8   \n",
      " 52  Company_Porsche            7091 non-null   uint8   \n",
      " 53  Company_Renault            7091 non-null   uint8   \n",
      " 54  Company_Skoda              7091 non-null   uint8   \n",
      " 55  Company_Tata               7091 non-null   uint8   \n",
      " 56  Company_Toyota             7091 non-null   uint8   \n",
      " 57  Company_Volkswagen         7091 non-null   uint8   \n",
      " 58  Company_Volvo              7091 non-null   uint8   \n",
      " 59  Seats_0.0                  7091 non-null   uint8   \n",
      " 60  Seats_2.0                  7091 non-null   uint8   \n",
      " 61  Seats_4.0                  7091 non-null   uint8   \n",
      " 62  Seats_5.0                  7091 non-null   uint8   \n",
      " 63  Seats_6.0                  7091 non-null   uint8   \n",
      " 64  Seats_7.0                  7091 non-null   uint8   \n",
      " 65  Seats_8.0                  7091 non-null   uint8   \n",
      " 66  Seats_9.0                  7091 non-null   uint8   \n",
      " 67  Seats_10.0                 7091 non-null   uint8   \n",
      "dtypes: category(1), float64(6), uint8(61)\n",
      "memory usage: 1.1 MB\n"
     ]
    }
   ],
   "source": [
    "df.info()"
   ]
  },
  {
   "cell_type": "markdown",
   "metadata": {},
   "source": [
    "### Drop the dummy vars, that will not add any value (if there are n levels in the categorical variable, create n-1 dummy vars for that column.)"
   ]
  },
  {
   "cell_type": "code",
   "execution_count": 73,
   "metadata": {},
   "outputs": [],
   "source": [
    "df.drop('Owner_Type_Fourth & Above',inplace=True, axis=1)\n",
    "df.drop('Fuel_Type_CNG',inplace=True, axis=1)\n",
    "df.drop('Transmission_Manual',inplace=True, axis=1)\n",
    "df.drop('Year_By_2016-2020',inplace=True, axis=1)\n",
    "df.drop('Location_Ahmedabad',inplace=True, axis=1)\n",
    "df.drop('Company_Datsun',inplace=True, axis=1)\n",
    "df.drop('Seats_0.0',inplace=True, axis=1)\n"
   ]
  },
  {
   "cell_type": "markdown",
   "metadata": {},
   "source": [
    "## Linear Model Creation and Training"
   ]
  },
  {
   "cell_type": "code",
   "execution_count": 74,
   "metadata": {},
   "outputs": [],
   "source": [
    "#Split Data for Linear Model\n",
    "# independant variables\n",
    "X = df.drop(['Price','Model'], axis=1)\n",
    "# the dependent variable\n",
    "y = df[['Price']]"
   ]
  },
  {
   "cell_type": "code",
   "execution_count": 75,
   "metadata": {},
   "outputs": [],
   "source": [
    "# Split X and y into training and test set in 70:30 ratio\n",
    "\n",
    "X_train, X_test, y_train, y_test = train_test_split(X, y, test_size=0.30, random_state=1)"
   ]
  },
  {
   "cell_type": "code",
   "execution_count": 76,
   "metadata": {},
   "outputs": [
    {
     "data": {
      "text/plain": [
       "LinearRegression(copy_X=True, fit_intercept=True, n_jobs=None, normalize=False)"
      ]
     },
     "execution_count": 76,
     "metadata": {},
     "output_type": "execute_result"
    }
   ],
   "source": [
    "regression_model = LinearRegression()\n",
    "regression_model.fit(X_train, y_train)"
   ]
  },
  {
   "cell_type": "code",
   "execution_count": 77,
   "metadata": {},
   "outputs": [
    {
     "name": "stdout",
     "output_type": "stream",
     "text": [
      "The coefficient for Mileage is -0.07937704766475603\n",
      "The coefficient for Engine is 0.00010000282638066883\n",
      "The coefficient for Power is 0.03561155950442796\n",
      "The coefficient for New_Price is 0.05434223641355018\n",
      "The coefficient for Kilometers_Driven_log is -0.7903337688676733\n",
      "The coefficient for Location_Bangalore is 0.8032004877646801\n",
      "The coefficient for Location_Chennai is 0.060032613630473186\n",
      "The coefficient for Location_Coimbatore is 0.6527905187322809\n",
      "The coefficient for Location_Delhi is -0.5073613897045703\n",
      "The coefficient for Location_Hyderabad is 0.4314693125234725\n",
      "The coefficient for Location_Jaipur is 0.10531394825959961\n",
      "The coefficient for Location_Kochi is 0.23684048363001495\n",
      "The coefficient for Location_Kolkata is -1.13451174225929\n",
      "The coefficient for Location_Mumbai is -0.42588309767755933\n",
      "The coefficient for Location_Pune is -0.06481402371227396\n",
      "The coefficient for Year_By_1995-2000 is -4.973767838485363\n",
      "The coefficient for Year_By_2001-2005 is -4.3116675099393476\n",
      "The coefficient for Year_By_2006-2010 is -3.4028446239275576\n",
      "The coefficient for Year_By_2011-2015 is -1.4421862727554617\n",
      "The coefficient for Fuel_Type_Diesel is 1.1890345932903725\n",
      "The coefficient for Fuel_Type_Electric is 8.205261814933866\n",
      "The coefficient for Fuel_Type_LPG is 0.5173159897119717\n",
      "The coefficient for Fuel_Type_Petrol is -0.39952538280611594\n",
      "The coefficient for Transmission_Automatic is 0.8483459796798483\n",
      "The coefficient for Owner_Type_First is 0.18133977019568792\n",
      "The coefficient for Owner_Type_Second is -0.2913693593886376\n",
      "The coefficient for Owner_Type_Third is -0.6606163852850797\n",
      "The coefficient for Company_Audi is 6.979039727883634\n",
      "The coefficient for Company_BMW is 5.99354862007766\n",
      "The coefficient for Company_Bentley is 11.280047797565098\n",
      "The coefficient for Company_Fiat is 0.41707249768323984\n",
      "The coefficient for Company_Ford is 1.6444745231721654\n",
      "The coefficient for Company_Honda is 1.5266179201479555\n",
      "The coefficient for Company_Hyundai is 1.683483366668685\n",
      "The coefficient for Company_Isuzu is 7.395159590060821\n",
      "The coefficient for Company_Jaguar is 6.625988964635284\n",
      "The coefficient for Company_Jeep is 8.356901437660321\n",
      "The coefficient for Company_Land is 9.755088405410767\n",
      "The coefficient for Company_Mahindra is 0.9795146691497766\n",
      "The coefficient for Company_Maruti is 1.824425887710508\n",
      "The coefficient for Company_Mercedes-Benz is 6.176424078038735\n",
      "The coefficient for Company_Mini is 9.421866480603798\n",
      "The coefficient for Company_Mitsubishi is 1.754053743407255\n",
      "The coefficient for Company_Nissan is 1.1101808542466947\n",
      "The coefficient for Company_Porsche is 8.498230179660757\n",
      "The coefficient for Company_Renault is 1.7812015763100564\n",
      "The coefficient for Company_Skoda is 1.2121417296789214\n",
      "The coefficient for Company_Tata is 0.0017878315255325794\n",
      "The coefficient for Company_Toyota is 4.136042147543572\n",
      "The coefficient for Company_Volkswagen is 1.1938177574013322\n",
      "The coefficient for Company_Volvo is 6.342351712378346\n",
      "The coefficient for Seats_2.0 is -2.8051774529150295\n",
      "The coefficient for Seats_4.0 is -4.162126059341239\n",
      "The coefficient for Seats_5.0 is -4.821925541965627\n",
      "The coefficient for Seats_6.0 is -4.300895716516085\n",
      "The coefficient for Seats_7.0 is -3.4995003314226274\n",
      "The coefficient for Seats_8.0 is -4.199843638338372\n",
      "The coefficient for Seats_9.0 is -6.828543394457601\n",
      "The coefficient for Seats_10.0 is -2.5790139767964746\n"
     ]
    }
   ],
   "source": [
    "for idx, col_name in enumerate(X_train.columns):\n",
    "    print(\"The coefficient for {} is {}\".format(col_name, regression_model.coef_[0][idx]))"
   ]
  },
  {
   "cell_type": "code",
   "execution_count": 78,
   "metadata": {},
   "outputs": [
    {
     "name": "stdout",
     "output_type": "stream",
     "text": [
      "The intercept for our model is 15.333466034855626\n"
     ]
    }
   ],
   "source": [
    "intercept = regression_model.intercept_[0]\n",
    "print(\"The intercept for our model is {}\".format(intercept))"
   ]
  },
  {
   "cell_type": "code",
   "execution_count": 79,
   "metadata": {},
   "outputs": [
    {
     "data": {
      "text/plain": [
       "0.8715231914816532"
      ]
     },
     "execution_count": 79,
     "metadata": {},
     "output_type": "execute_result"
    }
   ],
   "source": [
    "regression_model.score(X_train, y_train)"
   ]
  },
  {
   "cell_type": "code",
   "execution_count": 80,
   "metadata": {},
   "outputs": [
    {
     "data": {
      "text/plain": [
       "0.8645064123863024"
      ]
     },
     "execution_count": 80,
     "metadata": {},
     "output_type": "execute_result"
    }
   ],
   "source": [
    "#out of sample score (R^2)\n",
    "regression_model.score(X_test, y_test)\n"
   ]
  },
  {
   "cell_type": "markdown",
   "metadata": {},
   "source": [
    "## Checking the Linear Regression Assumptions"
   ]
  },
  {
   "cell_type": "markdown",
   "metadata": {},
   "source": [
    "1. **No Multicollinearity**\n",
    "2. **Mean of residuals should be 0**\n",
    "3. **Linearity of variables**\n",
    "4. **No Heteroscedacity**\n",
    "5. **Normality of error terms**"
   ]
  },
  {
   "cell_type": "markdown",
   "metadata": {},
   "source": [
    "## 1. Treat Mulicolinearity among independent variables with vif score.\n",
    "####  Removing Multicollinearity\n",
    "To remove multicollinearity\n",
    "  1. We will drop every column one by one, that has VIF score greater than 5.\n",
    "  2. Look at the adjusted R square of all these models\n",
    "  3. Then drop the Variable that makes least change in Adjusted-R square\n",
    "  4. Check the VIF Scores again\n",
    "  5. Continue till we get all VIF scores under 5"
   ]
  },
  {
   "cell_type": "code",
   "execution_count": 81,
   "metadata": {},
   "outputs": [],
   "source": [
    "#Multicolinearity\n",
    "# MAPE\n",
    "def mape(targets, predictions):\n",
    "    return np.mean(np.abs((targets - predictions)) / targets) * 100\n",
    "\n",
    "# Adjusted R^2\n",
    "def adj_r2(ind_vars, targets, predictions):\n",
    "    r2 = r2_score(targets, predictions)\n",
    "    n = ind_vars.shape[0]\n",
    "    k = ind_vars.shape[1]\n",
    "    return 1-((1-r2)*(n-1)/(n-k-1))\n",
    "\n",
    "# Model performance check\n",
    "def model_perf(model, inp, out):\n",
    "\n",
    "    y_pred = model.predict(inp)\n",
    "    y_act = out.values\n",
    "\n",
    "    return pd.DataFrame({\n",
    "                \"RMSE\": np.sqrt(mean_squared_error(y_act, y_pred)),\n",
    "                \"MAE\": mean_absolute_error(y_act, y_pred),\n",
    "                \"MAPE\": mape(y_act, y_pred),\n",
    "                \"R^2\": r2_score(y_act, y_pred),\n",
    "                \"Adjusted R^2\": adj_r2(inp, y_act, y_pred)\n",
    "           }, index=[0])"
   ]
  },
  {
   "cell_type": "code",
   "execution_count": 82,
   "metadata": {},
   "outputs": [
    {
     "name": "stdout",
     "output_type": "stream",
     "text": [
      "Training Performance\n",
      "\n",
      "       RMSE       MAE       MAPE       R^2  Adjusted R^2\n",
      "0  2.022981  1.476866  26.925395  0.871523      0.869977\n"
     ]
    }
   ],
   "source": [
    "# Checking model performance on train set\n",
    "print('Training Performance\\n')\n",
    "print(model_perf(regression_model, X_train, y_train))"
   ]
  },
  {
   "cell_type": "code",
   "execution_count": 83,
   "metadata": {},
   "outputs": [
    {
     "name": "stdout",
     "output_type": "stream",
     "text": [
      "Testing Performance\n",
      "\n",
      "       RMSE       MAE       MAPE       R^2  Adjusted R^2\n",
      "0  2.062959  1.495373  26.615817  0.864506      0.860641\n"
     ]
    }
   ],
   "source": [
    "# Checking model performance on train set\n",
    "print('Testing Performance\\n')\n",
    "print(model_perf(regression_model, X_test, y_test))"
   ]
  },
  {
   "cell_type": "code",
   "execution_count": 84,
   "metadata": {},
   "outputs": [
    {
     "data": {
      "text/html": [
       "<div>\n",
       "<style scoped>\n",
       "    .dataframe tbody tr th:only-of-type {\n",
       "        vertical-align: middle;\n",
       "    }\n",
       "\n",
       "    .dataframe tbody tr th {\n",
       "        vertical-align: top;\n",
       "    }\n",
       "\n",
       "    .dataframe thead th {\n",
       "        text-align: right;\n",
       "    }\n",
       "</style>\n",
       "<table border=\"1\" class=\"dataframe\">\n",
       "  <thead>\n",
       "    <tr style=\"text-align: right;\">\n",
       "      <th></th>\n",
       "      <th>Mileage</th>\n",
       "      <th>Engine</th>\n",
       "      <th>Power</th>\n",
       "      <th>New_Price</th>\n",
       "      <th>Kilometers_Driven_log</th>\n",
       "      <th>Location_Bangalore</th>\n",
       "      <th>Location_Chennai</th>\n",
       "      <th>Location_Coimbatore</th>\n",
       "      <th>Location_Delhi</th>\n",
       "      <th>Location_Hyderabad</th>\n",
       "      <th>Location_Jaipur</th>\n",
       "      <th>Location_Kochi</th>\n",
       "      <th>Location_Kolkata</th>\n",
       "      <th>Location_Mumbai</th>\n",
       "      <th>Location_Pune</th>\n",
       "      <th>Year_By_1995-2000</th>\n",
       "      <th>Year_By_2001-2005</th>\n",
       "      <th>Year_By_2006-2010</th>\n",
       "      <th>Year_By_2011-2015</th>\n",
       "      <th>Fuel_Type_Diesel</th>\n",
       "      <th>Fuel_Type_Electric</th>\n",
       "      <th>Fuel_Type_LPG</th>\n",
       "      <th>Fuel_Type_Petrol</th>\n",
       "      <th>Transmission_Automatic</th>\n",
       "      <th>Owner_Type_First</th>\n",
       "      <th>Owner_Type_Second</th>\n",
       "      <th>Owner_Type_Third</th>\n",
       "      <th>Company_Audi</th>\n",
       "      <th>Company_BMW</th>\n",
       "      <th>Company_Bentley</th>\n",
       "      <th>Company_Fiat</th>\n",
       "      <th>Company_Ford</th>\n",
       "      <th>Company_Honda</th>\n",
       "      <th>Company_Hyundai</th>\n",
       "      <th>Company_Isuzu</th>\n",
       "      <th>Company_Jaguar</th>\n",
       "      <th>Company_Jeep</th>\n",
       "      <th>Company_Land</th>\n",
       "      <th>Company_Mahindra</th>\n",
       "      <th>Company_Maruti</th>\n",
       "      <th>Company_Mercedes-Benz</th>\n",
       "      <th>Company_Mini</th>\n",
       "      <th>Company_Mitsubishi</th>\n",
       "      <th>Company_Nissan</th>\n",
       "      <th>Company_Porsche</th>\n",
       "      <th>Company_Renault</th>\n",
       "      <th>Company_Skoda</th>\n",
       "      <th>Company_Tata</th>\n",
       "      <th>Company_Toyota</th>\n",
       "      <th>Company_Volkswagen</th>\n",
       "      <th>Company_Volvo</th>\n",
       "      <th>Seats_2.0</th>\n",
       "      <th>Seats_4.0</th>\n",
       "      <th>Seats_5.0</th>\n",
       "      <th>Seats_6.0</th>\n",
       "      <th>Seats_7.0</th>\n",
       "      <th>Seats_8.0</th>\n",
       "      <th>Seats_9.0</th>\n",
       "      <th>Seats_10.0</th>\n",
       "      <th>const</th>\n",
       "    </tr>\n",
       "  </thead>\n",
       "  <tbody>\n",
       "    <tr>\n",
       "      <th>0</th>\n",
       "      <td>26.60</td>\n",
       "      <td>998.0</td>\n",
       "      <td>58.16</td>\n",
       "      <td>7.87</td>\n",
       "      <td>11.184435</td>\n",
       "      <td>0</td>\n",
       "      <td>0</td>\n",
       "      <td>0</td>\n",
       "      <td>0</td>\n",
       "      <td>0</td>\n",
       "      <td>0</td>\n",
       "      <td>0</td>\n",
       "      <td>0</td>\n",
       "      <td>1</td>\n",
       "      <td>0</td>\n",
       "      <td>0</td>\n",
       "      <td>0</td>\n",
       "      <td>1</td>\n",
       "      <td>0</td>\n",
       "      <td>0</td>\n",
       "      <td>0</td>\n",
       "      <td>0</td>\n",
       "      <td>0</td>\n",
       "      <td>0</td>\n",
       "      <td>1</td>\n",
       "      <td>0</td>\n",
       "      <td>0</td>\n",
       "      <td>0</td>\n",
       "      <td>0</td>\n",
       "      <td>0</td>\n",
       "      <td>0</td>\n",
       "      <td>0</td>\n",
       "      <td>0</td>\n",
       "      <td>0</td>\n",
       "      <td>0</td>\n",
       "      <td>0</td>\n",
       "      <td>0</td>\n",
       "      <td>0</td>\n",
       "      <td>0</td>\n",
       "      <td>1</td>\n",
       "      <td>0</td>\n",
       "      <td>0</td>\n",
       "      <td>0</td>\n",
       "      <td>0</td>\n",
       "      <td>0</td>\n",
       "      <td>0</td>\n",
       "      <td>0</td>\n",
       "      <td>0</td>\n",
       "      <td>0</td>\n",
       "      <td>0</td>\n",
       "      <td>0</td>\n",
       "      <td>0</td>\n",
       "      <td>0</td>\n",
       "      <td>1</td>\n",
       "      <td>0</td>\n",
       "      <td>0</td>\n",
       "      <td>0</td>\n",
       "      <td>0</td>\n",
       "      <td>0</td>\n",
       "      <td>1</td>\n",
       "    </tr>\n",
       "    <tr>\n",
       "      <th>1</th>\n",
       "      <td>19.67</td>\n",
       "      <td>1582.0</td>\n",
       "      <td>126.20</td>\n",
       "      <td>9.74</td>\n",
       "      <td>10.621352</td>\n",
       "      <td>0</td>\n",
       "      <td>0</td>\n",
       "      <td>0</td>\n",
       "      <td>0</td>\n",
       "      <td>0</td>\n",
       "      <td>0</td>\n",
       "      <td>0</td>\n",
       "      <td>0</td>\n",
       "      <td>0</td>\n",
       "      <td>1</td>\n",
       "      <td>0</td>\n",
       "      <td>0</td>\n",
       "      <td>0</td>\n",
       "      <td>1</td>\n",
       "      <td>1</td>\n",
       "      <td>0</td>\n",
       "      <td>0</td>\n",
       "      <td>0</td>\n",
       "      <td>0</td>\n",
       "      <td>1</td>\n",
       "      <td>0</td>\n",
       "      <td>0</td>\n",
       "      <td>0</td>\n",
       "      <td>0</td>\n",
       "      <td>0</td>\n",
       "      <td>0</td>\n",
       "      <td>0</td>\n",
       "      <td>0</td>\n",
       "      <td>1</td>\n",
       "      <td>0</td>\n",
       "      <td>0</td>\n",
       "      <td>0</td>\n",
       "      <td>0</td>\n",
       "      <td>0</td>\n",
       "      <td>0</td>\n",
       "      <td>0</td>\n",
       "      <td>0</td>\n",
       "      <td>0</td>\n",
       "      <td>0</td>\n",
       "      <td>0</td>\n",
       "      <td>0</td>\n",
       "      <td>0</td>\n",
       "      <td>0</td>\n",
       "      <td>0</td>\n",
       "      <td>0</td>\n",
       "      <td>0</td>\n",
       "      <td>0</td>\n",
       "      <td>0</td>\n",
       "      <td>1</td>\n",
       "      <td>0</td>\n",
       "      <td>0</td>\n",
       "      <td>0</td>\n",
       "      <td>0</td>\n",
       "      <td>0</td>\n",
       "      <td>1</td>\n",
       "    </tr>\n",
       "    <tr>\n",
       "      <th>2</th>\n",
       "      <td>18.20</td>\n",
       "      <td>1199.0</td>\n",
       "      <td>88.70</td>\n",
       "      <td>8.61</td>\n",
       "      <td>10.736418</td>\n",
       "      <td>0</td>\n",
       "      <td>1</td>\n",
       "      <td>0</td>\n",
       "      <td>0</td>\n",
       "      <td>0</td>\n",
       "      <td>0</td>\n",
       "      <td>0</td>\n",
       "      <td>0</td>\n",
       "      <td>0</td>\n",
       "      <td>0</td>\n",
       "      <td>0</td>\n",
       "      <td>0</td>\n",
       "      <td>0</td>\n",
       "      <td>1</td>\n",
       "      <td>0</td>\n",
       "      <td>0</td>\n",
       "      <td>0</td>\n",
       "      <td>1</td>\n",
       "      <td>0</td>\n",
       "      <td>1</td>\n",
       "      <td>0</td>\n",
       "      <td>0</td>\n",
       "      <td>0</td>\n",
       "      <td>0</td>\n",
       "      <td>0</td>\n",
       "      <td>0</td>\n",
       "      <td>0</td>\n",
       "      <td>1</td>\n",
       "      <td>0</td>\n",
       "      <td>0</td>\n",
       "      <td>0</td>\n",
       "      <td>0</td>\n",
       "      <td>0</td>\n",
       "      <td>0</td>\n",
       "      <td>0</td>\n",
       "      <td>0</td>\n",
       "      <td>0</td>\n",
       "      <td>0</td>\n",
       "      <td>0</td>\n",
       "      <td>0</td>\n",
       "      <td>0</td>\n",
       "      <td>0</td>\n",
       "      <td>0</td>\n",
       "      <td>0</td>\n",
       "      <td>0</td>\n",
       "      <td>0</td>\n",
       "      <td>0</td>\n",
       "      <td>0</td>\n",
       "      <td>1</td>\n",
       "      <td>0</td>\n",
       "      <td>0</td>\n",
       "      <td>0</td>\n",
       "      <td>0</td>\n",
       "      <td>0</td>\n",
       "      <td>1</td>\n",
       "    </tr>\n",
       "    <tr>\n",
       "      <th>3</th>\n",
       "      <td>20.77</td>\n",
       "      <td>1248.0</td>\n",
       "      <td>88.76</td>\n",
       "      <td>7.87</td>\n",
       "      <td>11.373675</td>\n",
       "      <td>0</td>\n",
       "      <td>1</td>\n",
       "      <td>0</td>\n",
       "      <td>0</td>\n",
       "      <td>0</td>\n",
       "      <td>0</td>\n",
       "      <td>0</td>\n",
       "      <td>0</td>\n",
       "      <td>0</td>\n",
       "      <td>0</td>\n",
       "      <td>0</td>\n",
       "      <td>0</td>\n",
       "      <td>0</td>\n",
       "      <td>1</td>\n",
       "      <td>1</td>\n",
       "      <td>0</td>\n",
       "      <td>0</td>\n",
       "      <td>0</td>\n",
       "      <td>0</td>\n",
       "      <td>1</td>\n",
       "      <td>0</td>\n",
       "      <td>0</td>\n",
       "      <td>0</td>\n",
       "      <td>0</td>\n",
       "      <td>0</td>\n",
       "      <td>0</td>\n",
       "      <td>0</td>\n",
       "      <td>0</td>\n",
       "      <td>0</td>\n",
       "      <td>0</td>\n",
       "      <td>0</td>\n",
       "      <td>0</td>\n",
       "      <td>0</td>\n",
       "      <td>0</td>\n",
       "      <td>1</td>\n",
       "      <td>0</td>\n",
       "      <td>0</td>\n",
       "      <td>0</td>\n",
       "      <td>0</td>\n",
       "      <td>0</td>\n",
       "      <td>0</td>\n",
       "      <td>0</td>\n",
       "      <td>0</td>\n",
       "      <td>0</td>\n",
       "      <td>0</td>\n",
       "      <td>0</td>\n",
       "      <td>0</td>\n",
       "      <td>0</td>\n",
       "      <td>0</td>\n",
       "      <td>0</td>\n",
       "      <td>1</td>\n",
       "      <td>0</td>\n",
       "      <td>0</td>\n",
       "      <td>0</td>\n",
       "      <td>1</td>\n",
       "    </tr>\n",
       "    <tr>\n",
       "      <th>4</th>\n",
       "      <td>15.20</td>\n",
       "      <td>1968.0</td>\n",
       "      <td>140.80</td>\n",
       "      <td>46.32</td>\n",
       "      <td>10.613271</td>\n",
       "      <td>0</td>\n",
       "      <td>0</td>\n",
       "      <td>1</td>\n",
       "      <td>0</td>\n",
       "      <td>0</td>\n",
       "      <td>0</td>\n",
       "      <td>0</td>\n",
       "      <td>0</td>\n",
       "      <td>0</td>\n",
       "      <td>0</td>\n",
       "      <td>0</td>\n",
       "      <td>0</td>\n",
       "      <td>0</td>\n",
       "      <td>1</td>\n",
       "      <td>1</td>\n",
       "      <td>0</td>\n",
       "      <td>0</td>\n",
       "      <td>0</td>\n",
       "      <td>1</td>\n",
       "      <td>0</td>\n",
       "      <td>1</td>\n",
       "      <td>0</td>\n",
       "      <td>1</td>\n",
       "      <td>0</td>\n",
       "      <td>0</td>\n",
       "      <td>0</td>\n",
       "      <td>0</td>\n",
       "      <td>0</td>\n",
       "      <td>0</td>\n",
       "      <td>0</td>\n",
       "      <td>0</td>\n",
       "      <td>0</td>\n",
       "      <td>0</td>\n",
       "      <td>0</td>\n",
       "      <td>0</td>\n",
       "      <td>0</td>\n",
       "      <td>0</td>\n",
       "      <td>0</td>\n",
       "      <td>0</td>\n",
       "      <td>0</td>\n",
       "      <td>0</td>\n",
       "      <td>0</td>\n",
       "      <td>0</td>\n",
       "      <td>0</td>\n",
       "      <td>0</td>\n",
       "      <td>0</td>\n",
       "      <td>0</td>\n",
       "      <td>0</td>\n",
       "      <td>1</td>\n",
       "      <td>0</td>\n",
       "      <td>0</td>\n",
       "      <td>0</td>\n",
       "      <td>0</td>\n",
       "      <td>0</td>\n",
       "      <td>1</td>\n",
       "    </tr>\n",
       "  </tbody>\n",
       "</table>\n",
       "</div>"
      ],
      "text/plain": [
       "   Mileage  Engine   Power  New_Price  Kilometers_Driven_log  \\\n",
       "0    26.60   998.0   58.16       7.87              11.184435   \n",
       "1    19.67  1582.0  126.20       9.74              10.621352   \n",
       "2    18.20  1199.0   88.70       8.61              10.736418   \n",
       "3    20.77  1248.0   88.76       7.87              11.373675   \n",
       "4    15.20  1968.0  140.80      46.32              10.613271   \n",
       "\n",
       "   Location_Bangalore  Location_Chennai  Location_Coimbatore  Location_Delhi  \\\n",
       "0                   0                 0                    0               0   \n",
       "1                   0                 0                    0               0   \n",
       "2                   0                 1                    0               0   \n",
       "3                   0                 1                    0               0   \n",
       "4                   0                 0                    1               0   \n",
       "\n",
       "   Location_Hyderabad  Location_Jaipur  Location_Kochi  Location_Kolkata  \\\n",
       "0                   0                0               0                 0   \n",
       "1                   0                0               0                 0   \n",
       "2                   0                0               0                 0   \n",
       "3                   0                0               0                 0   \n",
       "4                   0                0               0                 0   \n",
       "\n",
       "   Location_Mumbai  Location_Pune  Year_By_1995-2000  Year_By_2001-2005  \\\n",
       "0                1              0                  0                  0   \n",
       "1                0              1                  0                  0   \n",
       "2                0              0                  0                  0   \n",
       "3                0              0                  0                  0   \n",
       "4                0              0                  0                  0   \n",
       "\n",
       "   Year_By_2006-2010  Year_By_2011-2015  Fuel_Type_Diesel  Fuel_Type_Electric  \\\n",
       "0                  1                  0                 0                   0   \n",
       "1                  0                  1                 1                   0   \n",
       "2                  0                  1                 0                   0   \n",
       "3                  0                  1                 1                   0   \n",
       "4                  0                  1                 1                   0   \n",
       "\n",
       "   Fuel_Type_LPG  Fuel_Type_Petrol  Transmission_Automatic  Owner_Type_First  \\\n",
       "0              0                 0                       0                 1   \n",
       "1              0                 0                       0                 1   \n",
       "2              0                 1                       0                 1   \n",
       "3              0                 0                       0                 1   \n",
       "4              0                 0                       1                 0   \n",
       "\n",
       "   Owner_Type_Second  Owner_Type_Third  Company_Audi  Company_BMW  \\\n",
       "0                  0                 0             0            0   \n",
       "1                  0                 0             0            0   \n",
       "2                  0                 0             0            0   \n",
       "3                  0                 0             0            0   \n",
       "4                  1                 0             1            0   \n",
       "\n",
       "   Company_Bentley  Company_Fiat  Company_Ford  Company_Honda  \\\n",
       "0                0             0             0              0   \n",
       "1                0             0             0              0   \n",
       "2                0             0             0              1   \n",
       "3                0             0             0              0   \n",
       "4                0             0             0              0   \n",
       "\n",
       "   Company_Hyundai  Company_Isuzu  Company_Jaguar  Company_Jeep  Company_Land  \\\n",
       "0                0              0               0             0             0   \n",
       "1                1              0               0             0             0   \n",
       "2                0              0               0             0             0   \n",
       "3                0              0               0             0             0   \n",
       "4                0              0               0             0             0   \n",
       "\n",
       "   Company_Mahindra  Company_Maruti  Company_Mercedes-Benz  Company_Mini  \\\n",
       "0                 0               1                      0             0   \n",
       "1                 0               0                      0             0   \n",
       "2                 0               0                      0             0   \n",
       "3                 0               1                      0             0   \n",
       "4                 0               0                      0             0   \n",
       "\n",
       "   Company_Mitsubishi  Company_Nissan  Company_Porsche  Company_Renault  \\\n",
       "0                   0               0                0                0   \n",
       "1                   0               0                0                0   \n",
       "2                   0               0                0                0   \n",
       "3                   0               0                0                0   \n",
       "4                   0               0                0                0   \n",
       "\n",
       "   Company_Skoda  Company_Tata  Company_Toyota  Company_Volkswagen  \\\n",
       "0              0             0               0                   0   \n",
       "1              0             0               0                   0   \n",
       "2              0             0               0                   0   \n",
       "3              0             0               0                   0   \n",
       "4              0             0               0                   0   \n",
       "\n",
       "   Company_Volvo  Seats_2.0  Seats_4.0  Seats_5.0  Seats_6.0  Seats_7.0  \\\n",
       "0              0          0          0          1          0          0   \n",
       "1              0          0          0          1          0          0   \n",
       "2              0          0          0          1          0          0   \n",
       "3              0          0          0          0          0          1   \n",
       "4              0          0          0          1          0          0   \n",
       "\n",
       "   Seats_8.0  Seats_9.0  Seats_10.0  const  \n",
       "0          0          0           0      1  \n",
       "1          0          0           0      1  \n",
       "2          0          0           0      1  \n",
       "3          0          0           0      1  \n",
       "4          0          0           0      1  "
      ]
     },
     "execution_count": 84,
     "metadata": {},
     "output_type": "execute_result"
    }
   ],
   "source": [
    "# to compute VIF, we first have to add a constant column having value 1 to our input variables\n",
    "\n",
    "X1 = X.copy()\n",
    "X1['const'] = 1\n",
    "X1.head()"
   ]
  },
  {
   "cell_type": "code",
   "execution_count": 85,
   "metadata": {},
   "outputs": [
    {
     "name": "stdout",
     "output_type": "stream",
     "text": [
      "Series before feature selection: \n",
      "\n",
      "Mileage                      3.614768\n",
      "Engine                       9.704063\n",
      "Power                        8.526884\n",
      "New_Price                   25.088749\n",
      "Kilometers_Driven_log        1.906629\n",
      "Location_Bangalore           2.471322\n",
      "Location_Chennai             2.917428\n",
      "Location_Coimbatore          3.487009\n",
      "Location_Delhi               3.124973\n",
      "Location_Hyderabad           3.713409\n",
      "Location_Jaipur              2.646811\n",
      "Location_Kochi               3.466835\n",
      "Location_Kolkata             3.095375\n",
      "Location_Mumbai              3.946136\n",
      "Location_Pune                3.382238\n",
      "Year_By_1995-2000            1.040109\n",
      "Year_By_2001-2005            1.374262\n",
      "Year_By_2006-2010            2.346492\n",
      "Year_By_2011-2015            1.991770\n",
      "Fuel_Type_Diesel            30.895838\n",
      "Fuel_Type_Electric           1.047072\n",
      "Fuel_Type_LPG                1.214879\n",
      "Fuel_Type_Petrol            31.355040\n",
      "Transmission_Automatic       2.339646\n",
      "Owner_Type_First            88.333195\n",
      "Owner_Type_Second           80.609740\n",
      "Owner_Type_Third            11.411889\n",
      "Company_Audi                26.578032\n",
      "Company_BMW                 29.261067\n",
      "Company_Bentley              1.145805\n",
      "Company_Fiat                 3.292916\n",
      "Company_Ford                21.305621\n",
      "Company_Honda               41.408355\n",
      "Company_Hyundai             66.404610\n",
      "Company_Isuzu                1.158285\n",
      "Company_Jaguar               5.600130\n",
      "Company_Jeep                 2.307848\n",
      "Company_Land                 5.323746\n",
      "Company_Mahindra            20.625841\n",
      "Company_Maruti              69.486493\n",
      "Company_Mercedes-Benz       34.648808\n",
      "Company_Mini                 3.779715\n",
      "Company_Mitsubishi           3.970279\n",
      "Company_Nissan               7.997232\n",
      "Company_Porsche              2.356783\n",
      "Company_Renault             10.961178\n",
      "Company_Skoda               15.372790\n",
      "Company_Tata                14.262094\n",
      "Company_Toyota              32.789280\n",
      "Company_Volkswagen          22.608615\n",
      "Company_Volvo                3.606554\n",
      "Seats_2.0                   17.288127\n",
      "Seats_4.0                  116.759197\n",
      "Seats_5.0                  966.720046\n",
      "Seats_6.0                   39.719461\n",
      "Seats_7.0                  712.307642\n",
      "Seats_8.0                  163.292989\n",
      "Seats_9.0                    3.042337\n",
      "Seats_10.0                   7.121261\n",
      "const                     9321.045154\n",
      "dtype: float64\n",
      "\n"
     ]
    }
   ],
   "source": [
    "from statsmodels.stats.outliers_influence import variance_inflation_factor\n",
    "\n",
    "vif_series1 = pd.Series([variance_inflation_factor(X1.values,i) for i in range(X1.shape[1])],index=X1.columns)\n",
    "print('Series before feature selection: \\n\\n{}\\n'.format(vif_series1))"
   ]
  },
  {
   "cell_type": "code",
   "execution_count": 86,
   "metadata": {},
   "outputs": [],
   "source": [
    "# Method to drop all the multicollinear columns and choose which one we should drop\n",
    "def treating_multicollinearity(high_vif_columns, x_train, x_test, y_train, y_test):\n",
    "    \"\"\"\n",
    "    Drop every column that has VIF score greater than 5, one by one.\n",
    "    Look at the adjusted R square of all these models\n",
    "    Look at the RMSE of all these models on test data\n",
    "    \"\"\"\n",
    "    adj_rsq_scores = []\n",
    "    rmse_test_data = []\n",
    "\n",
    "    # build ols models by dropping one of these at a time and observe the Adjusted R-squared\n",
    "    for cols in high_vif_columns:\n",
    "        train = x_train.loc[:, ~x_train.columns.str.startswith(cols)]\n",
    "        test = x_test.loc[:, ~x_test.columns.str.startswith(cols)]\n",
    "        # Create the model\n",
    "        \n",
    "        model = LinearRegression(fit_intercept=False)\n",
    "        model.fit(train, y_train)\n",
    "        # Adj R-Sq\n",
    "        adj_rsq_scores.append(adj_r2(train, y_train, model.predict(train)))\n",
    "        # RMSE (Test data)\n",
    "        y_pred_test_Price = model.predict(test)\n",
    "        y_test_Price = y_test\n",
    "        rmse_test_data.append(np.sqrt(mean_squared_error(y_pred_test_Price, y_test_Price)))\n",
    "\n",
    "    # Add new Adj_Rsq and RMSE after dropping each colmn\n",
    "    temp = pd.DataFrame(\n",
    "        {\n",
    "            \"col\": high_vif_columns,\n",
    "            \"Adj_rsq_after_dropping_col\": adj_rsq_scores,\n",
    "            \"Test RMSE\": rmse_test_data,\n",
    "        }\n",
    "    ).sort_values(by=\"Adj_rsq_after_dropping_col\", ascending=False)\n",
    "\n",
    "    print(temp)"
   ]
  },
  {
   "cell_type": "code",
   "execution_count": 87,
   "metadata": {},
   "outputs": [
    {
     "name": "stdout",
     "output_type": "stream",
     "text": [
      "                      col  Adj_rsq_after_dropping_col  Test RMSE\n",
      "21           Company_Tata                    0.869977   2.062961\n",
      "5        Owner_Type_First                    0.869975   2.063262\n",
      "6       Owner_Type_Second                    0.869972   2.062514\n",
      "0                  Engine                    0.869967   2.063356\n",
      "7        Owner_Type_Third                    0.869955   2.062104\n",
      "30             Seats_10.0                    0.869946   2.065061\n",
      "4        Fuel_Type_Petrol                    0.869935   2.063402\n",
      "24              Seats_2.0                    0.869932   2.063584\n",
      "15       Company_Mahindra                    0.869911   2.064935\n",
      "28              Seats_7.0                    0.869901   2.063185\n",
      "18         Company_Nissan                    0.869897   2.064338\n",
      "20          Company_Skoda                    0.869892   2.062760\n",
      "23     Company_Volkswagen                    0.869876   2.064150\n",
      "25              Seats_4.0                    0.869871   2.063279\n",
      "29              Seats_8.0                    0.869868   2.063470\n",
      "27              Seats_6.0                    0.869867   2.063100\n",
      "26              Seats_5.0                    0.869833   2.063016\n",
      "11          Company_Honda                    0.869808   2.064814\n",
      "10           Company_Ford                    0.869785   2.065587\n",
      "12        Company_Hyundai                    0.869767   2.065504\n",
      "19        Company_Renault                    0.869760   2.065262\n",
      "16         Company_Maruti                    0.869728   2.066085\n",
      "3        Fuel_Type_Diesel                    0.869596   2.063464\n",
      "2               New_Price                    0.869230   2.071856\n",
      "22         Company_Toyota                    0.868862   2.072750\n",
      "9             Company_BMW                    0.868284   2.071840\n",
      "13         Company_Jaguar                    0.868277   2.072159\n",
      "17  Company_Mercedes-Benz                    0.868150   2.074931\n",
      "8            Company_Audi                    0.867682   2.074001\n",
      "14           Company_Land                    0.864535   2.100873\n",
      "1                   Power                    0.860194   2.152052\n"
     ]
    }
   ],
   "source": [
    "high_vif_columns = [\"Engine\",\"Power\",\"New_Price\",\"Fuel_Type_Diesel\",\"Fuel_Type_Petrol\",\"Owner_Type_First\",\"Owner_Type_Second\",\"Owner_Type_Third\",\"Company_Audi\",\"Company_BMW\",\"Company_Ford\",\"Company_Honda\",\"Company_Hyundai\",\"Company_Jaguar\",\"Company_Land\",\"Company_Mahindra\",\"Company_Maruti\",\"Company_Mercedes-Benz\",\"Company_Nissan\",\"Company_Renault\",\"Company_Skoda\",\"Company_Tata\",\"Company_Toyota\",\"Company_Volkswagen\",\"Seats_2.0\",\"Seats_4.0\",\"Seats_5.0\",\"Seats_6.0\",\"Seats_7.0\",\"Seats_8.0\",\"Seats_10.0\"]\n",
    "\n",
    "X_train1 = X_train.copy()\n",
    "X_train1['constant'] = 1\n",
    "\n",
    "X_test1 = X_test.copy()\n",
    "X_test1['constant'] = 1\n",
    "\n",
    "treating_multicollinearity(high_vif_columns, X_train1, X_test1, y_train, y_test)"
   ]
  },
  {
   "cell_type": "code",
   "execution_count": 88,
   "metadata": {},
   "outputs": [
    {
     "name": "stdout",
     "output_type": "stream",
     "text": [
      "Series before feature selection: \n",
      "\n",
      "Mileage                      3.623395\n",
      "Engine                      10.012446\n",
      "Power                        8.710976\n",
      "New_Price                   23.443367\n",
      "Kilometers_Driven_log        1.985898\n",
      "Location_Bangalore           2.498680\n",
      "Location_Chennai             2.970170\n",
      "Location_Coimbatore          3.513619\n",
      "Location_Delhi               3.045138\n",
      "Location_Hyderabad           3.701959\n",
      "Location_Jaipur              2.740041\n",
      "Location_Kochi               3.618833\n",
      "Location_Kolkata             3.127199\n",
      "Location_Mumbai              3.934795\n",
      "Location_Pune                3.379362\n",
      "Year_By_1995-2000            1.043981\n",
      "Year_By_2001-2005            1.356418\n",
      "Year_By_2006-2010            2.411400\n",
      "Year_By_2011-2015            2.040902\n",
      "Fuel_Type_Diesel            29.304767\n",
      "Fuel_Type_Electric           1.046237\n",
      "Fuel_Type_LPG                1.197108\n",
      "Fuel_Type_Petrol            29.872976\n",
      "Transmission_Automatic       2.355694\n",
      "Owner_Type_First            82.965042\n",
      "Owner_Type_Second           75.166935\n",
      "Owner_Type_Third            11.481788\n",
      "Company_Audi                 9.524219\n",
      "Company_BMW                 10.929736\n",
      "Company_Bentley              1.043713\n",
      "Company_Fiat                 1.187117\n",
      "Company_Ford                 2.504925\n",
      "Company_Honda                4.166278\n",
      "Company_Hyundai              5.625462\n",
      "Company_Isuzu                1.059209\n",
      "Company_Jaguar               2.594752\n",
      "Company_Jeep                 1.198740\n",
      "Company_Land                 1.568364\n",
      "Company_Mahindra             2.784217\n",
      "Company_Maruti               5.781572\n",
      "Company_Mercedes-Benz       12.058118\n",
      "Company_Mini                 1.945120\n",
      "Company_Mitsubishi           1.780070\n",
      "Company_Nissan               1.481884\n",
      "Company_Porsche              1.276738\n",
      "Company_Renault              1.707723\n",
      "Company_Skoda                3.535195\n",
      "Company_Toyota               5.699564\n",
      "Company_Volkswagen           2.546991\n",
      "Company_Volvo                1.796124\n",
      "Seats_2.0                   14.359829\n",
      "Seats_4.0                   75.409362\n",
      "Seats_5.0                  661.587955\n",
      "Seats_6.0                   26.824704\n",
      "Seats_7.0                  489.024112\n",
      "Seats_8.0                  111.541661\n",
      "Seats_9.0                    2.026420\n",
      "Seats_10.0                   4.082101\n",
      "constant                  6794.569446\n",
      "dtype: float64\n",
      "\n"
     ]
    }
   ],
   "source": [
    "# Dropping Company_Tata would have the maximum impact on predictive power of the model (amongst the variables being considered)\n",
    "# We'll drop Company_Tata and check the vif again\n",
    "\n",
    "X_train2 = X_train1.drop('Company_Tata', axis=1)\n",
    "vif_series2 = pd.Series([variance_inflation_factor(X_train2.values,i) for i in range(X_train2.shape[1])],index=X_train2.columns)\n",
    "print('Series before feature selection: \\n\\n{}\\n'.format(vif_series2))"
   ]
  },
  {
   "cell_type": "code",
   "execution_count": 89,
   "metadata": {},
   "outputs": [
    {
     "name": "stdout",
     "output_type": "stream",
     "text": [
      "                      col  Adj_rsq_after_dropping_col  Test RMSE\n",
      "5        Owner_Type_First                    0.869975   2.063262\n",
      "6       Owner_Type_Second                    0.869972   2.062514\n",
      "0                  Engine                    0.869967   2.063356\n",
      "7        Owner_Type_Third                    0.869955   2.062104\n",
      "4        Fuel_Type_Petrol                    0.869935   2.063402\n",
      "14              Seats_2.0                    0.869932   2.063584\n",
      "18              Seats_7.0                    0.869901   2.063185\n",
      "15              Seats_4.0                    0.869871   2.063279\n",
      "19              Seats_8.0                    0.869868   2.063470\n",
      "17              Seats_6.0                    0.869867   2.063100\n",
      "16              Seats_5.0                    0.869833   2.063016\n",
      "10        Company_Hyundai                    0.869767   2.065504\n",
      "11         Company_Maruti                    0.869728   2.066085\n",
      "3        Fuel_Type_Diesel                    0.869596   2.063464\n",
      "2               New_Price                    0.869230   2.071856\n",
      "13         Company_Toyota                    0.868862   2.072750\n",
      "9             Company_BMW                    0.868284   2.071840\n",
      "12  Company_Mercedes-Benz                    0.868150   2.074931\n",
      "8            Company_Audi                    0.867682   2.074001\n",
      "1                   Power                    0.860194   2.152052\n"
     ]
    }
   ],
   "source": [
    "high_vif_columns = [\"Engine\",\"Power\",\"New_Price\",\"Fuel_Type_Diesel\",\"Fuel_Type_Petrol\",\"Owner_Type_First\",\"Owner_Type_Second\",\"Owner_Type_Third\",\"Company_Audi\",\"Company_BMW\",\"Company_Hyundai\",\"Company_Maruti\",\"Company_Mercedes-Benz\",\"Company_Toyota\",\"Seats_2.0\",\"Seats_4.0\",\"Seats_5.0\",\"Seats_6.0\",\"Seats_7.0\",\"Seats_8.0\"]\n",
    "\n",
    "treating_multicollinearity(high_vif_columns, X_train1, X_test1, y_train, y_test)"
   ]
  },
  {
   "cell_type": "code",
   "execution_count": 90,
   "metadata": {},
   "outputs": [
    {
     "name": "stdout",
     "output_type": "stream",
     "text": [
      "Series before feature selection: \n",
      "\n",
      "Mileage                      3.622771\n",
      "Engine                      10.008814\n",
      "Power                        8.710976\n",
      "New_Price                   23.442900\n",
      "Kilometers_Driven_log        1.984275\n",
      "Location_Bangalore           2.494732\n",
      "Location_Chennai             2.968777\n",
      "Location_Coimbatore          3.513400\n",
      "Location_Delhi               3.045130\n",
      "Location_Hyderabad           3.701690\n",
      "Location_Jaipur              2.739980\n",
      "Location_Kochi               3.618830\n",
      "Location_Kolkata             3.127199\n",
      "Location_Mumbai              3.934602\n",
      "Location_Pune                3.379255\n",
      "Year_By_1995-2000            1.043981\n",
      "Year_By_2001-2005            1.346737\n",
      "Year_By_2006-2010            2.409039\n",
      "Year_By_2011-2015            2.040637\n",
      "Fuel_Type_Diesel            29.304111\n",
      "Fuel_Type_Electric           1.046235\n",
      "Fuel_Type_LPG                1.197103\n",
      "Fuel_Type_Petrol            29.871751\n",
      "Transmission_Automatic       2.355599\n",
      "Owner_Type_Second            1.175761\n",
      "Owner_Type_Third             1.103793\n",
      "Company_Audi                 9.524211\n",
      "Company_BMW                 10.929729\n",
      "Company_Bentley              1.043676\n",
      "Company_Fiat                 1.187045\n",
      "Company_Ford                 2.504918\n",
      "Company_Honda                4.165458\n",
      "Company_Hyundai              5.624917\n",
      "Company_Isuzu                1.059209\n",
      "Company_Jaguar               2.594701\n",
      "Company_Jeep                 1.198738\n",
      "Company_Land                 1.568352\n",
      "Company_Mahindra             2.782399\n",
      "Company_Maruti               5.781035\n",
      "Company_Mercedes-Benz       12.058107\n",
      "Company_Mini                 1.945063\n",
      "Company_Mitsubishi           1.779944\n",
      "Company_Nissan               1.481852\n",
      "Company_Porsche              1.276717\n",
      "Company_Renault              1.707558\n",
      "Company_Skoda                3.535058\n",
      "Company_Toyota               5.699496\n",
      "Company_Volkswagen           2.546809\n",
      "Company_Volvo                1.796113\n",
      "Seats_2.0                   14.359828\n",
      "Seats_4.0                   75.408429\n",
      "Seats_5.0                  661.586835\n",
      "Seats_6.0                   26.824699\n",
      "Seats_7.0                  489.023953\n",
      "Seats_8.0                  111.538860\n",
      "Seats_9.0                    2.026420\n",
      "Seats_10.0                   4.082053\n",
      "constant                  6211.714259\n",
      "dtype: float64\n",
      "\n"
     ]
    }
   ],
   "source": [
    "# Dropping Owner_Type_First would have the maximum impact on predictive power of the model (amongst the variables being considered)\n",
    "# We'll drop Owner_Type_First and check the vif again\n",
    "\n",
    "X_train3 = X_train2.drop('Owner_Type_First', axis=1)\n",
    "vif_series3 = pd.Series([variance_inflation_factor(X_train3.values,i) for i in range(X_train3.shape[1])],index=X_train3.columns)\n",
    "print('Series before feature selection: \\n\\n{}\\n'.format(vif_series3))"
   ]
  },
  {
   "cell_type": "code",
   "execution_count": 91,
   "metadata": {},
   "outputs": [
    {
     "name": "stdout",
     "output_type": "stream",
     "text": [
      "                      col  Adj_rsq_after_dropping_col  Test RMSE\n",
      "0                  Engine                    0.869967   2.063356\n",
      "4        Fuel_Type_Petrol                    0.869935   2.063402\n",
      "11              Seats_2.0                    0.869932   2.063584\n",
      "15              Seats_7.0                    0.869901   2.063185\n",
      "12              Seats_4.0                    0.869871   2.063279\n",
      "16              Seats_8.0                    0.869868   2.063470\n",
      "14              Seats_6.0                    0.869867   2.063100\n",
      "13              Seats_5.0                    0.869833   2.063016\n",
      "7         Company_Hyundai                    0.869767   2.065504\n",
      "8          Company_Maruti                    0.869728   2.066085\n",
      "3        Fuel_Type_Diesel                    0.869596   2.063464\n",
      "2               New_Price                    0.869230   2.071856\n",
      "10         Company_Toyota                    0.868862   2.072750\n",
      "6             Company_BMW                    0.868284   2.071840\n",
      "9   Company_Mercedes-Benz                    0.868150   2.074931\n",
      "5            Company_Audi                    0.867682   2.074001\n",
      "1                   Power                    0.860194   2.152052\n"
     ]
    }
   ],
   "source": [
    "high_vif_columns = [\"Engine\",\"Power\",\"New_Price\",\"Fuel_Type_Diesel\",\"Fuel_Type_Petrol\",\"Company_Audi\",\"Company_BMW\",\"Company_Hyundai\",\"Company_Maruti\",\"Company_Mercedes-Benz\",\"Company_Toyota\",\"Seats_2.0\",\"Seats_4.0\",\"Seats_5.0\",\"Seats_6.0\",\"Seats_7.0\",\"Seats_8.0\"]\n",
    "\n",
    "treating_multicollinearity(high_vif_columns, X_train1, X_test1, y_train, y_test)"
   ]
  },
  {
   "cell_type": "code",
   "execution_count": 92,
   "metadata": {},
   "outputs": [
    {
     "name": "stdout",
     "output_type": "stream",
     "text": [
      "Series before feature selection: \n",
      "\n",
      "Mileage                      3.216555\n",
      "Power                        4.976948\n",
      "New_Price                   23.355090\n",
      "Kilometers_Driven_log        1.983332\n",
      "Location_Bangalore           2.494669\n",
      "Location_Chennai             2.968106\n",
      "Location_Coimbatore          3.513368\n",
      "Location_Delhi               3.045025\n",
      "Location_Hyderabad           3.701201\n",
      "Location_Jaipur              2.739683\n",
      "Location_Kochi               3.618754\n",
      "Location_Kolkata             3.126980\n",
      "Location_Mumbai              3.934024\n",
      "Location_Pune                3.379112\n",
      "Year_By_1995-2000            1.043692\n",
      "Year_By_2001-2005            1.346638\n",
      "Year_By_2006-2010            2.401333\n",
      "Year_By_2011-2015            2.040524\n",
      "Fuel_Type_Diesel            29.286972\n",
      "Fuel_Type_Electric           1.038973\n",
      "Fuel_Type_LPG                1.195882\n",
      "Fuel_Type_Petrol            29.576167\n",
      "Transmission_Automatic       2.355555\n",
      "Owner_Type_Second            1.175450\n",
      "Owner_Type_Third             1.103729\n",
      "Company_Audi                 9.522300\n",
      "Company_BMW                 10.915455\n",
      "Company_Bentley              1.040354\n",
      "Company_Fiat                 1.184528\n",
      "Company_Ford                 2.494026\n",
      "Company_Honda                4.160489\n",
      "Company_Hyundai              5.617080\n",
      "Company_Isuzu                1.054602\n",
      "Company_Jaguar               2.583659\n",
      "Company_Jeep                 1.196872\n",
      "Company_Land                 1.567667\n",
      "Company_Mahindra             2.775959\n",
      "Company_Maruti               5.773224\n",
      "Company_Mercedes-Benz       11.997175\n",
      "Company_Mini                 1.943692\n",
      "Company_Mitsubishi           1.767986\n",
      "Company_Nissan               1.475284\n",
      "Company_Porsche              1.258394\n",
      "Company_Renault              1.706336\n",
      "Company_Skoda                3.517323\n",
      "Company_Toyota               5.463846\n",
      "Company_Volkswagen           2.546564\n",
      "Company_Volvo                1.795959\n",
      "Seats_2.0                   14.230435\n",
      "Seats_4.0                   74.133263\n",
      "Seats_5.0                  649.880172\n",
      "Seats_6.0                   26.554826\n",
      "Seats_7.0                  482.723048\n",
      "Seats_8.0                  110.262721\n",
      "Seats_9.0                    2.021093\n",
      "Seats_10.0                   4.053990\n",
      "constant                  5951.472036\n",
      "dtype: float64\n",
      "\n"
     ]
    }
   ],
   "source": [
    "# Dropping Engine would have the maximum impact on predictive power of the model (amongst the variables being considered)\n",
    "# We'll drop Fuel_Type_Petrol and check the vif again\n",
    "\n",
    "X_train4 = X_train3.drop('Engine', axis=1)\n",
    "vif_series4 = pd.Series([variance_inflation_factor(X_train4.values,i) for i in range(X_train4.shape[1])],index=X_train4.columns)\n",
    "print('Series before feature selection: \\n\\n{}\\n'.format(vif_series4))"
   ]
  },
  {
   "cell_type": "code",
   "execution_count": 93,
   "metadata": {},
   "outputs": [
    {
     "name": "stdout",
     "output_type": "stream",
     "text": [
      "                      col  Adj_rsq_after_dropping_col  Test RMSE\n",
      "2        Fuel_Type_Petrol                    0.869935   2.063402\n",
      "9               Seats_2.0                    0.869932   2.063584\n",
      "13              Seats_7.0                    0.869901   2.063185\n",
      "10              Seats_4.0                    0.869871   2.063279\n",
      "14              Seats_8.0                    0.869868   2.063470\n",
      "12              Seats_6.0                    0.869867   2.063100\n",
      "11              Seats_5.0                    0.869833   2.063016\n",
      "5         Company_Hyundai                    0.869767   2.065504\n",
      "6          Company_Maruti                    0.869728   2.066085\n",
      "1        Fuel_Type_Diesel                    0.869596   2.063464\n",
      "0               New_Price                    0.869230   2.071856\n",
      "8          Company_Toyota                    0.868862   2.072750\n",
      "4             Company_BMW                    0.868284   2.071840\n",
      "7   Company_Mercedes-Benz                    0.868150   2.074931\n",
      "3            Company_Audi                    0.867682   2.074001\n"
     ]
    }
   ],
   "source": [
    "high_vif_columns = [\"New_Price\",\"Fuel_Type_Diesel\",\"Fuel_Type_Petrol\",\"Company_Audi\",\"Company_BMW\",\"Company_Hyundai\",\"Company_Maruti\",\"Company_Mercedes-Benz\",\"Company_Toyota\",\"Seats_2.0\",\"Seats_4.0\",\"Seats_5.0\",\"Seats_6.0\",\"Seats_7.0\",\"Seats_8.0\"]\n",
    "\n",
    "treating_multicollinearity(high_vif_columns, X_train1, X_test1, y_train, y_test)"
   ]
  },
  {
   "cell_type": "code",
   "execution_count": 94,
   "metadata": {},
   "outputs": [
    {
     "name": "stdout",
     "output_type": "stream",
     "text": [
      "Series before feature selection: \n",
      "\n",
      "Mileage                      3.122453\n",
      "Power                        4.970155\n",
      "New_Price                   23.354972\n",
      "Kilometers_Driven_log        1.973429\n",
      "Location_Bangalore           2.494339\n",
      "Location_Chennai             2.967056\n",
      "Location_Coimbatore          3.511267\n",
      "Location_Delhi               3.045025\n",
      "Location_Hyderabad           3.700100\n",
      "Location_Jaipur              2.736432\n",
      "Location_Kochi               3.618549\n",
      "Location_Kolkata             3.125470\n",
      "Location_Mumbai              3.933358\n",
      "Location_Pune                3.378941\n",
      "Year_By_1995-2000            1.043639\n",
      "Year_By_2001-2005            1.346539\n",
      "Year_By_2006-2010            2.401265\n",
      "Year_By_2011-2015            2.040414\n",
      "Fuel_Type_Diesel             2.365810\n",
      "Fuel_Type_Electric           1.015578\n",
      "Fuel_Type_LPG                1.012220\n",
      "Transmission_Automatic       2.354924\n",
      "Owner_Type_Second            1.175287\n",
      "Owner_Type_Third             1.103657\n",
      "Company_Audi                 9.517117\n",
      "Company_BMW                 10.913687\n",
      "Company_Bentley              1.040341\n",
      "Company_Fiat                 1.184350\n",
      "Company_Ford                 2.493426\n",
      "Company_Honda                4.158670\n",
      "Company_Hyundai              5.617057\n",
      "Company_Isuzu                1.054515\n",
      "Company_Jaguar               2.582575\n",
      "Company_Jeep                 1.196471\n",
      "Company_Land                 1.564573\n",
      "Company_Mahindra             2.774854\n",
      "Company_Maruti               5.765109\n",
      "Company_Mercedes-Benz       11.989320\n",
      "Company_Mini                 1.942718\n",
      "Company_Mitsubishi           1.767446\n",
      "Company_Nissan               1.475249\n",
      "Company_Porsche              1.258387\n",
      "Company_Renault              1.706327\n",
      "Company_Skoda                3.516819\n",
      "Company_Toyota               5.461566\n",
      "Company_Volkswagen           2.546295\n",
      "Company_Volvo                1.795498\n",
      "Seats_2.0                   14.230399\n",
      "Seats_4.0                   74.117414\n",
      "Seats_5.0                  649.879808\n",
      "Seats_6.0                   26.554363\n",
      "Seats_7.0                  482.710698\n",
      "Seats_8.0                  110.258839\n",
      "Seats_9.0                    2.021071\n",
      "Seats_10.0                   4.053806\n",
      "constant                  5758.994872\n",
      "dtype: float64\n",
      "\n"
     ]
    }
   ],
   "source": [
    "# Dropping Fuel_Type_Petrol would have the maximum impact on predictive power of the model (amongst the variables being considered)\n",
    "# We'll drop Fuel_Type_Petrol and check the vif again\n",
    "\n",
    "X_train5 = X_train4.drop('Fuel_Type_Petrol', axis=1)\n",
    "vif_series5 = pd.Series([variance_inflation_factor(X_train5.values,i) for i in range(X_train5.shape[1])],index=X_train5.columns)\n",
    "print('Series before feature selection: \\n\\n{}\\n'.format(vif_series5))"
   ]
  },
  {
   "cell_type": "code",
   "execution_count": 95,
   "metadata": {},
   "outputs": [
    {
     "name": "stdout",
     "output_type": "stream",
     "text": [
      "                      col  Adj_rsq_after_dropping_col  Test RMSE\n",
      "7               Seats_2.0                    0.869932   2.063584\n",
      "11              Seats_7.0                    0.869901   2.063185\n",
      "8               Seats_4.0                    0.869871   2.063279\n",
      "12              Seats_8.0                    0.869868   2.063470\n",
      "10              Seats_6.0                    0.869867   2.063100\n",
      "9               Seats_5.0                    0.869833   2.063016\n",
      "3         Company_Hyundai                    0.869767   2.065504\n",
      "4          Company_Maruti                    0.869728   2.066085\n",
      "0               New_Price                    0.869230   2.071856\n",
      "6          Company_Toyota                    0.868862   2.072750\n",
      "2             Company_BMW                    0.868284   2.071840\n",
      "5   Company_Mercedes-Benz                    0.868150   2.074931\n",
      "1            Company_Audi                    0.867682   2.074001\n"
     ]
    }
   ],
   "source": [
    "high_vif_columns = [\"New_Price\",\"Company_Audi\",\"Company_BMW\",\"Company_Hyundai\",\"Company_Maruti\",\"Company_Mercedes-Benz\",\"Company_Toyota\",\"Seats_2.0\",\"Seats_4.0\",\"Seats_5.0\",\"Seats_6.0\",\"Seats_7.0\",\"Seats_8.0\"]\n",
    "\n",
    "treating_multicollinearity(high_vif_columns, X_train1, X_test1, y_train, y_test)"
   ]
  },
  {
   "cell_type": "code",
   "execution_count": 96,
   "metadata": {},
   "outputs": [
    {
     "name": "stdout",
     "output_type": "stream",
     "text": [
      "Series before feature selection: \n",
      "\n",
      "Mileage                     3.119326\n",
      "Power                       4.946219\n",
      "New_Price                  23.324900\n",
      "Kilometers_Driven_log       1.966525\n",
      "Location_Bangalore          2.494335\n",
      "Location_Chennai            2.967055\n",
      "Location_Coimbatore         3.511067\n",
      "Location_Delhi              3.044999\n",
      "Location_Hyderabad          3.699402\n",
      "Location_Jaipur             2.736416\n",
      "Location_Kochi              3.618487\n",
      "Location_Kolkata            3.125404\n",
      "Location_Mumbai             3.933173\n",
      "Location_Pune               3.378926\n",
      "Year_By_1995-2000           1.043478\n",
      "Year_By_2001-2005           1.345605\n",
      "Year_By_2006-2010           2.397397\n",
      "Year_By_2011-2015           2.038710\n",
      "Fuel_Type_Diesel            2.365804\n",
      "Fuel_Type_Electric          1.015551\n",
      "Fuel_Type_LPG               1.012212\n",
      "Transmission_Automatic      2.354078\n",
      "Owner_Type_Second           1.175232\n",
      "Owner_Type_Third            1.103657\n",
      "Company_Audi                9.516934\n",
      "Company_BMW                10.911752\n",
      "Company_Bentley             1.040277\n",
      "Company_Fiat                1.184340\n",
      "Company_Ford                2.493426\n",
      "Company_Honda               4.158287\n",
      "Company_Hyundai             5.616750\n",
      "Company_Isuzu               1.054501\n",
      "Company_Jaguar              2.582009\n",
      "Company_Jeep                1.196425\n",
      "Company_Land                1.564123\n",
      "Company_Mahindra            2.774818\n",
      "Company_Maruti              5.764948\n",
      "Company_Mercedes-Benz      11.984443\n",
      "Company_Mini                1.942368\n",
      "Company_Mitsubishi          1.767300\n",
      "Company_Nissan              1.475247\n",
      "Company_Porsche             1.256575\n",
      "Company_Renault             1.706134\n",
      "Company_Skoda               3.516001\n",
      "Company_Toyota              5.460499\n",
      "Company_Volkswagen          2.546294\n",
      "Company_Volvo               1.795283\n",
      "Seats_4.0                   6.570498\n",
      "Seats_5.0                  50.317329\n",
      "Seats_6.0                   3.329857\n",
      "Seats_7.0                  39.303509\n",
      "Seats_8.0                   9.948690\n",
      "Seats_9.0                   1.094257\n",
      "Seats_10.0                  1.259162\n",
      "constant                  990.529427\n",
      "dtype: float64\n",
      "\n"
     ]
    }
   ],
   "source": [
    "# Dropping Seats_2.0 would have the maximum impact on predictive power of the model (amongst the variables being considered)\n",
    "# We'll drop Seats_2.0 and check the vif again\n",
    "\n",
    "X_train6 = X_train5.drop('Seats_2.0', axis=1)\n",
    "vif_series6 = pd.Series([variance_inflation_factor(X_train6.values,i) for i in range(X_train6.shape[1])],index=X_train6.columns)\n",
    "print('Series before feature selection: \\n\\n{}\\n'.format(vif_series6))"
   ]
  },
  {
   "cell_type": "code",
   "execution_count": 97,
   "metadata": {},
   "outputs": [
    {
     "name": "stdout",
     "output_type": "stream",
     "text": [
      "                      col  Adj_rsq_after_dropping_col  Test RMSE\n",
      "9               Seats_7.0                    0.869901   2.063185\n",
      "7               Seats_4.0                    0.869871   2.063279\n",
      "10              Seats_8.0                    0.869868   2.063470\n",
      "8               Seats_5.0                    0.869833   2.063016\n",
      "3         Company_Hyundai                    0.869767   2.065504\n",
      "4          Company_Maruti                    0.869728   2.066085\n",
      "0               New_Price                    0.869230   2.071856\n",
      "6          Company_Toyota                    0.868862   2.072750\n",
      "2             Company_BMW                    0.868284   2.071840\n",
      "5   Company_Mercedes-Benz                    0.868150   2.074931\n",
      "1            Company_Audi                    0.867682   2.074001\n"
     ]
    }
   ],
   "source": [
    "high_vif_columns = [\"New_Price\",\"Company_Audi\",\"Company_BMW\",\"Company_Hyundai\",\"Company_Maruti\",\"Company_Mercedes-Benz\",\"Company_Toyota\",\"Seats_4.0\",\"Seats_5.0\",\"Seats_7.0\",\"Seats_8.0\"]\n",
    "\n",
    "treating_multicollinearity(high_vif_columns, X_train1, X_test1, y_train, y_test)"
   ]
  },
  {
   "cell_type": "code",
   "execution_count": 98,
   "metadata": {},
   "outputs": [
    {
     "name": "stdout",
     "output_type": "stream",
     "text": [
      "Series before feature selection: \n",
      "\n",
      "Mileage                     3.107432\n",
      "Power                       4.946042\n",
      "New_Price                  23.107992\n",
      "Kilometers_Driven_log       1.957678\n",
      "Location_Bangalore          2.494128\n",
      "Location_Chennai            2.967055\n",
      "Location_Coimbatore         3.511057\n",
      "Location_Delhi              3.044888\n",
      "Location_Hyderabad          3.698895\n",
      "Location_Jaipur             2.736361\n",
      "Location_Kochi              3.618471\n",
      "Location_Kolkata            3.125390\n",
      "Location_Mumbai             3.931257\n",
      "Location_Pune               3.378892\n",
      "Year_By_1995-2000           1.043412\n",
      "Year_By_2001-2005           1.344213\n",
      "Year_By_2006-2010           2.391874\n",
      "Year_By_2011-2015           2.035267\n",
      "Fuel_Type_Diesel            2.331244\n",
      "Fuel_Type_Electric          1.015465\n",
      "Fuel_Type_LPG               1.012197\n",
      "Transmission_Automatic      2.353922\n",
      "Owner_Type_Second           1.175134\n",
      "Owner_Type_Third            1.103636\n",
      "Company_Audi                9.390332\n",
      "Company_BMW                10.770774\n",
      "Company_Bentley             1.040265\n",
      "Company_Fiat                1.184241\n",
      "Company_Ford                2.492395\n",
      "Company_Honda               4.158146\n",
      "Company_Hyundai             5.616438\n",
      "Company_Isuzu               1.054472\n",
      "Company_Jaguar              2.548259\n",
      "Company_Jeep                1.194751\n",
      "Company_Land                1.563897\n",
      "Company_Mahindra            2.766585\n",
      "Company_Maruti              5.762929\n",
      "Company_Mercedes-Benz      11.802135\n",
      "Company_Mini                1.931333\n",
      "Company_Mitsubishi          1.766393\n",
      "Company_Nissan              1.474680\n",
      "Company_Porsche             1.204838\n",
      "Company_Renault             1.706127\n",
      "Company_Skoda               3.493500\n",
      "Company_Toyota              5.457983\n",
      "Company_Volkswagen          2.543912\n",
      "Company_Volvo               1.785806\n",
      "Seats_4.0                   1.528511\n",
      "Seats_5.0                   2.757970\n",
      "Seats_6.0                   1.333533\n",
      "Seats_8.0                   1.281659\n",
      "Seats_9.0                   1.010789\n",
      "Seats_10.0                  1.023767\n",
      "constant                  676.150829\n",
      "dtype: float64\n",
      "\n"
     ]
    }
   ],
   "source": [
    "# Dropping Seats_7.0 would have the maximum impact on predictive power of the model (amongst the variables being considered)\n",
    "# We'll drop Seats_7.0 and check the vif again\n",
    "\n",
    "X_train7 = X_train6.drop('Seats_7.0', axis=1)\n",
    "vif_series7 = pd.Series([variance_inflation_factor(X_train7.values,i) for i in range(X_train7.shape[1])],index=X_train7.columns)\n",
    "print('Series before feature selection: \\n\\n{}\\n'.format(vif_series7))"
   ]
  },
  {
   "cell_type": "code",
   "execution_count": 99,
   "metadata": {},
   "outputs": [
    {
     "name": "stdout",
     "output_type": "stream",
     "text": [
      "                     col  Adj_rsq_after_dropping_col  Test RMSE\n",
      "3        Company_Hyundai                    0.869767   2.065504\n",
      "4         Company_Maruti                    0.869728   2.066085\n",
      "0              New_Price                    0.869230   2.071856\n",
      "6         Company_Toyota                    0.868862   2.072750\n",
      "2            Company_BMW                    0.868284   2.071840\n",
      "5  Company_Mercedes-Benz                    0.868150   2.074931\n",
      "1           Company_Audi                    0.867682   2.074001\n"
     ]
    }
   ],
   "source": [
    "high_vif_columns = [\"New_Price\",\"Company_Audi\",\"Company_BMW\",\"Company_Hyundai\",\"Company_Maruti\",\"Company_Mercedes-Benz\",\"Company_Toyota\"]\n",
    "\n",
    "treating_multicollinearity(high_vif_columns, X_train1, X_test1, y_train, y_test)"
   ]
  },
  {
   "cell_type": "code",
   "execution_count": 100,
   "metadata": {},
   "outputs": [
    {
     "name": "stdout",
     "output_type": "stream",
     "text": [
      "Series before feature selection: \n",
      "\n",
      "Mileage                     3.104192\n",
      "Power                       4.873134\n",
      "New_Price                  22.666626\n",
      "Kilometers_Driven_log       1.956414\n",
      "Location_Bangalore          2.493540\n",
      "Location_Chennai            2.966296\n",
      "Location_Coimbatore         3.509296\n",
      "Location_Delhi              3.043682\n",
      "Location_Hyderabad          3.698780\n",
      "Location_Jaipur             2.736298\n",
      "Location_Kochi              3.617177\n",
      "Location_Kolkata            3.125336\n",
      "Location_Mumbai             3.931223\n",
      "Location_Pune               3.378308\n",
      "Year_By_1995-2000           1.043412\n",
      "Year_By_2001-2005           1.341277\n",
      "Year_By_2006-2010           2.388554\n",
      "Year_By_2011-2015           2.024467\n",
      "Fuel_Type_Diesel            2.303836\n",
      "Fuel_Type_Electric          1.015465\n",
      "Fuel_Type_LPG               1.011990\n",
      "Transmission_Automatic      2.353922\n",
      "Owner_Type_Second           1.174926\n",
      "Owner_Type_Third            1.103625\n",
      "Company_Audi                7.404132\n",
      "Company_BMW                 8.479994\n",
      "Company_Bentley             1.030965\n",
      "Company_Fiat                1.032780\n",
      "Company_Ford                1.239145\n",
      "Company_Honda               1.451570\n",
      "Company_Isuzu               1.040028\n",
      "Company_Jaguar              2.193273\n",
      "Company_Jeep                1.102421\n",
      "Company_Land                1.303788\n",
      "Company_Mahindra            1.808303\n",
      "Company_Maruti              1.742058\n",
      "Company_Mercedes-Benz       9.182365\n",
      "Company_Mini                1.753887\n",
      "Company_Mitsubishi          1.604945\n",
      "Company_Nissan              1.077060\n",
      "Company_Porsche             1.143245\n",
      "Company_Renault             1.157859\n",
      "Company_Skoda               2.473080\n",
      "Company_Toyota              3.292099\n",
      "Company_Volkswagen          1.227853\n",
      "Company_Volvo               1.599651\n",
      "Seats_4.0                   1.499134\n",
      "Seats_5.0                   2.742240\n",
      "Seats_6.0                   1.333234\n",
      "Seats_8.0                   1.279646\n",
      "Seats_9.0                   1.010723\n",
      "Seats_10.0                  1.019375\n",
      "constant                  659.122969\n",
      "dtype: float64\n",
      "\n"
     ]
    }
   ],
   "source": [
    "# Dropping Company_Hyundai would have the maximum impact on predictive power of the model (amongst the variables being considered)\n",
    "# We'll drop Company_Hyundai and check the vif again\n",
    "\n",
    "X_train8 = X_train7.drop('Company_Hyundai', axis=1)\n",
    "vif_series8 = pd.Series([variance_inflation_factor(X_train8.values,i) for i in range(X_train8.shape[1])],index=X_train8.columns)\n",
    "print('Series before feature selection: \\n\\n{}\\n'.format(vif_series8))"
   ]
  },
  {
   "cell_type": "code",
   "execution_count": 101,
   "metadata": {},
   "outputs": [
    {
     "name": "stdout",
     "output_type": "stream",
     "text": [
      "                     col  Adj_rsq_after_dropping_col  Test RMSE\n",
      "0              New_Price                    0.869230   2.071856\n",
      "2            Company_BMW                    0.868284   2.071840\n",
      "3  Company_Mercedes-Benz                    0.868150   2.074931\n",
      "1           Company_Audi                    0.867682   2.074001\n"
     ]
    }
   ],
   "source": [
    "high_vif_columns = [\"New_Price\",\"Company_Audi\",\"Company_BMW\",\"Company_Mercedes-Benz\"]\n",
    "\n",
    "treating_multicollinearity(high_vif_columns, X_train1, X_test1, y_train, y_test)"
   ]
  },
  {
   "cell_type": "code",
   "execution_count": 102,
   "metadata": {},
   "outputs": [
    {
     "name": "stdout",
     "output_type": "stream",
     "text": [
      "Series before feature selection: \n",
      "\n",
      "Mileage                     3.099354\n",
      "Power                       4.859589\n",
      "Kilometers_Driven_log       1.956107\n",
      "Location_Bangalore          2.493496\n",
      "Location_Chennai            2.965069\n",
      "Location_Coimbatore         3.508581\n",
      "Location_Delhi              3.043266\n",
      "Location_Hyderabad          3.698527\n",
      "Location_Jaipur             2.734947\n",
      "Location_Kochi              3.617011\n",
      "Location_Kolkata            3.124442\n",
      "Location_Mumbai             3.931181\n",
      "Location_Pune               3.377298\n",
      "Year_By_1995-2000           1.043412\n",
      "Year_By_2001-2005           1.341013\n",
      "Year_By_2006-2010           2.388547\n",
      "Year_By_2011-2015           2.024012\n",
      "Fuel_Type_Diesel            2.291246\n",
      "Fuel_Type_Electric          1.015281\n",
      "Fuel_Type_LPG               1.011963\n",
      "Transmission_Automatic      2.345755\n",
      "Owner_Type_Second           1.174172\n",
      "Owner_Type_Third            1.103596\n",
      "Company_Audi                1.862790\n",
      "Company_BMW                 2.184347\n",
      "Company_Bentley             1.028090\n",
      "Company_Fiat                1.032462\n",
      "Company_Ford                1.223194\n",
      "Company_Honda               1.423657\n",
      "Company_Isuzu               1.013309\n",
      "Company_Jaguar              1.219807\n",
      "Company_Jeep                1.058149\n",
      "Company_Land                1.247639\n",
      "Company_Mahindra            1.798902\n",
      "Company_Maruti              1.700671\n",
      "Company_Mercedes-Benz       2.097535\n",
      "Company_Mini                1.182205\n",
      "Company_Mitsubishi          1.342563\n",
      "Company_Nissan              1.076855\n",
      "Company_Porsche             1.110614\n",
      "Company_Renault             1.105734\n",
      "Company_Skoda               1.193901\n",
      "Company_Toyota              1.839412\n",
      "Company_Volkswagen          1.216135\n",
      "Company_Volvo               1.093448\n",
      "Seats_4.0                   1.497906\n",
      "Seats_5.0                   2.735059\n",
      "Seats_6.0                   1.333033\n",
      "Seats_8.0                   1.279642\n",
      "Seats_9.0                   1.010721\n",
      "Seats_10.0                  1.019308\n",
      "constant                  650.894586\n",
      "dtype: float64\n",
      "\n"
     ]
    }
   ],
   "source": [
    "# Dropping New_Price would have the maximum impact on predictive power of the model (amongst the variables being considered)\n",
    "# We'll drop New_Price and check the vif again\n",
    "\n",
    "X_train9 = X_train8.drop('New_Price', axis=1)\n",
    "vif_series9 = pd.Series([variance_inflation_factor(X_train9.values,i) for i in range(X_train9.shape[1])],index=X_train9.columns)\n",
    "print('Series before feature selection: \\n\\n{}\\n'.format(vif_series9))"
   ]
  },
  {
   "cell_type": "markdown",
   "metadata": {},
   "source": [
    "## Observations\n",
    "\n",
    "- VIF scrore for all the variables has come down to quite a good limit (all under 5). We can say that there is no multicollinearity now."
   ]
  },
  {
   "cell_type": "code",
   "execution_count": 103,
   "metadata": {},
   "outputs": [
    {
     "name": "stdout",
     "output_type": "stream",
     "text": [
      "Training Performance\n",
      "\n",
      "       RMSE      MAE       MAPE       R^2  Adjusted R^2\n",
      "0  2.052047  1.49922  27.664243  0.867805      0.866405\n"
     ]
    }
   ],
   "source": [
    "regression_model1 = LinearRegression(fit_intercept=False)\n",
    "regression_model1.fit(X_train9,y_train)\n",
    "\n",
    "print('Training Performance\\n')\n",
    "print(model_perf(regression_model1, X_train9, y_train))\n"
   ]
  },
  {
   "cell_type": "markdown",
   "metadata": {},
   "source": [
    "### Observations\n",
    "\n",
    "* Earlier R-squared was 0.871, now it is 0.867.\n",
    "* Now Adjusted R-squared is 0.866, Our model is able to explain 86.4% of variance that shows model is good.\n",
    "* The Adjusted-R squared in initial model (regression_model) it was 86.9% (Where we considered all the variables) this shows that the variables we dropped affected the model by a small number.     "
   ]
  },
  {
   "cell_type": "markdown",
   "metadata": {},
   "source": [
    "**Now we'll check rest of the assumptions on new model - regression_model1**"
   ]
  },
  {
   "cell_type": "markdown",
   "metadata": {},
   "source": [
    "### 2. Mean of residuals should be 0"
   ]
  },
  {
   "cell_type": "code",
   "execution_count": 104,
   "metadata": {},
   "outputs": [
    {
     "data": {
      "text/plain": [
       "1.0408813981328721e-13"
      ]
     },
     "execution_count": 104,
     "metadata": {},
     "output_type": "execute_result"
    }
   ],
   "source": [
    "#Mean Residual should be zero\n",
    "\n",
    "# predicted values\n",
    "fitted = regression_model1.predict(X_train9)\n",
    "residual = fitted - y_train.values\n",
    "\n",
    "np.mean(residual)"
   ]
  },
  {
   "cell_type": "markdown",
   "metadata": {},
   "source": [
    "### Observations:\n",
    "\n",
    "- Mean of residual is 1.04, this is close to 0."
   ]
  },
  {
   "cell_type": "markdown",
   "metadata": {},
   "source": [
    "### 3. Test of Linearity\n",
    "\n",
    "#### Plot fitted values vs Residuals, if they don’t follow any pattern, then the model is linear otherwise model is showing signs of non-linearity."
   ]
  },
  {
   "cell_type": "code",
   "execution_count": 105,
   "metadata": {},
   "outputs": [
    {
     "data": {
      "image/png": "[encoded data removed]",
      "text/plain": [
       "<Figure size 432x288 with 1 Axes>"
      ]
     },
     "metadata": {},
     "output_type": "display_data"
    }
   ],
   "source": [
    "sns.set_style(\"whitegrid\")\n",
    "sns.residplot(fitted,residual,color=\"green\",lowess=True)\n",
    "plt.xlabel(\"Fitted Values\")\n",
    "plt.ylabel(\"Residual\")\n",
    "plt.title(\"Residual PLOT\")\n",
    "plt.show()"
   ]
  },
  {
   "cell_type": "markdown",
   "metadata": {},
   "source": [
    "### Observations:\n",
    "\n",
    "- Since there is no pattern in residual plot, model is linear."
   ]
  },
  {
   "cell_type": "markdown",
   "metadata": {},
   "source": [
    "### 4. Test of Homoscedasticity\n",
    "\n",
    "#### Since the variance is unequal for the residuals across the regression line, the data is heteroscedastic.\n",
    "- As seen above, there is no pattern in residual plot. Hence, this assumption is satisfied."
   ]
  },
  {
   "cell_type": "markdown",
   "metadata": {},
   "source": [
    "### 5. Test for Normality "
   ]
  },
  {
   "cell_type": "code",
   "execution_count": 106,
   "metadata": {},
   "outputs": [
    {
     "data": {
      "image/png": "[encoded data removed]",
      "text/plain": [
       "<Figure size 432x288 with 1 Axes>"
      ]
     },
     "metadata": {},
     "output_type": "display_data"
    }
   ],
   "source": [
    "sns.distplot(residual)\n",
    "plt.title('Normality of residuals')\n",
    "plt.show()"
   ]
  },
  {
   "cell_type": "markdown",
   "metadata": {},
   "source": [
    "### Observations:\n",
    "\n",
    "- Since the residuals are normally distributed, the assumption is satisfied."
   ]
  },
  {
   "cell_type": "code",
   "execution_count": 107,
   "metadata": {},
   "outputs": [
    {
     "data": {
      "image/png": "[encoded data removed]",
      "text/plain": [
       "<Figure size 432x288 with 1 Axes>"
      ]
     },
     "metadata": {},
     "output_type": "display_data"
    }
   ],
   "source": [
    "import pylab\n",
    "import scipy.stats as stats\n",
    "stats.probplot(residual.flatten(),dist=\"norm\",plot=pylab)\n",
    "plt.show()"
   ]
  },
  {
   "cell_type": "markdown",
   "metadata": {},
   "source": [
    "### Observations:\n",
    "- As per QQ plot they are approximately normal. So, this assumption is also satisfied."
   ]
  },
  {
   "cell_type": "markdown",
   "metadata": {},
   "source": [
    "### Predicting on the test data"
   ]
  },
  {
   "cell_type": "code",
   "execution_count": 108,
   "metadata": {},
   "outputs": [
    {
     "data": {
      "text/plain": [
       "Index(['Mileage', 'Power', 'Kilometers_Driven_log', 'Location_Bangalore',\n",
       "       'Location_Chennai', 'Location_Coimbatore', 'Location_Delhi',\n",
       "       'Location_Hyderabad', 'Location_Jaipur', 'Location_Kochi',\n",
       "       'Location_Kolkata', 'Location_Mumbai', 'Location_Pune',\n",
       "       'Year_By_1995-2000', 'Year_By_2001-2005', 'Year_By_2006-2010',\n",
       "       'Year_By_2011-2015', 'Fuel_Type_Diesel', 'Fuel_Type_Electric',\n",
       "       'Fuel_Type_LPG', 'Transmission_Automatic', 'Owner_Type_Second',\n",
       "       'Owner_Type_Third', 'Company_Audi', 'Company_BMW', 'Company_Bentley',\n",
       "       'Company_Fiat', 'Company_Ford', 'Company_Honda', 'Company_Isuzu',\n",
       "       'Company_Jaguar', 'Company_Jeep', 'Company_Land', 'Company_Mahindra',\n",
       "       'Company_Maruti', 'Company_Mercedes-Benz', 'Company_Mini',\n",
       "       'Company_Mitsubishi', 'Company_Nissan', 'Company_Porsche',\n",
       "       'Company_Renault', 'Company_Skoda', 'Company_Toyota',\n",
       "       'Company_Volkswagen', 'Company_Volvo', 'Seats_4.0', 'Seats_5.0',\n",
       "       'Seats_6.0', 'Seats_8.0', 'Seats_9.0', 'Seats_10.0', 'constant'],\n",
       "      dtype='object')"
      ]
     },
     "execution_count": 108,
     "metadata": {},
     "output_type": "execute_result"
    }
   ],
   "source": [
    "X_train9.columns"
   ]
  },
  {
   "cell_type": "markdown",
   "metadata": {},
   "source": [
    "**Selecting columns from test data that we used to create our final model**"
   ]
  },
  {
   "cell_type": "code",
   "execution_count": 109,
   "metadata": {},
   "outputs": [
    {
     "name": "stderr",
     "output_type": "stream",
     "text": [
      "C:\\Users\\soumiya\\anaconda3\\lib\\site-packages\\ipykernel_launcher.py:2: SettingWithCopyWarning: \n",
      "A value is trying to be set on a copy of a slice from a DataFrame.\n",
      "Try using .loc[row_indexer,col_indexer] = value instead\n",
      "\n",
      "See the caveats in the documentation: https://pandas.pydata.org/pandas-docs/stable/user_guide/indexing.html#returning-a-view-versus-a-copy\n",
      "  \n"
     ]
    }
   ],
   "source": [
    "# first we add the constant to test input variables\n",
    "X_test['constant'] = 1\n",
    "\n",
    "X_test_final = X_test[X_train9.columns]"
   ]
  },
  {
   "cell_type": "code",
   "execution_count": 110,
   "metadata": {},
   "outputs": [
    {
     "data": {
      "text/html": [
       "<div>\n",
       "<style scoped>\n",
       "    .dataframe tbody tr th:only-of-type {\n",
       "        vertical-align: middle;\n",
       "    }\n",
       "\n",
       "    .dataframe tbody tr th {\n",
       "        vertical-align: top;\n",
       "    }\n",
       "\n",
       "    .dataframe thead th {\n",
       "        text-align: right;\n",
       "    }\n",
       "</style>\n",
       "<table border=\"1\" class=\"dataframe\">\n",
       "  <thead>\n",
       "    <tr style=\"text-align: right;\">\n",
       "      <th></th>\n",
       "      <th>Mileage</th>\n",
       "      <th>Power</th>\n",
       "      <th>Kilometers_Driven_log</th>\n",
       "      <th>Location_Bangalore</th>\n",
       "      <th>Location_Chennai</th>\n",
       "      <th>Location_Coimbatore</th>\n",
       "      <th>Location_Delhi</th>\n",
       "      <th>Location_Hyderabad</th>\n",
       "      <th>Location_Jaipur</th>\n",
       "      <th>Location_Kochi</th>\n",
       "      <th>Location_Kolkata</th>\n",
       "      <th>Location_Mumbai</th>\n",
       "      <th>Location_Pune</th>\n",
       "      <th>Year_By_1995-2000</th>\n",
       "      <th>Year_By_2001-2005</th>\n",
       "      <th>Year_By_2006-2010</th>\n",
       "      <th>Year_By_2011-2015</th>\n",
       "      <th>Fuel_Type_Diesel</th>\n",
       "      <th>Fuel_Type_Electric</th>\n",
       "      <th>Fuel_Type_LPG</th>\n",
       "      <th>Transmission_Automatic</th>\n",
       "      <th>Owner_Type_Second</th>\n",
       "      <th>Owner_Type_Third</th>\n",
       "      <th>Company_Audi</th>\n",
       "      <th>Company_BMW</th>\n",
       "      <th>Company_Bentley</th>\n",
       "      <th>Company_Fiat</th>\n",
       "      <th>Company_Ford</th>\n",
       "      <th>Company_Honda</th>\n",
       "      <th>Company_Isuzu</th>\n",
       "      <th>Company_Jaguar</th>\n",
       "      <th>Company_Jeep</th>\n",
       "      <th>Company_Land</th>\n",
       "      <th>Company_Mahindra</th>\n",
       "      <th>Company_Maruti</th>\n",
       "      <th>Company_Mercedes-Benz</th>\n",
       "      <th>Company_Mini</th>\n",
       "      <th>Company_Mitsubishi</th>\n",
       "      <th>Company_Nissan</th>\n",
       "      <th>Company_Porsche</th>\n",
       "      <th>Company_Renault</th>\n",
       "      <th>Company_Skoda</th>\n",
       "      <th>Company_Toyota</th>\n",
       "      <th>Company_Volkswagen</th>\n",
       "      <th>Company_Volvo</th>\n",
       "      <th>Seats_4.0</th>\n",
       "      <th>Seats_5.0</th>\n",
       "      <th>Seats_6.0</th>\n",
       "      <th>Seats_8.0</th>\n",
       "      <th>Seats_9.0</th>\n",
       "      <th>Seats_10.0</th>\n",
       "      <th>constant</th>\n",
       "    </tr>\n",
       "  </thead>\n",
       "  <tbody>\n",
       "    <tr>\n",
       "      <th>5078</th>\n",
       "      <td>24.3</td>\n",
       "      <td>88.50</td>\n",
       "      <td>9.989206</td>\n",
       "      <td>0</td>\n",
       "      <td>0</td>\n",
       "      <td>1</td>\n",
       "      <td>0</td>\n",
       "      <td>0</td>\n",
       "      <td>0</td>\n",
       "      <td>0</td>\n",
       "      <td>0</td>\n",
       "      <td>0</td>\n",
       "      <td>0</td>\n",
       "      <td>0</td>\n",
       "      <td>0</td>\n",
       "      <td>0</td>\n",
       "      <td>0</td>\n",
       "      <td>1</td>\n",
       "      <td>0</td>\n",
       "      <td>0</td>\n",
       "      <td>0</td>\n",
       "      <td>0</td>\n",
       "      <td>0</td>\n",
       "      <td>0</td>\n",
       "      <td>0</td>\n",
       "      <td>0</td>\n",
       "      <td>0</td>\n",
       "      <td>0</td>\n",
       "      <td>0</td>\n",
       "      <td>0</td>\n",
       "      <td>0</td>\n",
       "      <td>0</td>\n",
       "      <td>0</td>\n",
       "      <td>0</td>\n",
       "      <td>1</td>\n",
       "      <td>0</td>\n",
       "      <td>0</td>\n",
       "      <td>0</td>\n",
       "      <td>0</td>\n",
       "      <td>0</td>\n",
       "      <td>0</td>\n",
       "      <td>0</td>\n",
       "      <td>0</td>\n",
       "      <td>0</td>\n",
       "      <td>0</td>\n",
       "      <td>0</td>\n",
       "      <td>1</td>\n",
       "      <td>0</td>\n",
       "      <td>0</td>\n",
       "      <td>0</td>\n",
       "      <td>0</td>\n",
       "      <td>1</td>\n",
       "    </tr>\n",
       "    <tr>\n",
       "      <th>5948</th>\n",
       "      <td>15.6</td>\n",
       "      <td>106.00</td>\n",
       "      <td>11.418626</td>\n",
       "      <td>0</td>\n",
       "      <td>0</td>\n",
       "      <td>0</td>\n",
       "      <td>0</td>\n",
       "      <td>1</td>\n",
       "      <td>0</td>\n",
       "      <td>0</td>\n",
       "      <td>0</td>\n",
       "      <td>0</td>\n",
       "      <td>0</td>\n",
       "      <td>0</td>\n",
       "      <td>0</td>\n",
       "      <td>1</td>\n",
       "      <td>0</td>\n",
       "      <td>1</td>\n",
       "      <td>0</td>\n",
       "      <td>0</td>\n",
       "      <td>1</td>\n",
       "      <td>1</td>\n",
       "      <td>0</td>\n",
       "      <td>0</td>\n",
       "      <td>0</td>\n",
       "      <td>0</td>\n",
       "      <td>0</td>\n",
       "      <td>0</td>\n",
       "      <td>0</td>\n",
       "      <td>0</td>\n",
       "      <td>0</td>\n",
       "      <td>0</td>\n",
       "      <td>0</td>\n",
       "      <td>0</td>\n",
       "      <td>0</td>\n",
       "      <td>0</td>\n",
       "      <td>0</td>\n",
       "      <td>0</td>\n",
       "      <td>0</td>\n",
       "      <td>0</td>\n",
       "      <td>0</td>\n",
       "      <td>1</td>\n",
       "      <td>0</td>\n",
       "      <td>0</td>\n",
       "      <td>0</td>\n",
       "      <td>0</td>\n",
       "      <td>1</td>\n",
       "      <td>0</td>\n",
       "      <td>0</td>\n",
       "      <td>0</td>\n",
       "      <td>0</td>\n",
       "      <td>1</td>\n",
       "    </tr>\n",
       "    <tr>\n",
       "      <th>3008</th>\n",
       "      <td>26.6</td>\n",
       "      <td>58.16</td>\n",
       "      <td>10.789340</td>\n",
       "      <td>0</td>\n",
       "      <td>0</td>\n",
       "      <td>0</td>\n",
       "      <td>1</td>\n",
       "      <td>0</td>\n",
       "      <td>0</td>\n",
       "      <td>0</td>\n",
       "      <td>0</td>\n",
       "      <td>0</td>\n",
       "      <td>0</td>\n",
       "      <td>0</td>\n",
       "      <td>0</td>\n",
       "      <td>0</td>\n",
       "      <td>1</td>\n",
       "      <td>0</td>\n",
       "      <td>0</td>\n",
       "      <td>0</td>\n",
       "      <td>0</td>\n",
       "      <td>1</td>\n",
       "      <td>0</td>\n",
       "      <td>0</td>\n",
       "      <td>0</td>\n",
       "      <td>0</td>\n",
       "      <td>0</td>\n",
       "      <td>0</td>\n",
       "      <td>0</td>\n",
       "      <td>0</td>\n",
       "      <td>0</td>\n",
       "      <td>0</td>\n",
       "      <td>0</td>\n",
       "      <td>0</td>\n",
       "      <td>1</td>\n",
       "      <td>0</td>\n",
       "      <td>0</td>\n",
       "      <td>0</td>\n",
       "      <td>0</td>\n",
       "      <td>0</td>\n",
       "      <td>0</td>\n",
       "      <td>0</td>\n",
       "      <td>0</td>\n",
       "      <td>0</td>\n",
       "      <td>0</td>\n",
       "      <td>0</td>\n",
       "      <td>1</td>\n",
       "      <td>0</td>\n",
       "      <td>0</td>\n",
       "      <td>0</td>\n",
       "      <td>0</td>\n",
       "      <td>1</td>\n",
       "    </tr>\n",
       "    <tr>\n",
       "      <th>2538</th>\n",
       "      <td>18.9</td>\n",
       "      <td>67.10</td>\n",
       "      <td>11.884496</td>\n",
       "      <td>0</td>\n",
       "      <td>0</td>\n",
       "      <td>0</td>\n",
       "      <td>0</td>\n",
       "      <td>0</td>\n",
       "      <td>1</td>\n",
       "      <td>0</td>\n",
       "      <td>0</td>\n",
       "      <td>0</td>\n",
       "      <td>0</td>\n",
       "      <td>0</td>\n",
       "      <td>0</td>\n",
       "      <td>1</td>\n",
       "      <td>0</td>\n",
       "      <td>0</td>\n",
       "      <td>0</td>\n",
       "      <td>0</td>\n",
       "      <td>0</td>\n",
       "      <td>0</td>\n",
       "      <td>0</td>\n",
       "      <td>0</td>\n",
       "      <td>0</td>\n",
       "      <td>0</td>\n",
       "      <td>0</td>\n",
       "      <td>0</td>\n",
       "      <td>0</td>\n",
       "      <td>0</td>\n",
       "      <td>0</td>\n",
       "      <td>0</td>\n",
       "      <td>0</td>\n",
       "      <td>0</td>\n",
       "      <td>1</td>\n",
       "      <td>0</td>\n",
       "      <td>0</td>\n",
       "      <td>0</td>\n",
       "      <td>0</td>\n",
       "      <td>0</td>\n",
       "      <td>0</td>\n",
       "      <td>0</td>\n",
       "      <td>0</td>\n",
       "      <td>0</td>\n",
       "      <td>0</td>\n",
       "      <td>0</td>\n",
       "      <td>1</td>\n",
       "      <td>0</td>\n",
       "      <td>0</td>\n",
       "      <td>0</td>\n",
       "      <td>0</td>\n",
       "      <td>1</td>\n",
       "    </tr>\n",
       "    <tr>\n",
       "      <th>2782</th>\n",
       "      <td>23.0</td>\n",
       "      <td>90.00</td>\n",
       "      <td>11.319959</td>\n",
       "      <td>0</td>\n",
       "      <td>0</td>\n",
       "      <td>0</td>\n",
       "      <td>0</td>\n",
       "      <td>0</td>\n",
       "      <td>1</td>\n",
       "      <td>0</td>\n",
       "      <td>0</td>\n",
       "      <td>0</td>\n",
       "      <td>0</td>\n",
       "      <td>0</td>\n",
       "      <td>0</td>\n",
       "      <td>0</td>\n",
       "      <td>1</td>\n",
       "      <td>1</td>\n",
       "      <td>0</td>\n",
       "      <td>0</td>\n",
       "      <td>0</td>\n",
       "      <td>0</td>\n",
       "      <td>0</td>\n",
       "      <td>0</td>\n",
       "      <td>0</td>\n",
       "      <td>0</td>\n",
       "      <td>0</td>\n",
       "      <td>0</td>\n",
       "      <td>0</td>\n",
       "      <td>0</td>\n",
       "      <td>0</td>\n",
       "      <td>0</td>\n",
       "      <td>0</td>\n",
       "      <td>0</td>\n",
       "      <td>0</td>\n",
       "      <td>0</td>\n",
       "      <td>0</td>\n",
       "      <td>0</td>\n",
       "      <td>0</td>\n",
       "      <td>0</td>\n",
       "      <td>0</td>\n",
       "      <td>0</td>\n",
       "      <td>0</td>\n",
       "      <td>0</td>\n",
       "      <td>0</td>\n",
       "      <td>0</td>\n",
       "      <td>1</td>\n",
       "      <td>0</td>\n",
       "      <td>0</td>\n",
       "      <td>0</td>\n",
       "      <td>0</td>\n",
       "      <td>1</td>\n",
       "    </tr>\n",
       "  </tbody>\n",
       "</table>\n",
       "</div>"
      ],
      "text/plain": [
       "      Mileage   Power  Kilometers_Driven_log  Location_Bangalore  \\\n",
       "5078     24.3   88.50               9.989206                   0   \n",
       "5948     15.6  106.00              11.418626                   0   \n",
       "3008     26.6   58.16              10.789340                   0   \n",
       "2538     18.9   67.10              11.884496                   0   \n",
       "2782     23.0   90.00              11.319959                   0   \n",
       "\n",
       "      Location_Chennai  Location_Coimbatore  Location_Delhi  \\\n",
       "5078                 0                    1               0   \n",
       "5948                 0                    0               0   \n",
       "3008                 0                    0               1   \n",
       "2538                 0                    0               0   \n",
       "2782                 0                    0               0   \n",
       "\n",
       "      Location_Hyderabad  Location_Jaipur  Location_Kochi  Location_Kolkata  \\\n",
       "5078                   0                0               0                 0   \n",
       "5948                   1                0               0                 0   \n",
       "3008                   0                0               0                 0   \n",
       "2538                   0                1               0                 0   \n",
       "2782                   0                1               0                 0   \n",
       "\n",
       "      Location_Mumbai  Location_Pune  Year_By_1995-2000  Year_By_2001-2005  \\\n",
       "5078                0              0                  0                  0   \n",
       "5948                0              0                  0                  0   \n",
       "3008                0              0                  0                  0   \n",
       "2538                0              0                  0                  0   \n",
       "2782                0              0                  0                  0   \n",
       "\n",
       "      Year_By_2006-2010  Year_By_2011-2015  Fuel_Type_Diesel  \\\n",
       "5078                  0                  0                 1   \n",
       "5948                  1                  0                 1   \n",
       "3008                  0                  1                 0   \n",
       "2538                  1                  0                 0   \n",
       "2782                  0                  1                 1   \n",
       "\n",
       "      Fuel_Type_Electric  Fuel_Type_LPG  Transmission_Automatic  \\\n",
       "5078                   0              0                       0   \n",
       "5948                   0              0                       1   \n",
       "3008                   0              0                       0   \n",
       "2538                   0              0                       0   \n",
       "2782                   0              0                       0   \n",
       "\n",
       "      Owner_Type_Second  Owner_Type_Third  Company_Audi  Company_BMW  \\\n",
       "5078                  0                 0             0            0   \n",
       "5948                  1                 0             0            0   \n",
       "3008                  1                 0             0            0   \n",
       "2538                  0                 0             0            0   \n",
       "2782                  0                 0             0            0   \n",
       "\n",
       "      Company_Bentley  Company_Fiat  Company_Ford  Company_Honda  \\\n",
       "5078                0             0             0              0   \n",
       "5948                0             0             0              0   \n",
       "3008                0             0             0              0   \n",
       "2538                0             0             0              0   \n",
       "2782                0             0             0              0   \n",
       "\n",
       "      Company_Isuzu  Company_Jaguar  Company_Jeep  Company_Land  \\\n",
       "5078              0               0             0             0   \n",
       "5948              0               0             0             0   \n",
       "3008              0               0             0             0   \n",
       "2538              0               0             0             0   \n",
       "2782              0               0             0             0   \n",
       "\n",
       "      Company_Mahindra  Company_Maruti  Company_Mercedes-Benz  Company_Mini  \\\n",
       "5078                 0               1                      0             0   \n",
       "5948                 0               0                      0             0   \n",
       "3008                 0               1                      0             0   \n",
       "2538                 0               1                      0             0   \n",
       "2782                 0               0                      0             0   \n",
       "\n",
       "      Company_Mitsubishi  Company_Nissan  Company_Porsche  Company_Renault  \\\n",
       "5078                   0               0                0                0   \n",
       "5948                   0               0                0                0   \n",
       "3008                   0               0                0                0   \n",
       "2538                   0               0                0                0   \n",
       "2782                   0               0                0                0   \n",
       "\n",
       "      Company_Skoda  Company_Toyota  Company_Volkswagen  Company_Volvo  \\\n",
       "5078              0               0                   0              0   \n",
       "5948              1               0                   0              0   \n",
       "3008              0               0                   0              0   \n",
       "2538              0               0                   0              0   \n",
       "2782              0               0                   0              0   \n",
       "\n",
       "      Seats_4.0  Seats_5.0  Seats_6.0  Seats_8.0  Seats_9.0  Seats_10.0  \\\n",
       "5078          0          1          0          0          0           0   \n",
       "5948          0          1          0          0          0           0   \n",
       "3008          0          1          0          0          0           0   \n",
       "2538          0          1          0          0          0           0   \n",
       "2782          0          1          0          0          0           0   \n",
       "\n",
       "      constant  \n",
       "5078         1  \n",
       "5948         1  \n",
       "3008         1  \n",
       "2538         1  \n",
       "2782         1  "
      ]
     },
     "execution_count": 110,
     "metadata": {},
     "output_type": "execute_result"
    }
   ],
   "source": [
    "X_test_final.head()"
   ]
  },
  {
   "cell_type": "code",
   "execution_count": 111,
   "metadata": {},
   "outputs": [],
   "source": [
    "y_pred = regression_model1.predict(X_test_final)"
   ]
  },
  {
   "cell_type": "markdown",
   "metadata": {},
   "source": [
    "**Checking the performance on train and test**"
   ]
  },
  {
   "cell_type": "code",
   "execution_count": 112,
   "metadata": {},
   "outputs": [
    {
     "name": "stdout",
     "output_type": "stream",
     "text": [
      "Training Performance\n",
      "\n",
      "       RMSE      MAE       MAPE       R^2  Adjusted R^2\n",
      "0  2.052047  1.49922  27.664243  0.867805      0.866405\n"
     ]
    }
   ],
   "source": [
    "print('Training Performance\\n')\n",
    "print(model_perf(regression_model1, X_train9, y_train))"
   ]
  },
  {
   "cell_type": "code",
   "execution_count": 113,
   "metadata": {},
   "outputs": [
    {
     "name": "stdout",
     "output_type": "stream",
     "text": [
      "Test Performance\n",
      "\n",
      "       RMSE       MAE       MAPE       R^2  Adjusted R^2\n",
      "0  2.083253  1.513139  26.990932  0.861828      0.858365\n"
     ]
    }
   ],
   "source": [
    "print('Test Performance\\n')\n",
    "print(model_perf(regression_model1, X_test_final, y_test))"
   ]
  },
  {
   "cell_type": "markdown",
   "metadata": {},
   "source": [
    "* **Now we can finally see that we have low test and train error, also both the errors are comparable, so our model is not suffering from overfitting.**\n",
    "\n",
    "* **Hence we can conclude the model \"regression_model1\" is good for prediction as well as inference purpose.**\n"
   ]
  },
  {
   "cell_type": "code",
   "execution_count": 114,
   "metadata": {},
   "outputs": [
    {
     "name": "stdout",
     "output_type": "stream",
     "text": [
      "                        Coefficients\n",
      "Mileage                    -0.078061\n",
      "Power                       0.038404\n",
      "Kilometers_Driven_log      -0.795770\n",
      "Location_Bangalore          0.817353\n",
      "Location_Chennai            0.004260\n",
      "Location_Coimbatore         0.666855\n",
      "Location_Delhi             -0.485620\n",
      "Location_Hyderabad          0.417097\n",
      "Location_Jaipur             0.062855\n",
      "Location_Kochi              0.257744\n",
      "Location_Kolkata           -1.151048\n",
      "Location_Mumbai            -0.434762\n",
      "Location_Pune              -0.108928\n",
      "Year_By_1995-2000          -4.975660\n",
      "Year_By_2001-2005          -4.181339\n",
      "Year_By_2006-2010          -3.352069\n",
      "Year_By_2011-2015          -1.389113\n",
      "Fuel_Type_Diesel            1.527054\n",
      "Fuel_Type_Electric          8.703585\n",
      "Fuel_Type_LPG               1.028997\n",
      "Transmission_Automatic      0.885006\n",
      "Owner_Type_Second          -0.496652\n",
      "Owner_Type_Third           -0.823520\n",
      "Company_Audi                7.381129\n",
      "Company_BMW                 6.366283\n",
      "Company_Bentley             9.510791\n",
      "Company_Fiat               -1.014845\n",
      "Company_Ford                0.363309\n",
      "Company_Honda               0.143687\n",
      "Company_Isuzu               7.372290\n",
      "Company_Jaguar              7.038708\n",
      "Company_Jeep                7.535717\n",
      "Company_Land                7.938055\n",
      "Company_Mahindra           -0.286335\n",
      "Company_Maruti              0.361476\n",
      "Company_Mercedes-Benz       6.549175\n",
      "Company_Mini                9.868080\n",
      "Company_Mitsubishi          1.602180\n",
      "Company_Nissan             -0.250393\n",
      "Company_Porsche             6.762522\n",
      "Company_Renault             0.157203\n",
      "Company_Skoda               0.867508\n",
      "Company_Toyota              3.497756\n",
      "Company_Volkswagen         -0.135455\n",
      "Company_Volvo               6.683322\n",
      "Seats_4.0                  -1.068200\n",
      "Seats_5.0                  -1.268296\n",
      "Seats_6.0                  -0.700422\n",
      "Seats_8.0                  -0.622181\n",
      "Seats_9.0                  -3.105555\n",
      "Seats_10.0                  0.115148\n",
      "constant                   13.413441\n",
      "\n",
      "\n",
      "Training Performance\n",
      "\n",
      "       RMSE      MAE       MAPE       R^2  Adjusted R^2\n",
      "0  2.052047  1.49922  27.664243  0.867805      0.866405\n"
     ]
    }
   ],
   "source": [
    "regression_model1 = LinearRegression(fit_intercept=False)\n",
    "regression_model1.fit(X_train9,y_train)\n",
    "\n",
    "# let us check the coefficients and intercept of the model\n",
    "\n",
    "coef_df = pd.DataFrame(regression_model1.coef_.flatten(), \\\n",
    "                       index=X_train9.columns.tolist(), columns=['Coefficients'])\n",
    "print(coef_df)\n",
    "\n",
    "# model performance\n",
    "print('\\n\\nTraining Performance\\n')\n",
    "print(model_perf(regression_model1, X_train9, y_train))"
   ]
  },
  {
   "cell_type": "markdown",
   "metadata": {},
   "source": [
    "### Observations\n",
    "Now this is our final model which follows all the assumptions and this can be used for interpretations\n",
    "\n",
    "1. Mileage, Kilometers_Driven, car's age and level of ownership (second and above) affects the used car's price negatively.\n",
    "2. Luxury car brands like BMW, Audi, Bentley, Porche etc contributes positively to the used car price.\n",
    "3. Electric Fuel type is also contributing positively to used car price.\n",
    "4. Automatic used cars can sell for higher price than manual transmission.\n",
    "5. Selling used cars in locations like Bangalore and Hyderabad, will increase the value of used car."
   ]
  },
  {
   "cell_type": "markdown",
   "metadata": {},
   "source": [
    "## Forward Feature Selection"
   ]
  },
  {
   "cell_type": "code",
   "execution_count": 115,
   "metadata": {},
   "outputs": [],
   "source": [
    "#Forward Feature selection\n",
    "X_train_new = X_train9.drop('constant', axis = 1)"
   ]
  },
  {
   "cell_type": "code",
   "execution_count": 116,
   "metadata": {},
   "outputs": [
    {
     "name": "stderr",
     "output_type": "stream",
     "text": [
      "[Parallel(n_jobs=1)]: Using backend SequentialBackend with 1 concurrent workers.\n",
      "[Parallel(n_jobs=1)]: Done   1 out of   1 | elapsed:    0.0s remaining:    0.0s\n",
      "[Parallel(n_jobs=1)]: Done  51 out of  51 | elapsed:    1.9s finished\n",
      "\n",
      "[2021-05-06 22:21:35] Features: 1/51 -- score: 0.6527470337087034[Parallel(n_jobs=1)]: Using backend SequentialBackend with 1 concurrent workers.\n",
      "[Parallel(n_jobs=1)]: Done   1 out of   1 | elapsed:    0.0s remaining:    0.0s\n",
      "[Parallel(n_jobs=1)]: Done  50 out of  50 | elapsed:    2.1s finished\n",
      "\n",
      "[2021-05-06 22:21:37] Features: 2/51 -- score: 0.6957113557834214[Parallel(n_jobs=1)]: Using backend SequentialBackend with 1 concurrent workers.\n",
      "[Parallel(n_jobs=1)]: Done   1 out of   1 | elapsed:    0.0s remaining:    0.0s\n",
      "[Parallel(n_jobs=1)]: Done  49 out of  49 | elapsed:    1.8s finished\n",
      "\n",
      "[2021-05-06 22:21:39] Features: 3/51 -- score: 0.7145933079437097[Parallel(n_jobs=1)]: Using backend SequentialBackend with 1 concurrent workers.\n",
      "[Parallel(n_jobs=1)]: Done   1 out of   1 | elapsed:    0.0s remaining:    0.0s\n",
      "[Parallel(n_jobs=1)]: Done  48 out of  48 | elapsed:    1.7s finished\n",
      "\n",
      "[2021-05-06 22:21:41] Features: 4/51 -- score: 0.7362722144530099[Parallel(n_jobs=1)]: Using backend SequentialBackend with 1 concurrent workers.\n",
      "[Parallel(n_jobs=1)]: Done   1 out of   1 | elapsed:    0.0s remaining:    0.0s\n",
      "[Parallel(n_jobs=1)]: Done  47 out of  47 | elapsed:    1.8s finished\n",
      "\n",
      "[2021-05-06 22:21:43] Features: 5/51 -- score: 0.7557624982937133[Parallel(n_jobs=1)]: Using backend SequentialBackend with 1 concurrent workers.\n",
      "[Parallel(n_jobs=1)]: Done   1 out of   1 | elapsed:    0.0s remaining:    0.0s\n",
      "[Parallel(n_jobs=1)]: Done  46 out of  46 | elapsed:    1.8s finished\n",
      "\n",
      "[2021-05-06 22:21:44] Features: 6/51 -- score: 0.7682409140073366[Parallel(n_jobs=1)]: Using backend SequentialBackend with 1 concurrent workers.\n",
      "[Parallel(n_jobs=1)]: Done   1 out of   1 | elapsed:    0.0s remaining:    0.0s\n",
      "[Parallel(n_jobs=1)]: Done  45 out of  45 | elapsed:    1.6s finished\n",
      "\n",
      "[2021-05-06 22:21:46] Features: 7/51 -- score: 0.7764585420001691[Parallel(n_jobs=1)]: Using backend SequentialBackend with 1 concurrent workers.\n",
      "[Parallel(n_jobs=1)]: Done   1 out of   1 | elapsed:    0.0s remaining:    0.0s\n",
      "[Parallel(n_jobs=1)]: Done  44 out of  44 | elapsed:    1.7s finished\n",
      "\n",
      "[2021-05-06 22:21:48] Features: 8/51 -- score: 0.7861134235138805[Parallel(n_jobs=1)]: Using backend SequentialBackend with 1 concurrent workers.\n",
      "[Parallel(n_jobs=1)]: Done   1 out of   1 | elapsed:    0.0s remaining:    0.0s\n",
      "[Parallel(n_jobs=1)]: Done  43 out of  43 | elapsed:    1.7s finished\n",
      "\n",
      "[2021-05-06 22:21:50] Features: 9/51 -- score: 0.7937538870669509[Parallel(n_jobs=1)]: Using backend SequentialBackend with 1 concurrent workers.\n",
      "[Parallel(n_jobs=1)]: Done   1 out of   1 | elapsed:    0.0s remaining:    0.0s\n",
      "[Parallel(n_jobs=1)]: Done  42 out of  42 | elapsed:    1.6s finished\n",
      "\n",
      "[2021-05-06 22:21:52] Features: 10/51 -- score: 0.8047212818580162[Parallel(n_jobs=1)]: Using backend SequentialBackend with 1 concurrent workers.\n",
      "[Parallel(n_jobs=1)]: Done   1 out of   1 | elapsed:    0.0s remaining:    0.0s\n",
      "[Parallel(n_jobs=1)]: Done  41 out of  41 | elapsed:    1.8s finished\n",
      "\n",
      "[2021-05-06 22:21:53] Features: 11/51 -- score: 0.8142690434177663[Parallel(n_jobs=1)]: Using backend SequentialBackend with 1 concurrent workers.\n",
      "[Parallel(n_jobs=1)]: Done   1 out of   1 | elapsed:    0.0s remaining:    0.0s\n",
      "[Parallel(n_jobs=1)]: Done  40 out of  40 | elapsed:    1.9s finished\n",
      "\n",
      "[2021-05-06 22:21:55] Features: 12/51 -- score: 0.8207116921152778[Parallel(n_jobs=1)]: Using backend SequentialBackend with 1 concurrent workers.\n",
      "[Parallel(n_jobs=1)]: Done   1 out of   1 | elapsed:    0.0s remaining:    0.0s\n",
      "[Parallel(n_jobs=1)]: Done  39 out of  39 | elapsed:    1.9s finished\n",
      "\n",
      "[2021-05-06 22:21:57] Features: 13/51 -- score: 0.8291912543065667[Parallel(n_jobs=1)]: Using backend SequentialBackend with 1 concurrent workers.\n",
      "[Parallel(n_jobs=1)]: Done   1 out of   1 | elapsed:    0.0s remaining:    0.0s\n",
      "[Parallel(n_jobs=1)]: Done  38 out of  38 | elapsed:    1.9s finished\n",
      "\n",
      "[2021-05-06 22:21:59] Features: 14/51 -- score: 0.8345207026674238[Parallel(n_jobs=1)]: Using backend SequentialBackend with 1 concurrent workers.\n",
      "[Parallel(n_jobs=1)]: Done   1 out of   1 | elapsed:    0.0s remaining:    0.0s\n",
      "[Parallel(n_jobs=1)]: Done  37 out of  37 | elapsed:    1.9s finished\n",
      "\n",
      "[2021-05-06 22:22:01] Features: 15/51 -- score: 0.8382659287996587[Parallel(n_jobs=1)]: Using backend SequentialBackend with 1 concurrent workers.\n",
      "[Parallel(n_jobs=1)]: Done   1 out of   1 | elapsed:    0.0s remaining:    0.0s\n",
      "[Parallel(n_jobs=1)]: Done  36 out of  36 | elapsed:    1.8s finished\n",
      "\n",
      "[2021-05-06 22:22:03] Features: 16/51 -- score: 0.8416227714623765[Parallel(n_jobs=1)]: Using backend SequentialBackend with 1 concurrent workers.\n",
      "[Parallel(n_jobs=1)]: Done   1 out of   1 | elapsed:    0.0s remaining:    0.0s\n",
      "[Parallel(n_jobs=1)]: Done  35 out of  35 | elapsed:    1.9s finished\n",
      "\n",
      "[2021-05-06 22:22:05] Features: 17/51 -- score: 0.8453154250359287[Parallel(n_jobs=1)]: Using backend SequentialBackend with 1 concurrent workers.\n",
      "[Parallel(n_jobs=1)]: Done   1 out of   1 | elapsed:    0.0s remaining:    0.0s\n",
      "[Parallel(n_jobs=1)]: Done  34 out of  34 | elapsed:    2.2s finished\n",
      "\n",
      "[2021-05-06 22:22:08] Features: 18/51 -- score: 0.8490376638398625[Parallel(n_jobs=1)]: Using backend SequentialBackend with 1 concurrent workers.\n",
      "[Parallel(n_jobs=1)]: Done   1 out of   1 | elapsed:    0.0s remaining:    0.0s\n",
      "[Parallel(n_jobs=1)]: Done  33 out of  33 | elapsed:    2.0s finished\n",
      "\n",
      "[2021-05-06 22:22:10] Features: 19/51 -- score: 0.8512592262057179[Parallel(n_jobs=1)]: Using backend SequentialBackend with 1 concurrent workers.\n",
      "[Parallel(n_jobs=1)]: Done   1 out of   1 | elapsed:    0.0s remaining:    0.0s\n",
      "[Parallel(n_jobs=1)]: Done  32 out of  32 | elapsed:    1.8s finished\n",
      "\n",
      "[2021-05-06 22:22:12] Features: 20/51 -- score: 0.8526252994319288[Parallel(n_jobs=1)]: Using backend SequentialBackend with 1 concurrent workers.\n",
      "[Parallel(n_jobs=1)]: Done   1 out of   1 | elapsed:    0.0s remaining:    0.0s\n",
      "[Parallel(n_jobs=1)]: Done  31 out of  31 | elapsed:    2.2s finished\n",
      "\n",
      "[2021-05-06 22:22:14] Features: 21/51 -- score: 0.8538935344130978[Parallel(n_jobs=1)]: Using backend SequentialBackend with 1 concurrent workers.\n",
      "[Parallel(n_jobs=1)]: Done   1 out of   1 | elapsed:    0.0s remaining:    0.0s\n",
      "[Parallel(n_jobs=1)]: Done  30 out of  30 | elapsed:    2.3s finished\n",
      "\n",
      "[2021-05-06 22:22:16] Features: 22/51 -- score: 0.8553508466427934[Parallel(n_jobs=1)]: Using backend SequentialBackend with 1 concurrent workers.\n",
      "[Parallel(n_jobs=1)]: Done   1 out of   1 | elapsed:    0.0s remaining:    0.0s\n",
      "[Parallel(n_jobs=1)]: Done  29 out of  29 | elapsed:    1.9s finished\n",
      "\n",
      "[2021-05-06 22:22:18] Features: 23/51 -- score: 0.8564743331141067[Parallel(n_jobs=1)]: Using backend SequentialBackend with 1 concurrent workers.\n",
      "[Parallel(n_jobs=1)]: Done   1 out of   1 | elapsed:    0.0s remaining:    0.0s\n",
      "[Parallel(n_jobs=1)]: Done  28 out of  28 | elapsed:    2.3s finished\n",
      "\n",
      "[2021-05-06 22:22:21] Features: 24/51 -- score: 0.8576389934922585[Parallel(n_jobs=1)]: Using backend SequentialBackend with 1 concurrent workers.\n",
      "[Parallel(n_jobs=1)]: Done   1 out of   1 | elapsed:    0.0s remaining:    0.0s\n",
      "[Parallel(n_jobs=1)]: Done  27 out of  27 | elapsed:    2.2s finished\n",
      "\n",
      "[2021-05-06 22:22:23] Features: 25/51 -- score: 0.8585018023491469[Parallel(n_jobs=1)]: Using backend SequentialBackend with 1 concurrent workers.\n",
      "[Parallel(n_jobs=1)]: Done   1 out of   1 | elapsed:    0.0s remaining:    0.0s\n",
      "[Parallel(n_jobs=1)]: Done  26 out of  26 | elapsed:    2.1s finished\n",
      "\n",
      "[2021-05-06 22:22:25] Features: 26/51 -- score: 0.8590902737029855[Parallel(n_jobs=1)]: Using backend SequentialBackend with 1 concurrent workers.\n",
      "[Parallel(n_jobs=1)]: Done   1 out of   1 | elapsed:    0.0s remaining:    0.0s\n",
      "[Parallel(n_jobs=1)]: Done  25 out of  25 | elapsed:    1.9s finished\n",
      "\n",
      "[2021-05-06 22:22:27] Features: 27/51 -- score: 0.8596271425102614[Parallel(n_jobs=1)]: Using backend SequentialBackend with 1 concurrent workers.\n",
      "[Parallel(n_jobs=1)]: Done   1 out of   1 | elapsed:    0.0s remaining:    0.0s\n"
     ]
    },
    {
     "name": "stderr",
     "output_type": "stream",
     "text": [
      "[Parallel(n_jobs=1)]: Done  24 out of  24 | elapsed:    2.0s finished\n",
      "\n",
      "[2021-05-06 22:22:29] Features: 28/51 -- score: 0.8601303748061554[Parallel(n_jobs=1)]: Using backend SequentialBackend with 1 concurrent workers.\n",
      "[Parallel(n_jobs=1)]: Done   1 out of   1 | elapsed:    0.0s remaining:    0.0s\n",
      "[Parallel(n_jobs=1)]: Done  23 out of  23 | elapsed:    1.5s finished\n",
      "\n",
      "[2021-05-06 22:22:31] Features: 29/51 -- score: 0.8606423062668483[Parallel(n_jobs=1)]: Using backend SequentialBackend with 1 concurrent workers.\n",
      "[Parallel(n_jobs=1)]: Done   1 out of   1 | elapsed:    0.0s remaining:    0.0s\n",
      "[Parallel(n_jobs=1)]: Done  22 out of  22 | elapsed:    1.6s finished\n",
      "\n",
      "[2021-05-06 22:22:33] Features: 30/51 -- score: 0.861045009028319[Parallel(n_jobs=1)]: Using backend SequentialBackend with 1 concurrent workers.\n",
      "[Parallel(n_jobs=1)]: Done   1 out of   1 | elapsed:    0.0s remaining:    0.0s\n",
      "[Parallel(n_jobs=1)]: Done  21 out of  21 | elapsed:    1.5s finished\n",
      "\n",
      "[2021-05-06 22:22:34] Features: 31/51 -- score: 0.8613591162740069[Parallel(n_jobs=1)]: Using backend SequentialBackend with 1 concurrent workers.\n",
      "[Parallel(n_jobs=1)]: Done   1 out of   1 | elapsed:    0.0s remaining:    0.0s\n",
      "[Parallel(n_jobs=1)]: Done  20 out of  20 | elapsed:    1.4s finished\n",
      "\n",
      "[2021-05-06 22:22:36] Features: 32/51 -- score: 0.8615379712670796[Parallel(n_jobs=1)]: Using backend SequentialBackend with 1 concurrent workers.\n",
      "[Parallel(n_jobs=1)]: Done   1 out of   1 | elapsed:    0.0s remaining:    0.0s\n",
      "[Parallel(n_jobs=1)]: Done  19 out of  19 | elapsed:    1.7s finished\n",
      "\n",
      "[2021-05-06 22:22:38] Features: 33/51 -- score: 0.8616653810377111[Parallel(n_jobs=1)]: Using backend SequentialBackend with 1 concurrent workers.\n",
      "[Parallel(n_jobs=1)]: Done   1 out of   1 | elapsed:    0.0s remaining:    0.0s\n",
      "[Parallel(n_jobs=1)]: Done  18 out of  18 | elapsed:    1.6s finished\n",
      "\n",
      "[2021-05-06 22:22:39] Features: 34/51 -- score: 0.8618246094625747[Parallel(n_jobs=1)]: Using backend SequentialBackend with 1 concurrent workers.\n",
      "[Parallel(n_jobs=1)]: Done   1 out of   1 | elapsed:    0.0s remaining:    0.0s\n",
      "[Parallel(n_jobs=1)]: Done  17 out of  17 | elapsed:    1.5s finished\n",
      "\n",
      "[2021-05-06 22:22:41] Features: 35/51 -- score: 0.8618905788132031[Parallel(n_jobs=1)]: Using backend SequentialBackend with 1 concurrent workers.\n",
      "[Parallel(n_jobs=1)]: Done   1 out of   1 | elapsed:    0.0s remaining:    0.0s\n",
      "[Parallel(n_jobs=1)]: Done  16 out of  16 | elapsed:    1.3s finished\n",
      "\n",
      "[2021-05-06 22:22:42] Features: 36/51 -- score: 0.861988590748042[Parallel(n_jobs=1)]: Using backend SequentialBackend with 1 concurrent workers.\n",
      "[Parallel(n_jobs=1)]: Done   1 out of   1 | elapsed:    0.0s remaining:    0.0s\n",
      "[Parallel(n_jobs=1)]: Done  15 out of  15 | elapsed:    1.5s finished\n",
      "\n",
      "[2021-05-06 22:22:44] Features: 37/51 -- score: 0.8620575339538336[Parallel(n_jobs=1)]: Using backend SequentialBackend with 1 concurrent workers.\n",
      "[Parallel(n_jobs=1)]: Done   1 out of   1 | elapsed:    0.0s remaining:    0.0s\n",
      "[Parallel(n_jobs=1)]: Done  14 out of  14 | elapsed:    1.3s finished\n",
      "\n",
      "[2021-05-06 22:22:45] Features: 38/51 -- score: 0.8621190654468656[Parallel(n_jobs=1)]: Using backend SequentialBackend with 1 concurrent workers.\n",
      "[Parallel(n_jobs=1)]: Done   1 out of   1 | elapsed:    0.0s remaining:    0.0s\n",
      "[Parallel(n_jobs=1)]: Done  13 out of  13 | elapsed:    1.3s finished\n",
      "\n",
      "[2021-05-06 22:22:47] Features: 39/51 -- score: 0.8621312076128171[Parallel(n_jobs=1)]: Using backend SequentialBackend with 1 concurrent workers.\n",
      "[Parallel(n_jobs=1)]: Done   1 out of   1 | elapsed:    0.0s remaining:    0.0s\n",
      "[Parallel(n_jobs=1)]: Done  12 out of  12 | elapsed:    1.3s finished\n",
      "\n",
      "[2021-05-06 22:22:48] Features: 40/51 -- score: 0.8621473650773737[Parallel(n_jobs=1)]: Using backend SequentialBackend with 1 concurrent workers.\n",
      "[Parallel(n_jobs=1)]: Done   1 out of   1 | elapsed:    0.0s remaining:    0.0s\n",
      "[Parallel(n_jobs=1)]: Done  11 out of  11 | elapsed:    1.1s finished\n",
      "\n",
      "[2021-05-06 22:22:49] Features: 41/51 -- score: 0.8621557238315398[Parallel(n_jobs=1)]: Using backend SequentialBackend with 1 concurrent workers.\n",
      "[Parallel(n_jobs=1)]: Done   1 out of   1 | elapsed:    0.0s remaining:    0.0s\n",
      "[Parallel(n_jobs=1)]: Done  10 out of  10 | elapsed:    0.9s finished\n",
      "\n",
      "[2021-05-06 22:22:50] Features: 42/51 -- score: 0.8621607752789361[Parallel(n_jobs=1)]: Using backend SequentialBackend with 1 concurrent workers.\n",
      "[Parallel(n_jobs=1)]: Done   1 out of   1 | elapsed:    0.0s remaining:    0.0s\n",
      "[Parallel(n_jobs=1)]: Done   9 out of   9 | elapsed:    0.8s finished\n",
      "\n",
      "[2021-05-06 22:22:51] Features: 43/51 -- score: 0.8621875016975185[Parallel(n_jobs=1)]: Using backend SequentialBackend with 1 concurrent workers.\n",
      "[Parallel(n_jobs=1)]: Done   1 out of   1 | elapsed:    0.0s remaining:    0.0s\n",
      "[Parallel(n_jobs=1)]: Done   8 out of   8 | elapsed:    0.9s finished\n",
      "\n",
      "[2021-05-06 22:22:52] Features: 44/51 -- score: 0.8621910507452013[Parallel(n_jobs=1)]: Using backend SequentialBackend with 1 concurrent workers.\n",
      "[Parallel(n_jobs=1)]: Done   1 out of   1 | elapsed:    0.0s remaining:    0.0s\n",
      "[Parallel(n_jobs=1)]: Done   7 out of   7 | elapsed:    0.7s finished\n",
      "\n",
      "[2021-05-06 22:22:53] Features: 45/51 -- score: 0.86218719007198[Parallel(n_jobs=1)]: Using backend SequentialBackend with 1 concurrent workers.\n",
      "[Parallel(n_jobs=1)]: Done   1 out of   1 | elapsed:    0.0s remaining:    0.0s\n",
      "[Parallel(n_jobs=1)]: Done   6 out of   6 | elapsed:    0.6s finished\n",
      "\n",
      "[2021-05-06 22:22:54] Features: 46/51 -- score: 0.8621464445518668[Parallel(n_jobs=1)]: Using backend SequentialBackend with 1 concurrent workers.\n",
      "[Parallel(n_jobs=1)]: Done   1 out of   1 | elapsed:    0.0s remaining:    0.0s\n",
      "[Parallel(n_jobs=1)]: Done   5 out of   5 | elapsed:    0.5s finished\n",
      "\n",
      "[2021-05-06 22:22:54] Features: 47/51 -- score: 0.8620829144748449[Parallel(n_jobs=1)]: Using backend SequentialBackend with 1 concurrent workers.\n",
      "[Parallel(n_jobs=1)]: Done   1 out of   1 | elapsed:    0.0s remaining:    0.0s\n",
      "[Parallel(n_jobs=1)]: Done   4 out of   4 | elapsed:    0.4s finished\n",
      "\n",
      "[2021-05-06 22:22:55] Features: 48/51 -- score: 0.862100237533563[Parallel(n_jobs=1)]: Using backend SequentialBackend with 1 concurrent workers.\n",
      "[Parallel(n_jobs=1)]: Done   1 out of   1 | elapsed:    0.0s remaining:    0.0s\n",
      "[Parallel(n_jobs=1)]: Done   3 out of   3 | elapsed:    0.3s finished\n",
      "\n",
      "[2021-05-06 22:22:55] Features: 49/51 -- score: 0.8620162753914663[Parallel(n_jobs=1)]: Using backend SequentialBackend with 1 concurrent workers.\n",
      "[Parallel(n_jobs=1)]: Done   1 out of   1 | elapsed:    0.0s remaining:    0.0s\n",
      "[Parallel(n_jobs=1)]: Done   2 out of   2 | elapsed:    0.2s finished\n",
      "\n",
      "[2021-05-06 22:22:56] Features: 50/51 -- score: 0.8619823486816773[Parallel(n_jobs=1)]: Using backend SequentialBackend with 1 concurrent workers.\n",
      "[Parallel(n_jobs=1)]: Done   1 out of   1 | elapsed:    0.0s remaining:    0.0s\n",
      "[Parallel(n_jobs=1)]: Done   1 out of   1 | elapsed:    0.0s finished\n",
      "\n",
      "[2021-05-06 22:22:56] Features: 51/51 -- score: 0.861705754662428"
     ]
    }
   ],
   "source": [
    "from mlxtend.feature_selection import SequentialFeatureSelector as sfs\n",
    "\n",
    "reg = LinearRegression()\n",
    "\n",
    "# Build step forward feature selection\n",
    "sfs1 = sfs(reg,k_features = X_train_new.shape[1], forward=True,   # k_features denotes \"Number of features to select\"\n",
    "           floating=False, scoring= 'r2',\n",
    "           verbose=2, cv=5)\n",
    "\n",
    "# Perform SFFS\n",
    "sfs1 = sfs1.fit(X_train_new, y_train)"
   ]
  },
  {
   "cell_type": "markdown",
   "metadata": {},
   "source": [
    "**We can see that Adjusted-R square starts decreasing after addition of 45th feature, so we will proceed only with best 44 features**\n",
    "\n",
    "* Now we'll change k_features to 44."
   ]
  },
  {
   "cell_type": "code",
   "execution_count": 117,
   "metadata": {},
   "outputs": [
    {
     "name": "stderr",
     "output_type": "stream",
     "text": [
      "[Parallel(n_jobs=1)]: Using backend SequentialBackend with 1 concurrent workers.\n",
      "[Parallel(n_jobs=1)]: Done   1 out of   1 | elapsed:    0.0s remaining:    0.0s\n",
      "[Parallel(n_jobs=1)]: Done  51 out of  51 | elapsed:    1.8s finished\n",
      "\n",
      "[2021-05-06 22:22:58] Features: 1/44 -- score: 0.6527470337087034[Parallel(n_jobs=1)]: Using backend SequentialBackend with 1 concurrent workers.\n",
      "[Parallel(n_jobs=1)]: Done   1 out of   1 | elapsed:    0.0s remaining:    0.0s\n",
      "[Parallel(n_jobs=1)]: Done  50 out of  50 | elapsed:    1.8s finished\n",
      "\n",
      "[2021-05-06 22:23:00] Features: 2/44 -- score: 0.6957113557834214[Parallel(n_jobs=1)]: Using backend SequentialBackend with 1 concurrent workers.\n",
      "[Parallel(n_jobs=1)]: Done   1 out of   1 | elapsed:    0.0s remaining:    0.0s\n",
      "[Parallel(n_jobs=1)]: Done  49 out of  49 | elapsed:    2.0s finished\n",
      "\n",
      "[2021-05-06 22:23:02] Features: 3/44 -- score: 0.7145933079437097[Parallel(n_jobs=1)]: Using backend SequentialBackend with 1 concurrent workers.\n",
      "[Parallel(n_jobs=1)]: Done   1 out of   1 | elapsed:    0.0s remaining:    0.0s\n",
      "[Parallel(n_jobs=1)]: Done  48 out of  48 | elapsed:    2.0s finished\n",
      "\n",
      "[2021-05-06 22:23:04] Features: 4/44 -- score: 0.7362722144530099[Parallel(n_jobs=1)]: Using backend SequentialBackend with 1 concurrent workers.\n",
      "[Parallel(n_jobs=1)]: Done   1 out of   1 | elapsed:    0.0s remaining:    0.0s\n",
      "[Parallel(n_jobs=1)]: Done  47 out of  47 | elapsed:    1.9s finished\n",
      "\n",
      "[2021-05-06 22:23:06] Features: 5/44 -- score: 0.7557624982937133[Parallel(n_jobs=1)]: Using backend SequentialBackend with 1 concurrent workers.\n",
      "[Parallel(n_jobs=1)]: Done   1 out of   1 | elapsed:    0.0s remaining:    0.0s\n",
      "[Parallel(n_jobs=1)]: Done  46 out of  46 | elapsed:    1.8s finished\n",
      "\n",
      "[2021-05-06 22:23:08] Features: 6/44 -- score: 0.7682409140073366[Parallel(n_jobs=1)]: Using backend SequentialBackend with 1 concurrent workers.\n",
      "[Parallel(n_jobs=1)]: Done   1 out of   1 | elapsed:    0.0s remaining:    0.0s\n",
      "[Parallel(n_jobs=1)]: Done  45 out of  45 | elapsed:    1.8s finished\n",
      "\n",
      "[2021-05-06 22:23:10] Features: 7/44 -- score: 0.7764585420001691[Parallel(n_jobs=1)]: Using backend SequentialBackend with 1 concurrent workers.\n",
      "[Parallel(n_jobs=1)]: Done   1 out of   1 | elapsed:    0.0s remaining:    0.0s\n",
      "[Parallel(n_jobs=1)]: Done  44 out of  44 | elapsed:    1.7s finished\n",
      "\n",
      "[2021-05-06 22:23:11] Features: 8/44 -- score: 0.7861134235138805[Parallel(n_jobs=1)]: Using backend SequentialBackend with 1 concurrent workers.\n",
      "[Parallel(n_jobs=1)]: Done   1 out of   1 | elapsed:    0.0s remaining:    0.0s\n",
      "[Parallel(n_jobs=1)]: Done  43 out of  43 | elapsed:    1.8s finished\n",
      "\n",
      "[2021-05-06 22:23:13] Features: 9/44 -- score: 0.7937538870669509[Parallel(n_jobs=1)]: Using backend SequentialBackend with 1 concurrent workers.\n",
      "[Parallel(n_jobs=1)]: Done   1 out of   1 | elapsed:    0.0s remaining:    0.0s\n",
      "[Parallel(n_jobs=1)]: Done  42 out of  42 | elapsed:    1.7s finished\n",
      "\n",
      "[2021-05-06 22:23:15] Features: 10/44 -- score: 0.8047212818580162[Parallel(n_jobs=1)]: Using backend SequentialBackend with 1 concurrent workers.\n",
      "[Parallel(n_jobs=1)]: Done   1 out of   1 | elapsed:    0.0s remaining:    0.0s\n",
      "[Parallel(n_jobs=1)]: Done  41 out of  41 | elapsed:    1.8s finished\n",
      "\n",
      "[2021-05-06 22:23:17] Features: 11/44 -- score: 0.8142690434177663[Parallel(n_jobs=1)]: Using backend SequentialBackend with 1 concurrent workers.\n",
      "[Parallel(n_jobs=1)]: Done   1 out of   1 | elapsed:    0.0s remaining:    0.0s\n",
      "[Parallel(n_jobs=1)]: Done  40 out of  40 | elapsed:    1.6s finished\n",
      "\n",
      "[2021-05-06 22:23:19] Features: 12/44 -- score: 0.8207116921152778[Parallel(n_jobs=1)]: Using backend SequentialBackend with 1 concurrent workers.\n",
      "[Parallel(n_jobs=1)]: Done   1 out of   1 | elapsed:    0.0s remaining:    0.0s\n",
      "[Parallel(n_jobs=1)]: Done  39 out of  39 | elapsed:    1.7s finished\n",
      "\n",
      "[2021-05-06 22:23:21] Features: 13/44 -- score: 0.8291912543065667[Parallel(n_jobs=1)]: Using backend SequentialBackend with 1 concurrent workers.\n",
      "[Parallel(n_jobs=1)]: Done   1 out of   1 | elapsed:    0.0s remaining:    0.0s\n",
      "[Parallel(n_jobs=1)]: Done  38 out of  38 | elapsed:    1.8s finished\n",
      "\n",
      "[2021-05-06 22:23:22] Features: 14/44 -- score: 0.8345207026674238[Parallel(n_jobs=1)]: Using backend SequentialBackend with 1 concurrent workers.\n",
      "[Parallel(n_jobs=1)]: Done   1 out of   1 | elapsed:    0.0s remaining:    0.0s\n",
      "[Parallel(n_jobs=1)]: Done  37 out of  37 | elapsed:    1.7s finished\n",
      "\n",
      "[2021-05-06 22:23:24] Features: 15/44 -- score: 0.8382659287996587[Parallel(n_jobs=1)]: Using backend SequentialBackend with 1 concurrent workers.\n",
      "[Parallel(n_jobs=1)]: Done   1 out of   1 | elapsed:    0.0s remaining:    0.0s\n",
      "[Parallel(n_jobs=1)]: Done  36 out of  36 | elapsed:    1.9s finished\n",
      "\n",
      "[2021-05-06 22:23:26] Features: 16/44 -- score: 0.8416227714623765[Parallel(n_jobs=1)]: Using backend SequentialBackend with 1 concurrent workers.\n",
      "[Parallel(n_jobs=1)]: Done   1 out of   1 | elapsed:    0.0s remaining:    0.0s\n",
      "[Parallel(n_jobs=1)]: Done  35 out of  35 | elapsed:    1.8s finished\n",
      "\n",
      "[2021-05-06 22:23:28] Features: 17/44 -- score: 0.8453154250359287[Parallel(n_jobs=1)]: Using backend SequentialBackend with 1 concurrent workers.\n",
      "[Parallel(n_jobs=1)]: Done   1 out of   1 | elapsed:    0.0s remaining:    0.0s\n",
      "[Parallel(n_jobs=1)]: Done  34 out of  34 | elapsed:    1.8s finished\n",
      "\n",
      "[2021-05-06 22:23:30] Features: 18/44 -- score: 0.8490376638398625[Parallel(n_jobs=1)]: Using backend SequentialBackend with 1 concurrent workers.\n",
      "[Parallel(n_jobs=1)]: Done   1 out of   1 | elapsed:    0.0s remaining:    0.0s\n",
      "[Parallel(n_jobs=1)]: Done  33 out of  33 | elapsed:    1.9s finished\n",
      "\n",
      "[2021-05-06 22:23:32] Features: 19/44 -- score: 0.8512592262057179[Parallel(n_jobs=1)]: Using backend SequentialBackend with 1 concurrent workers.\n",
      "[Parallel(n_jobs=1)]: Done   1 out of   1 | elapsed:    0.0s remaining:    0.0s\n",
      "[Parallel(n_jobs=1)]: Done  32 out of  32 | elapsed:    1.9s finished\n",
      "\n",
      "[2021-05-06 22:23:34] Features: 20/44 -- score: 0.8526252994319288[Parallel(n_jobs=1)]: Using backend SequentialBackend with 1 concurrent workers.\n",
      "[Parallel(n_jobs=1)]: Done   1 out of   1 | elapsed:    0.0s remaining:    0.0s\n",
      "[Parallel(n_jobs=1)]: Done  31 out of  31 | elapsed:    2.2s finished\n",
      "\n",
      "[2021-05-06 22:23:36] Features: 21/44 -- score: 0.8538935344130978[Parallel(n_jobs=1)]: Using backend SequentialBackend with 1 concurrent workers.\n",
      "[Parallel(n_jobs=1)]: Done   1 out of   1 | elapsed:    0.0s remaining:    0.0s\n",
      "[Parallel(n_jobs=1)]: Done  30 out of  30 | elapsed:    2.0s finished\n",
      "\n",
      "[2021-05-06 22:23:38] Features: 22/44 -- score: 0.8553508466427934[Parallel(n_jobs=1)]: Using backend SequentialBackend with 1 concurrent workers.\n",
      "[Parallel(n_jobs=1)]: Done   1 out of   1 | elapsed:    0.0s remaining:    0.0s\n",
      "[Parallel(n_jobs=1)]: Done  29 out of  29 | elapsed:    2.0s finished\n",
      "\n",
      "[2021-05-06 22:23:40] Features: 23/44 -- score: 0.8564743331141067[Parallel(n_jobs=1)]: Using backend SequentialBackend with 1 concurrent workers.\n",
      "[Parallel(n_jobs=1)]: Done   1 out of   1 | elapsed:    0.0s remaining:    0.0s\n",
      "[Parallel(n_jobs=1)]: Done  28 out of  28 | elapsed:    1.9s finished\n",
      "\n",
      "[2021-05-06 22:23:43] Features: 24/44 -- score: 0.8576389934922585[Parallel(n_jobs=1)]: Using backend SequentialBackend with 1 concurrent workers.\n",
      "[Parallel(n_jobs=1)]: Done   1 out of   1 | elapsed:    0.0s remaining:    0.0s\n",
      "[Parallel(n_jobs=1)]: Done  27 out of  27 | elapsed:    2.2s finished\n",
      "\n",
      "[2021-05-06 22:23:45] Features: 25/44 -- score: 0.8585018023491469[Parallel(n_jobs=1)]: Using backend SequentialBackend with 1 concurrent workers.\n",
      "[Parallel(n_jobs=1)]: Done   1 out of   1 | elapsed:    0.0s remaining:    0.0s\n",
      "[Parallel(n_jobs=1)]: Done  26 out of  26 | elapsed:    2.3s finished\n",
      "\n",
      "[2021-05-06 22:23:47] Features: 26/44 -- score: 0.8590902737029855[Parallel(n_jobs=1)]: Using backend SequentialBackend with 1 concurrent workers.\n",
      "[Parallel(n_jobs=1)]: Done   1 out of   1 | elapsed:    0.0s remaining:    0.0s\n",
      "[Parallel(n_jobs=1)]: Done  25 out of  25 | elapsed:    1.6s finished\n",
      "\n",
      "[2021-05-06 22:23:49] Features: 27/44 -- score: 0.8596271425102614[Parallel(n_jobs=1)]: Using backend SequentialBackend with 1 concurrent workers.\n",
      "[Parallel(n_jobs=1)]: Done   1 out of   1 | elapsed:    0.0s remaining:    0.0s\n"
     ]
    },
    {
     "name": "stderr",
     "output_type": "stream",
     "text": [
      "[Parallel(n_jobs=1)]: Done  24 out of  24 | elapsed:    1.6s finished\n",
      "\n",
      "[2021-05-06 22:23:51] Features: 28/44 -- score: 0.8601303748061554[Parallel(n_jobs=1)]: Using backend SequentialBackend with 1 concurrent workers.\n",
      "[Parallel(n_jobs=1)]: Done   1 out of   1 | elapsed:    0.0s remaining:    0.0s\n",
      "[Parallel(n_jobs=1)]: Done  23 out of  23 | elapsed:    1.6s finished\n",
      "\n",
      "[2021-05-06 22:23:52] Features: 29/44 -- score: 0.8606423062668483[Parallel(n_jobs=1)]: Using backend SequentialBackend with 1 concurrent workers.\n",
      "[Parallel(n_jobs=1)]: Done   1 out of   1 | elapsed:    0.0s remaining:    0.0s\n",
      "[Parallel(n_jobs=1)]: Done  22 out of  22 | elapsed:    1.6s finished\n",
      "\n",
      "[2021-05-06 22:23:54] Features: 30/44 -- score: 0.861045009028319[Parallel(n_jobs=1)]: Using backend SequentialBackend with 1 concurrent workers.\n",
      "[Parallel(n_jobs=1)]: Done   1 out of   1 | elapsed:    0.0s remaining:    0.0s\n",
      "[Parallel(n_jobs=1)]: Done  21 out of  21 | elapsed:    1.7s finished\n",
      "\n",
      "[2021-05-06 22:23:56] Features: 31/44 -- score: 0.8613591162740069[Parallel(n_jobs=1)]: Using backend SequentialBackend with 1 concurrent workers.\n",
      "[Parallel(n_jobs=1)]: Done   1 out of   1 | elapsed:    0.0s remaining:    0.0s\n",
      "[Parallel(n_jobs=1)]: Done  20 out of  20 | elapsed:    1.6s finished\n",
      "\n",
      "[2021-05-06 22:23:57] Features: 32/44 -- score: 0.8615379712670796[Parallel(n_jobs=1)]: Using backend SequentialBackend with 1 concurrent workers.\n",
      "[Parallel(n_jobs=1)]: Done   1 out of   1 | elapsed:    0.0s remaining:    0.0s\n",
      "[Parallel(n_jobs=1)]: Done  19 out of  19 | elapsed:    1.8s finished\n",
      "\n",
      "[2021-05-06 22:23:59] Features: 33/44 -- score: 0.8616653810377111[Parallel(n_jobs=1)]: Using backend SequentialBackend with 1 concurrent workers.\n",
      "[Parallel(n_jobs=1)]: Done   1 out of   1 | elapsed:    0.0s remaining:    0.0s\n",
      "[Parallel(n_jobs=1)]: Done  18 out of  18 | elapsed:    1.8s finished\n",
      "\n",
      "[2021-05-06 22:24:01] Features: 34/44 -- score: 0.8618246094625747[Parallel(n_jobs=1)]: Using backend SequentialBackend with 1 concurrent workers.\n",
      "[Parallel(n_jobs=1)]: Done   1 out of   1 | elapsed:    0.0s remaining:    0.0s\n",
      "[Parallel(n_jobs=1)]: Done  17 out of  17 | elapsed:    1.6s finished\n",
      "\n",
      "[2021-05-06 22:24:03] Features: 35/44 -- score: 0.8618905788132031[Parallel(n_jobs=1)]: Using backend SequentialBackend with 1 concurrent workers.\n",
      "[Parallel(n_jobs=1)]: Done   1 out of   1 | elapsed:    0.0s remaining:    0.0s\n",
      "[Parallel(n_jobs=1)]: Done  16 out of  16 | elapsed:    1.7s finished\n",
      "\n",
      "[2021-05-06 22:24:05] Features: 36/44 -- score: 0.861988590748042[Parallel(n_jobs=1)]: Using backend SequentialBackend with 1 concurrent workers.\n",
      "[Parallel(n_jobs=1)]: Done   1 out of   1 | elapsed:    0.0s remaining:    0.0s\n",
      "[Parallel(n_jobs=1)]: Done  15 out of  15 | elapsed:    1.4s finished\n",
      "\n",
      "[2021-05-06 22:24:06] Features: 37/44 -- score: 0.8620575339538336[Parallel(n_jobs=1)]: Using backend SequentialBackend with 1 concurrent workers.\n",
      "[Parallel(n_jobs=1)]: Done   1 out of   1 | elapsed:    0.0s remaining:    0.0s\n",
      "[Parallel(n_jobs=1)]: Done  14 out of  14 | elapsed:    1.4s finished\n",
      "\n",
      "[2021-05-06 22:24:08] Features: 38/44 -- score: 0.8621190654468656[Parallel(n_jobs=1)]: Using backend SequentialBackend with 1 concurrent workers.\n",
      "[Parallel(n_jobs=1)]: Done   1 out of   1 | elapsed:    0.0s remaining:    0.0s\n",
      "[Parallel(n_jobs=1)]: Done  13 out of  13 | elapsed:    1.3s finished\n",
      "\n",
      "[2021-05-06 22:24:09] Features: 39/44 -- score: 0.8621312076128171[Parallel(n_jobs=1)]: Using backend SequentialBackend with 1 concurrent workers.\n",
      "[Parallel(n_jobs=1)]: Done   1 out of   1 | elapsed:    0.0s remaining:    0.0s\n",
      "[Parallel(n_jobs=1)]: Done  12 out of  12 | elapsed:    1.1s finished\n",
      "\n",
      "[2021-05-06 22:24:11] Features: 40/44 -- score: 0.8621473650773737[Parallel(n_jobs=1)]: Using backend SequentialBackend with 1 concurrent workers.\n",
      "[Parallel(n_jobs=1)]: Done   1 out of   1 | elapsed:    0.0s remaining:    0.0s\n",
      "[Parallel(n_jobs=1)]: Done  11 out of  11 | elapsed:    1.2s finished\n",
      "\n",
      "[2021-05-06 22:24:12] Features: 41/44 -- score: 0.8621557238315398[Parallel(n_jobs=1)]: Using backend SequentialBackend with 1 concurrent workers.\n",
      "[Parallel(n_jobs=1)]: Done   1 out of   1 | elapsed:    0.0s remaining:    0.0s\n",
      "[Parallel(n_jobs=1)]: Done  10 out of  10 | elapsed:    1.1s finished\n",
      "\n",
      "[2021-05-06 22:24:13] Features: 42/44 -- score: 0.8621607752789361[Parallel(n_jobs=1)]: Using backend SequentialBackend with 1 concurrent workers.\n",
      "[Parallel(n_jobs=1)]: Done   1 out of   1 | elapsed:    0.0s remaining:    0.0s\n",
      "[Parallel(n_jobs=1)]: Done   9 out of   9 | elapsed:    1.0s finished\n",
      "\n",
      "[2021-05-06 22:24:14] Features: 43/44 -- score: 0.8621875016975185[Parallel(n_jobs=1)]: Using backend SequentialBackend with 1 concurrent workers.\n",
      "[Parallel(n_jobs=1)]: Done   1 out of   1 | elapsed:    0.0s remaining:    0.0s\n",
      "[Parallel(n_jobs=1)]: Done   8 out of   8 | elapsed:    0.9s finished\n",
      "\n",
      "[2021-05-06 22:24:15] Features: 44/44 -- score: 0.8621910507452013"
     ]
    }
   ],
   "source": [
    "reg = LinearRegression()\n",
    "\n",
    "# # Build step forward feature selection\n",
    "sfs1 = sfs(reg, k_features = 44, forward=True,\n",
    "           floating=False, scoring='r2',\n",
    "           verbose=2, cv=5)\n",
    "\n",
    "# Perform SFFS\n",
    "sfs1 = sfs1.fit(X_train_new, y_train)"
   ]
  },
  {
   "cell_type": "code",
   "execution_count": 118,
   "metadata": {},
   "outputs": [
    {
     "name": "stdout",
     "output_type": "stream",
     "text": [
      "[0, 1, 2, 3, 5, 6, 7, 10, 11, 12, 13, 14, 15, 16, 17, 18, 19, 20, 21, 22, 23, 24, 25, 26, 27, 28, 29, 30, 31, 32, 33, 34, 35, 36, 38, 39, 41, 42, 43, 44, 45, 46, 48, 49]\n"
     ]
    }
   ],
   "source": [
    "# Now Which features are important?\n",
    "feat_cols = list(sfs1.k_feature_idx_)\n",
    "print(feat_cols)"
   ]
  },
  {
   "cell_type": "code",
   "execution_count": 119,
   "metadata": {},
   "outputs": [
    {
     "data": {
      "text/plain": [
       "Index(['Mileage', 'Power', 'Kilometers_Driven_log', 'Location_Bangalore',\n",
       "       'Location_Coimbatore', 'Location_Delhi', 'Location_Hyderabad',\n",
       "       'Location_Kolkata', 'Location_Mumbai', 'Location_Pune',\n",
       "       'Year_By_1995-2000', 'Year_By_2001-2005', 'Year_By_2006-2010',\n",
       "       'Year_By_2011-2015', 'Fuel_Type_Diesel', 'Fuel_Type_Electric',\n",
       "       'Fuel_Type_LPG', 'Transmission_Automatic', 'Owner_Type_Second',\n",
       "       'Owner_Type_Third', 'Company_Audi', 'Company_BMW', 'Company_Bentley',\n",
       "       'Company_Fiat', 'Company_Ford', 'Company_Honda', 'Company_Isuzu',\n",
       "       'Company_Jaguar', 'Company_Jeep', 'Company_Land', 'Company_Mahindra',\n",
       "       'Company_Maruti', 'Company_Mercedes-Benz', 'Company_Mini',\n",
       "       'Company_Nissan', 'Company_Porsche', 'Company_Skoda', 'Company_Toyota',\n",
       "       'Company_Volkswagen', 'Company_Volvo', 'Seats_4.0', 'Seats_5.0',\n",
       "       'Seats_8.0', 'Seats_9.0'],\n",
       "      dtype='object')"
      ]
     },
     "execution_count": 119,
     "metadata": {},
     "output_type": "execute_result"
    }
   ],
   "source": [
    "X_train9.columns[feat_cols]"
   ]
  },
  {
   "cell_type": "markdown",
   "metadata": {},
   "source": [
    "### Now we will fit a sklearn model using these features only"
   ]
  },
  {
   "cell_type": "code",
   "execution_count": 120,
   "metadata": {},
   "outputs": [],
   "source": [
    "X_train_final = X_train9[X_train9.columns[feat_cols]]"
   ]
  },
  {
   "cell_type": "code",
   "execution_count": 121,
   "metadata": {},
   "outputs": [
    {
     "data": {
      "text/plain": [
       "Index(['Mileage', 'Engine', 'Power', 'New_Price', 'Kilometers_Driven_log',\n",
       "       'Location_Bangalore', 'Location_Chennai', 'Location_Coimbatore',\n",
       "       'Location_Delhi', 'Location_Hyderabad', 'Location_Jaipur',\n",
       "       'Location_Kochi', 'Location_Kolkata', 'Location_Mumbai',\n",
       "       'Location_Pune', 'Year_By_1995-2000', 'Year_By_2001-2005',\n",
       "       'Year_By_2006-2010', 'Year_By_2011-2015', 'Fuel_Type_Diesel',\n",
       "       'Fuel_Type_Electric', 'Fuel_Type_LPG', 'Fuel_Type_Petrol',\n",
       "       'Transmission_Automatic', 'Owner_Type_First', 'Owner_Type_Second',\n",
       "       'Owner_Type_Third', 'Company_Audi', 'Company_BMW', 'Company_Bentley',\n",
       "       'Company_Fiat', 'Company_Ford', 'Company_Honda', 'Company_Hyundai',\n",
       "       'Company_Isuzu', 'Company_Jaguar', 'Company_Jeep', 'Company_Land',\n",
       "       'Company_Mahindra', 'Company_Maruti', 'Company_Mercedes-Benz',\n",
       "       'Company_Mini', 'Company_Mitsubishi', 'Company_Nissan',\n",
       "       'Company_Porsche', 'Company_Renault', 'Company_Skoda', 'Company_Tata',\n",
       "       'Company_Toyota', 'Company_Volkswagen', 'Company_Volvo', 'Seats_2.0',\n",
       "       'Seats_4.0', 'Seats_5.0', 'Seats_6.0', 'Seats_7.0', 'Seats_8.0',\n",
       "       'Seats_9.0', 'Seats_10.0', 'constant'],\n",
       "      dtype='object')"
      ]
     },
     "execution_count": 121,
     "metadata": {},
     "output_type": "execute_result"
    }
   ],
   "source": [
    "X_test.columns"
   ]
  },
  {
   "cell_type": "code",
   "execution_count": 122,
   "metadata": {},
   "outputs": [],
   "source": [
    "#Creating new x_test with the same variables that we selected for x_train\n",
    "X_test_final = X_test[X_train_final.columns]"
   ]
  },
  {
   "cell_type": "code",
   "execution_count": 123,
   "metadata": {},
   "outputs": [
    {
     "name": "stdout",
     "output_type": "stream",
     "text": [
      "                        Coefficients\n",
      "Mileage                    -0.080647\n",
      "Power                       0.038689\n",
      "Kilometers_Driven_log      -0.794424\n",
      "Location_Bangalore          0.716648\n",
      "Location_Coimbatore         0.546635\n",
      "Location_Delhi             -0.593567\n",
      "Location_Hyderabad          0.306739\n",
      "Location_Kolkata           -1.259662\n",
      "Location_Mumbai            -0.545215\n",
      "Location_Pune              -0.216201\n",
      "Year_By_1995-2000          -5.007706\n",
      "Year_By_2001-2005          -4.233928\n",
      "Year_By_2006-2010          -3.386604\n",
      "Year_By_2011-2015          -1.407664\n",
      "Fuel_Type_Diesel            1.535426\n",
      "Fuel_Type_Electric          8.696152\n",
      "Fuel_Type_LPG               1.019961\n",
      "Transmission_Automatic      0.896464\n",
      "Owner_Type_Second          -0.514397\n",
      "Owner_Type_Third           -0.845672\n",
      "Company_Audi                7.305450\n",
      "Company_BMW                 6.279078\n",
      "Company_Bentley             9.420107\n",
      "Company_Fiat               -1.049141\n",
      "Company_Ford                0.313461\n",
      "Company_Honda               0.109014\n",
      "Company_Isuzu               7.208099\n",
      "Company_Jaguar              6.972843\n",
      "Company_Jeep                7.473932\n",
      "Company_Land                7.861855\n",
      "Company_Mahindra           -0.432428\n",
      "Company_Maruti              0.334200\n",
      "Company_Mercedes-Benz       6.467534\n",
      "Company_Mini                9.809898\n",
      "Company_Nissan             -0.284264\n",
      "Company_Porsche             6.686578\n",
      "Company_Skoda               0.820657\n",
      "Company_Toyota              3.408032\n",
      "Company_Volkswagen         -0.179317\n",
      "Company_Volvo               6.601558\n",
      "Seats_4.0                  -1.095131\n",
      "Seats_5.0                  -1.308539\n",
      "Seats_8.0                  -0.622837\n",
      "Seats_9.0                  -3.174893\n",
      "Intercept                  13.620678\n",
      "\n",
      "\n",
      "Training Performance\n",
      "\n",
      "       RMSE       MAE       MAPE      R^2  Adjusted R^2\n",
      "0  2.055031  1.503913  27.807482  0.86742      0.866234\n"
     ]
    }
   ],
   "source": [
    "#Fitting linear model\n",
    "regression_model2 = LinearRegression()\n",
    "regression_model2.fit(X_train_final,y_train)\n",
    "\n",
    "# let us check the coefficients and intercept of the model\n",
    "\n",
    "coef_df = pd.DataFrame(np.append(regression_model2.coef_.flatten(), regression_model2.intercept_), \\\n",
    "                       index=X_train_final.columns.tolist()+['Intercept'], columns=['Coefficients'])\n",
    "print(coef_df)\n",
    "\n",
    "# model performance on train set\n",
    "print('\\n\\nTraining Performance\\n')\n",
    "print(model_perf(regression_model2, X_train_final, y_train))"
   ]
  },
  {
   "cell_type": "code",
   "execution_count": 124,
   "metadata": {},
   "outputs": [
    {
     "name": "stdout",
     "output_type": "stream",
     "text": [
      "Test Performance\n",
      "\n",
      "       RMSE       MAE       MAPE       R^2  Adjusted R^2\n",
      "0  2.087536  1.518559  27.094889  0.861259      0.858328\n"
     ]
    }
   ],
   "source": [
    "# model performance on test set\n",
    "print('Test Performance\\n')\n",
    "print(model_perf(regression_model2, X_test_final, y_test))"
   ]
  },
  {
   "cell_type": "markdown",
   "metadata": {},
   "source": [
    "* **Both $R^2$ score and RMSE show that the model fitted is good, has no overfitting and can be used for making predictions.**\n",
    "* **We can observe here that the results from 'regression_model1' and 'regression_model2' models are approximately same.**\n"
   ]
  },
  {
   "cell_type": "markdown",
   "metadata": {},
   "source": [
    "## Actionable Insights & Recommendations\n",
    "**Conclude with the key takeaways for the business - what would your advice be to grow the business?**\n",
    "\n",
    "### Insights\n",
    "1. Mileage, Kilometers_Driven, car's age and level of ownership (second and above) affects the used car's price negatively.\n",
    "2. Luxury car brands like BMW, Audi, Bentley, Porche etc contributes positively to the used car price.\n",
    "3. Electric Fuel type is also contributing positively to used car price.\n",
    "4. Automatic used cars can sell for higher price than manual transmission.\n",
    "5. Selling used cars in locations like Bangalore and Hyderabad, will increase the value of used car.\n",
    "\n",
    "### Recommendations\n",
    "1. Business can dedicate department to the sale of used Luxury Car Brands like BMW, Audi and Bentley as the price is usually high for these vehicles.\n",
    "2. Electric cars is also another category which is preferred in used cars market, so Business can invest there.\n",
    "3. Other preferred brand in non Luxury segment is Maruti.\n",
    "4. Business can focus on used car markets in cities like Bangalore and Hyderabad where used cars can be valued more.\n",
    "\n",
    "**While making price decisions, business can look at following points to value the used car accurately:**\n",
    "\n",
    "- The higher the Power of the used car, it affects the price positively.\n",
    "- The more the car is driven, affects the price of used car negatively.\n",
    "- Electric Fuel Type increases the value of used car.\n",
    "- The older the car (Manufactured year) the value of the car will decrease.\n",
    "- The price of car when purchased new, does not impact the value of car when reselling.\n",
    "- If the car is Automatic transmission, this will impact positively to used car value.\n",
    "- Sale of used cars after Second ownership (Third and onwards) will negatively affect the value of used car.\n",
    "- In few locations like Bangalore and Coimbatore the used cars can sell for higher price than other cities.\n",
    "\n"
   ]
  },
  {
   "cell_type": "code",
   "execution_count": null,
   "metadata": {},
   "outputs": [],
   "source": []
  }
 ],
 "metadata": {
  "kernelspec": {
   "display_name": "Python 3",
   "language": "python",
   "name": "python3"
  },
  "language_info": {
   "codemirror_mode": {
    "name": "ipython",
    "version": 3
   },
   "file_extension": ".py",
   "mimetype": "text/x-python",
   "name": "python",
   "nbconvert_exporter": "python",
   "pygments_lexer": "ipython3",
   "version": "3.7.6"
  }
 },
 "nbformat": 4,
 "nbformat_minor": 4
}
